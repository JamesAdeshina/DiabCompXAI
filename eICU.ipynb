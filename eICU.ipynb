{
 "cells": [
  {
   "metadata": {
    "ExecuteTime": {
     "end_time": "2025-06-26T21:41:09.367250Z",
     "start_time": "2025-06-26T21:41:09.331947Z"
    }
   },
   "cell_type": "code",
   "source": [
    "# Early Prediction of Diabetic Complications - eICU Starter Notebook\n",
    "\n",
    "from pyspark.sql import SparkSession\n",
    "from pyspark.sql.functions import lower, col\n",
    "from pyspark.sql.functions import col, lit\n"
   ],
   "id": "febed20cfe4d7367",
   "outputs": [],
   "execution_count": 68
  },
  {
   "metadata": {
    "ExecuteTime": {
     "end_time": "2025-06-26T19:51:38.770561Z",
     "start_time": "2025-06-26T19:51:38.215863Z"
    }
   },
   "cell_type": "code",
   "outputs": [
    {
     "name": "stderr",
     "output_type": "stream",
     "text": [
      "25/06/26 20:51:38 WARN SparkSession: Using an existing Spark session; only runtime SQL configurations will take effect.\n"
     ]
    }
   ],
   "execution_count": 45,
   "source": [
    "\n",
    "# Create Spark session\n",
    "spark = SparkSession.builder \\\n",
    "    .appName(\"eICU EDA\") \\\n",
    "    .getOrCreate()\n",
    "\n",
    "# Example path to your CSVs — adjust as needed\n",
    "data_path = \"Dataset/eicu-collaborative-research-database-2.0/\"  # Change this to your actual folder\n",
    "\n",
    "\n"
   ],
   "id": "3b09f8798836f698"
  },
  {
   "metadata": {
    "ExecuteTime": {
     "end_time": "2025-06-26T19:51:58.721728Z",
     "start_time": "2025-06-26T19:51:42.887530Z"
    }
   },
   "cell_type": "code",
   "source": [
    "# Load patient and diagnosis tables\n",
    "patient_df = spark.read.csv(f\"{data_path}/patient.csv.gz\", header=True, inferSchema=True)\n",
    "diagnosis_df = spark.read.csv(f\"{data_path}/diagnosis.csv.gz\", header=True, inferSchema=True)\n",
    "\n",
    "# Preview\n",
    "patient_df.show(5)\n",
    "diagnosis_df.show(5)\n"
   ],
   "id": "75067cb92789d472",
   "outputs": [
    {
     "name": "stderr",
     "output_type": "stream",
     "text": [
      "                                                                                \r"
     ]
    },
    {
     "name": "stdout",
     "output_type": "stream",
     "text": [
      "+-----------------+-------------------------+------+---+---------+----------+------+--------------------+---------------+-------------------+-------------------+--------------------+---------------------+-----------------------+-----------------------+-------------------------+-----------------------+------------+-------------------+--------------------+---------------+--------------+---------------+---------------+-------------------+-------------------+---------------------+-------------------+---------+\n",
      "|patientunitstayid|patienthealthsystemstayid|gender|age|ethnicity|hospitalid|wardid|   apacheadmissiondx|admissionheight|hospitaladmittime24|hospitaladmitoffset| hospitaladmitsource|hospitaldischargeyear|hospitaldischargetime24|hospitaldischargeoffset|hospitaldischargelocation|hospitaldischargestatus|    unittype|    unitadmittime24|     unitadmitsource|unitvisitnumber|  unitstaytype|admissionweight|dischargeweight|unitdischargetime24|unitdischargeoffset|unitdischargelocation|unitdischargestatus|uniquepid|\n",
      "+-----------------+-------------------------+------+---+---------+----------+------+--------------------+---------------+-------------------+-------------------+--------------------+---------------------+-----------------------+-----------------------+-------------------------+-----------------------+------------+-------------------+--------------------+---------------+--------------+---------------+---------------+-------------------+-------------------+---------------------+-------------------+---------+\n",
      "|           141168|                   128919|Female| 70|Caucasian|        59|    91|Rhythm disturbanc...|          152.4|2025-06-26 15:54:00|                  0|        Direct Admit|                 2015|    2025-06-26 03:50:00|                   3596|                    Death|                Expired|Med-Surg ICU|2025-06-26 15:54:00|        Direct Admit|              1|         admit|           84.3|           85.8|2025-06-26 03:50:00|               3596|                Death|            Expired|002-34851|\n",
      "|           141178|                   128927|Female| 52|Caucasian|        60|    83|                NULL|          162.6|2025-06-26 08:56:00|                -14|Emergency Department|                 2015|    2025-06-26 19:20:00|                   2050|                     Home|                  Alive|Med-Surg ICU|2025-06-26 09:10:00|Emergency Department|              1|         admit|           54.4|           54.4|2025-06-26 09:18:00|                  8| Step-Down Unit (SDU)|              Alive|002-33870|\n",
      "|           141179|                   128927|Female| 52|Caucasian|        60|    83|                NULL|          162.6|2025-06-26 08:56:00|                -22|Emergency Department|                 2015|    2025-06-26 19:20:00|                   2042|                     Home|                  Alive|Med-Surg ICU|2025-06-26 09:18:00|          ICU to SDU|              2|stepdown/other|           NULL|           60.4|2025-06-26 19:20:00|               2042|                 Home|              Alive|002-33870|\n",
      "|           141194|                   128941|  Male| 68|Caucasian|        73|    92|Sepsis, renal/UTI...|          180.3|2025-06-26 18:18:40|               -780|               Floor|                 2015|    2025-06-26 23:30:00|                  12492|                     Home|                  Alive|       CTICU|2025-06-26 07:18:00|               Floor|              1|         admit|           73.9|           76.7|2025-06-26 15:31:00|               4813|                Floor|              Alive| 002-5276|\n",
      "|           141196|                   128943|  Male| 71|Caucasian|        67|   109|                NULL|          162.6|2025-06-26 20:21:00|                -99|Emergency Department|                 2015|    2025-06-26 17:00:00|                   5460|                     Home|                  Alive|Med-Surg ICU|2025-06-26 22:00:00|          ICU to SDU|              2|stepdown/other|           NULL|           63.2|2025-06-26 22:23:00|               1463|                Floor|              Alive|002-37665|\n",
      "+-----------------+-------------------------+------+---+---------+----------+------+--------------------+---------------+-------------------+-------------------+--------------------+---------------------+-----------------------+-----------------------+-------------------------+-----------------------+------------+-------------------+--------------------+---------------+--------------+---------------+---------------+-------------------+-------------------+---------------------+-------------------+---------+\n",
      "only showing top 5 rows\n",
      "\n",
      "+-----------+-----------------+-------------------+---------------+--------------------+--------------+-----------------+\n",
      "|diagnosisid|patientunitstayid|activeupondischarge|diagnosisoffset|     diagnosisstring|      icd9code|diagnosispriority|\n",
      "+-----------+-----------------+-------------------+---------------+--------------------+--------------+-----------------+\n",
      "|    4222318|           141168|              false|             72|cardiovascular|ch...|414.00, I25.10|            Other|\n",
      "|    3370568|           141168|               true|            118|cardiovascular|ve...|          NULL|            Other|\n",
      "|    4160941|           141168|              false|             72|pulmonary|disorde...| 491.20, J44.9|            Other|\n",
      "|    4103261|           141168|               true|            118|pulmonary|disorde...| 491.20, J44.9|            Other|\n",
      "|    3545241|           141168|               true|            118|cardiovascular|ve...|  428.0, I50.9|            Other|\n",
      "+-----------+-----------------+-------------------+---------------+--------------------+--------------+-----------------+\n",
      "only showing top 5 rows\n",
      "\n"
     ]
    }
   ],
   "execution_count": 46
  },
  {
   "metadata": {
    "ExecuteTime": {
     "end_time": "2025-06-26T19:57:24.094199Z",
     "start_time": "2025-06-26T19:57:14.638955Z"
    }
   },
   "cell_type": "code",
   "source": [
    "\n",
    "# Filter diagnoses with 'diabetes' in the string\n",
    "diabetic_df = diagnosis_df.filter(lower(col(\"diagnosisstring\")).like(\"%diabet%\")) \\\n",
    "                          .select(\"patientunitstayid\").distinct()\n",
    "\n",
    "# Count diabetic patients\n",
    "print(\"Total diabetic patients:\", diabetic_df.count())\n"
   ],
   "id": "8446577132a90215",
   "outputs": [
    {
     "name": "stderr",
     "output_type": "stream",
     "text": [
      "[Stage 229:>                                                        (0 + 1) / 1]\r"
     ]
    },
    {
     "name": "stdout",
     "output_type": "stream",
     "text": [
      "Total diabetic patients: 19935\n"
     ]
    },
    {
     "name": "stderr",
     "output_type": "stream",
     "text": [
      "                                                                                \r"
     ]
    }
   ],
   "execution_count": 48
  },
  {
   "metadata": {
    "ExecuteTime": {
     "end_time": "2025-06-26T19:57:40.548869Z",
     "start_time": "2025-06-26T19:57:24.329911Z"
    }
   },
   "cell_type": "code",
   "source": [
    "# Join to patient table for demographic context\n",
    "diabetic_patients = diabetic_df.join(patient_df, on=\"patientunitstayid\", how=\"left\")\n",
    "diabetic_patients.show(5)\n"
   ],
   "id": "f4a5f8ec3f382292",
   "outputs": [
    {
     "name": "stderr",
     "output_type": "stream",
     "text": [
      "[Stage 236:>                                                        (0 + 1) / 1]\r"
     ]
    },
    {
     "name": "stdout",
     "output_type": "stream",
     "text": [
      "+-----------------+-------------------------+------+---+----------------+----------+------+--------------------+---------------+-------------------+-------------------+--------------------+---------------------+-----------------------+-----------------------+-------------------------+-----------------------+------------+-------------------+--------------------+---------------+------------+---------------+---------------+-------------------+-------------------+---------------------+-------------------+---------+\n",
      "|patientunitstayid|patienthealthsystemstayid|gender|age|       ethnicity|hospitalid|wardid|   apacheadmissiondx|admissionheight|hospitaladmittime24|hospitaladmitoffset| hospitaladmitsource|hospitaldischargeyear|hospitaldischargetime24|hospitaldischargeoffset|hospitaldischargelocation|hospitaldischargestatus|    unittype|    unitadmittime24|     unitadmitsource|unitvisitnumber|unitstaytype|admissionweight|dischargeweight|unitdischargetime24|unitdischargeoffset|unitdischargelocation|unitdischargestatus|uniquepid|\n",
      "+-----------------+-------------------------+------+---+----------------+----------+------+--------------------+---------------+-------------------+-------------------+--------------------+---------------------+-----------------------+-----------------------+-------------------------+-----------------------+------------+-------------------+--------------------+---------------+------------+---------------+---------------+-------------------+-------------------+---------------------+-------------------+---------+\n",
      "|           145123|                   131973|  Male| 83|       Caucasian|        71|    87|Thoracotomy for l...|          171.5|2025-06-26 16:28:00|                 -6|      Operating Room|                 2014|    2025-06-26 19:20:00|                   5926|                     Home|                  Alive|Med-Surg ICU|2025-06-26 16:34:00|      Operating Room|              1|       admit|           NULL|           97.4|2025-06-26 08:44:00|               2410|            Telemetry|              Alive|002-26235|\n",
      "|           157793|                   141772|  Male| 35|       Caucasian|        71|   113|Overdose, street ...|          182.9|2025-06-26 21:00:00|                 -6|                NULL|                 2015|    2025-06-26 18:37:00|                   5611|                    Other|                  Alive|Med-Surg ICU|2025-06-26 21:06:00|Emergency Department|              1|       admit|           83.7|           82.4|2025-06-26 23:53:00|               1607|                Floor|              Alive|002-37820|\n",
      "|           158803|                   142543|  Male| 52|African American|        73|    97|Emphysema/bronchitis|          167.6|2025-06-26 23:34:00|             -23988|Emergency Department|                 2014|    2025-06-26 04:25:00|                   9423|           Other External|                  Alive|        MICU|2025-06-26 15:22:00|               Floor|              4|     readmit|           82.9|           88.7|2025-06-26 04:25:00|               9423|       Other External|              Alive|002-37090|\n",
      "|           164603|                   147009|  Male| 62|       Caucasian|        73|    97|Respiratory - med...|          182.9|2025-06-26 20:42:00|              -5536|               Floor|                 2014|    2025-06-26 20:36:00|                  14618|                     Home|                  Alive|        MICU|2025-06-26 16:58:00|               Floor|              1|       admit|          126.7|          127.9|2025-06-26 01:44:00|               3406|                Floor|              Alive|002-23992|\n",
      "|           175925|                   155809|Female| 51|       Caucasian|        73|    92|CABG alone, coron...|          167.6|2025-06-26 16:04:00|                  0|      Operating Room|                 2014|    2025-06-26 16:18:00|                   7214|                     Home|                  Alive|       CTICU|2025-06-26 16:04:00|      Operating Room|              1|       admit|           NULL|          131.3|2025-06-26 14:34:00|               2790|                Floor|              Alive|002-40817|\n",
      "+-----------------+-------------------------+------+---+----------------+----------+------+--------------------+---------------+-------------------+-------------------+--------------------+---------------------+-----------------------+-----------------------+-------------------------+-----------------------+------------+-------------------+--------------------+---------------+------------+---------------+---------------+-------------------+-------------------+---------------------+-------------------+---------+\n",
      "only showing top 5 rows\n",
      "\n"
     ]
    },
    {
     "name": "stderr",
     "output_type": "stream",
     "text": [
      "                                                                                \r"
     ]
    }
   ],
   "execution_count": 49
  },
  {
   "metadata": {
    "ExecuteTime": {
     "end_time": "2025-06-26T19:57:59.510136Z",
     "start_time": "2025-06-26T19:57:59.386920Z"
    }
   },
   "cell_type": "code",
   "source": [
    "complication_terms = {\n",
    "    \"comp_nephropathy\": \"nephropathy|renal failure|chronic kidney\",\n",
    "    \"comp_retinopathy\": \"retinopathy\",\n",
    "    \"comp_neuropathy\": \"neuropathy\",\n",
    "    \"comp_cardio\": \"cardiovascular|heart failure|myocardial|infarction|angina\",\n",
    "    \"comp_foot_ulcer\": \"foot ulcer\"\n",
    "}\n",
    "\n",
    "# Add complication flags\n",
    "for name, pattern in complication_terms.items():\n",
    "    diagnosis_df = diagnosis_df.withColumn(\n",
    "        name,\n",
    "        (lower(col(\"diagnosisstring\")).rlike(pattern)).cast(\"int\")\n",
    "    )\n"
   ],
   "id": "8ea1545741a7326f",
   "outputs": [],
   "execution_count": 52
  },
  {
   "metadata": {
    "ExecuteTime": {
     "end_time": "2025-06-26T19:58:18.195545Z",
     "start_time": "2025-06-26T19:58:18.107128Z"
    }
   },
   "cell_type": "code",
   "source": [
    "from pyspark.sql.functions import max as spark_max\n",
    "\n",
    "# Group by patientunitstayid and get max (presence) of each complication\n",
    "comp_flags = diagnosis_df.groupBy(\"patientunitstayid\").agg(\n",
    "    *[spark_max(col(flag)).alias(flag) for flag in complication_terms.keys()]\n",
    ")\n"
   ],
   "id": "3239ca4ce534691",
   "outputs": [],
   "execution_count": 53
  },
  {
   "metadata": {
    "ExecuteTime": {
     "end_time": "2025-06-26T19:58:48.042274Z",
     "start_time": "2025-06-26T19:58:21.515451Z"
    }
   },
   "cell_type": "code",
   "source": [
    "# Final joined dataframe\n",
    "final_df = diabetic_patients.join(comp_flags, on=\"patientunitstayid\", how=\"left\").fillna(0)\n",
    "\n",
    "# Show a few rows\n",
    "final_df.select(\"patientunitstayid\", \"gender\", \"age\", *complication_terms.keys()).show(10)\n"
   ],
   "id": "6f533335e304906a",
   "outputs": [
    {
     "name": "stderr",
     "output_type": "stream",
     "text": [
      "                                                                                \r"
     ]
    },
    {
     "name": "stdout",
     "output_type": "stream",
     "text": [
      "+-----------------+------+---+----------------+----------------+---------------+-----------+---------------+\n",
      "|patientunitstayid|gender|age|comp_nephropathy|comp_retinopathy|comp_neuropathy|comp_cardio|comp_foot_ulcer|\n",
      "+-----------------+------+---+----------------+----------------+---------------+-----------+---------------+\n",
      "|           145123|  Male| 83|               0|               0|              0|          0|              0|\n",
      "|           157793|  Male| 35|               0|               0|              0|          0|              0|\n",
      "|           158803|  Male| 52|               0|               0|              0|          1|              0|\n",
      "|           164603|  Male| 62|               0|               0|              0|          1|              0|\n",
      "|           175925|Female| 51|               0|               0|              0|          1|              0|\n",
      "|           185795|  Male| 68|               0|               0|              0|          1|              0|\n",
      "|           188834|Female| 59|               0|               0|              0|          1|              0|\n",
      "|           189149|  Male| 80|               0|               0|              0|          1|              0|\n",
      "|           195263|Female| 73|               1|               0|              0|          1|              0|\n",
      "|           214547|  Male| 65|               0|               0|              0|          1|              0|\n",
      "+-----------------+------+---+----------------+----------------+---------------+-----------+---------------+\n",
      "only showing top 10 rows\n",
      "\n"
     ]
    }
   ],
   "execution_count": 54
  },
  {
   "metadata": {
    "ExecuteTime": {
     "end_time": "2025-06-26T20:01:33.716005Z",
     "start_time": "2025-06-26T20:01:09.831400Z"
    }
   },
   "cell_type": "code",
   "source": [
    "final_df.select([\"comp_nephropathy\", \"comp_retinopathy\", \"comp_neuropathy\", \"comp_cardio\", \"comp_foot_ulcer\"]) \\\n",
    "        .groupBy().sum().show()\n"
   ],
   "id": "5f2c548a2adad3d6",
   "outputs": [
    {
     "name": "stderr",
     "output_type": "stream",
     "text": [
      "                                                                                \r"
     ]
    },
    {
     "name": "stdout",
     "output_type": "stream",
     "text": [
      "+---------------------+---------------------+--------------------+----------------+--------------------+\n",
      "|sum(comp_nephropathy)|sum(comp_retinopathy)|sum(comp_neuropathy)|sum(comp_cardio)|sum(comp_foot_ulcer)|\n",
      "+---------------------+---------------------+--------------------+----------------+--------------------+\n",
      "|                 5667|                    0|                 343|           16282|                   0|\n",
      "+---------------------+---------------------+--------------------+----------------+--------------------+\n",
      "\n"
     ]
    }
   ],
   "execution_count": 55
  },
  {
   "metadata": {
    "ExecuteTime": {
     "end_time": "2025-06-26T20:28:26.071953Z",
     "start_time": "2025-06-26T20:28:25.223482Z"
    }
   },
   "cell_type": "code",
   "source": [
    "from pyspark.sql.functions import col, when\n",
    "\n",
    "final_df = final_df.withColumn(\n",
    "    \"has_complication\",\n",
    "    when((col(\"comp_cardio\") == 1) | (col(\"comp_nephropathy\") == 1), 1).otherwise(0)\n",
    ")\n"
   ],
   "id": "c9d0708c16ae9d06",
   "outputs": [],
   "execution_count": 56
  },
  {
   "metadata": {
    "ExecuteTime": {
     "end_time": "2025-06-26T20:29:08.267866Z",
     "start_time": "2025-06-26T20:28:44.896356Z"
    }
   },
   "cell_type": "code",
   "source": "final_df.show()",
   "id": "e100ee3ae1c47956",
   "outputs": [
    {
     "name": "stderr",
     "output_type": "stream",
     "text": [
      "                                                                                \r"
     ]
    },
    {
     "name": "stdout",
     "output_type": "stream",
     "text": [
      "+-----------------+-------------------------+------+---+----------------+----------+------+--------------------+---------------+-------------------+-------------------+--------------------+---------------------+-----------------------+-----------------------+-------------------------+-----------------------+------------+-------------------+--------------------+---------------+------------+---------------+---------------+-------------------+-------------------+---------------------+-------------------+---------+----------------+----------------+---------------+-----------+---------------+----------------+\n",
      "|patientunitstayid|patienthealthsystemstayid|gender|age|       ethnicity|hospitalid|wardid|   apacheadmissiondx|admissionheight|hospitaladmittime24|hospitaladmitoffset| hospitaladmitsource|hospitaldischargeyear|hospitaldischargetime24|hospitaldischargeoffset|hospitaldischargelocation|hospitaldischargestatus|    unittype|    unitadmittime24|     unitadmitsource|unitvisitnumber|unitstaytype|admissionweight|dischargeweight|unitdischargetime24|unitdischargeoffset|unitdischargelocation|unitdischargestatus|uniquepid|comp_nephropathy|comp_retinopathy|comp_neuropathy|comp_cardio|comp_foot_ulcer|has_complication|\n",
      "+-----------------+-------------------------+------+---+----------------+----------+------+--------------------+---------------+-------------------+-------------------+--------------------+---------------------+-----------------------+-----------------------+-------------------------+-----------------------+------------+-------------------+--------------------+---------------+------------+---------------+---------------+-------------------+-------------------+---------------------+-------------------+---------+----------------+----------------+---------------+-----------+---------------+----------------+\n",
      "|           145123|                   131973|  Male| 83|       Caucasian|        71|    87|Thoracotomy for l...|          171.5|2025-06-26 16:28:00|                 -6|      Operating Room|                 2014|    2025-06-26 19:20:00|                   5926|                     Home|                  Alive|Med-Surg ICU|2025-06-26 16:34:00|      Operating Room|              1|       admit|            0.0|           97.4|2025-06-26 08:44:00|               2410|            Telemetry|              Alive|002-26235|               0|               0|              0|          0|              0|               0|\n",
      "|           157793|                   141772|  Male| 35|       Caucasian|        71|   113|Overdose, street ...|          182.9|2025-06-26 21:00:00|                 -6|                NULL|                 2015|    2025-06-26 18:37:00|                   5611|                    Other|                  Alive|Med-Surg ICU|2025-06-26 21:06:00|Emergency Department|              1|       admit|           83.7|           82.4|2025-06-26 23:53:00|               1607|                Floor|              Alive|002-37820|               0|               0|              0|          0|              0|               0|\n",
      "|           158803|                   142543|  Male| 52|African American|        73|    97|Emphysema/bronchitis|          167.6|2025-06-26 23:34:00|             -23988|Emergency Department|                 2014|    2025-06-26 04:25:00|                   9423|           Other External|                  Alive|        MICU|2025-06-26 15:22:00|               Floor|              4|     readmit|           82.9|           88.7|2025-06-26 04:25:00|               9423|       Other External|              Alive|002-37090|               0|               0|              0|          1|              0|               1|\n",
      "|           164603|                   147009|  Male| 62|       Caucasian|        73|    97|Respiratory - med...|          182.9|2025-06-26 20:42:00|              -5536|               Floor|                 2014|    2025-06-26 20:36:00|                  14618|                     Home|                  Alive|        MICU|2025-06-26 16:58:00|               Floor|              1|       admit|          126.7|          127.9|2025-06-26 01:44:00|               3406|                Floor|              Alive|002-23992|               0|               0|              0|          1|              0|               1|\n",
      "|           175925|                   155809|Female| 51|       Caucasian|        73|    92|CABG alone, coron...|          167.6|2025-06-26 16:04:00|                  0|      Operating Room|                 2014|    2025-06-26 16:18:00|                   7214|                     Home|                  Alive|       CTICU|2025-06-26 16:04:00|      Operating Room|              1|       admit|            0.0|          131.3|2025-06-26 14:34:00|               2790|                Floor|              Alive|002-40817|               0|               0|              0|          1|              0|               1|\n",
      "|           185795|                   163487|  Male| 68|       Caucasian|        67|   109|Hypovolemia (incl...|          182.9|2025-06-26 00:46:00|                 -1|                NULL|                 2014|    2025-06-26 05:20:00|                  14673|                    Death|                Expired|Med-Surg ICU|2025-06-26 00:47:00|Emergency Department|              1|       admit|           73.1|           79.2|2025-06-26 20:24:00|               1177|                Floor|              Alive|002-35904|               0|               0|              0|          1|              0|               1|\n",
      "|           188834|                   165881|Female| 59|       Caucasian|        71|   113|Head/extremity tr...|          167.0|2025-06-26 01:00:00|                -15|                NULL|                 2014|    2025-06-26 21:03:00|                   9828|     Skilled Nursing F...|                  Alive|Med-Surg ICU|2025-06-26 01:15:00|Emergency Department|              1|       admit|          130.2|          128.1|2025-06-26 16:48:00|               2373| Step-Down Unit (SDU)|              Alive|002-41281|               0|               0|              0|          1|              0|               1|\n",
      "|           189149|                   166133|  Male| 80|       Caucasian|        73|    92|  Bleeding, lower GI|          172.7|2025-06-26 02:09:00|                -21|Emergency Department|                 2014|    2025-06-26 19:00:00|                   3870|                     Home|                  Alive|       CTICU|2025-06-26 02:30:00|Emergency Department|              1|       admit|           70.3|           69.3|2025-06-26 18:09:00|               2379|                Floor|              Alive|002-23574|               0|               0|              0|          1|              0|               1|\n",
      "|           195263|                   170918|Female| 73|       Caucasian|        73|    92|          Sepsis, GI|          166.4|2025-06-26 12:19:00|                  0|Emergency Department|                 2014|    2025-06-26 21:30:00|                  13511|                     Home|                  Alive|       CTICU|2025-06-26 12:19:00|Emergency Department|              1|       admit|            0.0|          119.6|2025-06-26 15:00:00|               7361|                Floor|              Alive|002-32138|               1|               0|              0|          1|              0|               1|\n",
      "|           214547|                   185911|  Male| 65|       Caucasian|        73|    92|Aortic valve repl...|          185.4|2025-06-26 22:58:00|                 -2|      Operating Room|                 2014|    2025-06-26 21:12:00|                  15732|                     Home|                  Alive|       CTICU|2025-06-26 23:00:00|      Operating Room|              1|       admit|           97.2|           93.9|2025-06-26 22:00:00|               7140|                Floor|              Alive|002-72220|               0|               0|              0|          1|              0|               1|\n",
      "|           234179|                   201146|Female| 73|       Caucasian|        73|   114|Emphysema/bronchitis|          170.2|2025-06-26 20:56:00|                -27|Emergency Department|                 2014|    2025-06-26 19:15:00|                  30112|     Skilled Nursing F...|                  Alive|   CCU-CTICU|2025-06-26 21:23:00|Emergency Department|              1|       admit|          116.6|          101.7|2025-06-26 21:40:00|              12977|                Floor|              Alive|002-58642|               1|               0|              0|          0|              0|               1|\n",
      "|           239049|                   204955|  Male| 68|       Caucasian|        69|    98|    Pneumonia, other|          182.9|2025-06-26 02:27:00|              -1577|               Floor|                 2014|    2025-06-26 21:37:00|                  12533|     Skilled Nursing F...|                  Alive|Med-Surg ICU|2025-06-26 04:44:00|               Floor|              1|       admit|          108.8|          108.7|2025-06-26 21:14:00|               6750|                Floor|              Alive|002-14203|               1|               0|              0|          1|              0|               1|\n",
      "|           276652|                   238241|  Male| 65|       Caucasian|        79|   133|Coma/change in le...|          177.8|2025-06-26 07:09:00|             -12496|               Floor|                 2015|    2025-06-26 17:25:00|                   5400|                    Death|                Expired|Med-Surg ICU|2025-06-26 23:25:00|               Floor|              1|       admit|           96.4|           94.9|2025-06-26 18:56:00|               2611|                Floor|              Alive|003-29390|               0|               0|              0|          1|              0|               1|\n",
      "|           323084|                   278825|  Male| 67|African American|       110|   185|Cardiac arrest (w...|          185.4|2025-06-26 20:05:00|               -150|Emergency Department|                 2015|    2025-06-26 16:58:00|                   1103|                    Death|                Expired|   CCU-CTICU|2025-06-26 22:35:00|Emergency Department|              1|       admit|          113.2|            0.0|2025-06-26 16:58:00|               1103|                Death|            Expired|004-31017|               0|               0|              0|          1|              0|               1|\n",
      "|           334772|                   288441|Female| 75|African American|       122|   212|    Pneumonia, other|          167.6|2025-06-26 09:22:00|              -6065|               Floor|                 2015|    2025-06-26 22:33:00|                   7686|     Skilled Nursing F...|                  Alive| Cardiac ICU|2025-06-26 14:27:00|               Floor|              1|       admit|          113.5|            0.0|2025-06-26 22:33:00|               7686| Skilled Nursing F...|              Alive|004-90130|               1|               0|              0|          1|              0|               1|\n",
      "|           348799|                   299895|  Male| 59|       Caucasian|       122|   236|     Sepsis, unknown|          180.3|2025-06-26 22:30:00|               -361|Emergency Department|                 2015|    2025-06-26 20:30:00|                   2399|                     Home|                  Alive|Med-Surg ICU|2025-06-26 04:31:00|Emergency Department|              1|       admit|          95.57|            0.0|2025-06-26 18:32:00|                841|                Floor|              Alive|004-31574|               0|               0|              0|          1|              0|               1|\n",
      "|           351086|                   301784|Female| 77|       Caucasian|       122|   236|Cardiac arrest (w...|          168.0|2025-06-26 23:39:00|              -1266|               Floor|                 2014|    2025-06-26 20:45:00|                   8640|                    Death|                Expired|Med-Surg ICU|2025-06-26 20:45:00|               Floor|              1|       admit|           75.1|            0.0|2025-06-26 02:52:00|               3247|                Floor|              Alive|004-83125|               0|               0|              0|          1|              0|               1|\n",
      "|           354173|                   304374|  Male| 73|       Caucasian|       110|   185|CABG alone, coron...|          182.9|2025-06-26 10:28:00|               -374|      Operating Room|                 2015|    2025-06-26 20:16:00|                   4534|                     Home|                  Alive|   CCU-CTICU|2025-06-26 16:42:00|      Operating Room|              1|       admit|            0.0|            0.0|2025-06-26 23:03:00|               3261| Step-Down Unit (SDU)|              Alive|004-88889|               0|               0|              0|          1|              0|               1|\n",
      "|           376563|                   322745|  Male| 80|       Caucasian|       110|   185|Rhythm disturbanc...|          185.0|2025-06-26 13:17:00|               -190|Emergency Department|                 2014|    2025-06-26 20:45:00|                   1698|                     Home|                  Alive|   CCU-CTICU|2025-06-26 16:27:00|Emergency Department|              1|       admit|          117.0|            0.0|2025-06-26 20:45:00|               1698|                 Home|              Alive|004-91573|               0|               0|              0|          1|              0|               1|\n",
      "|           378403|                   324265|Female| 61|African American|       110|   251|Obstruction-airwa...|          167.6|2025-06-26 20:53:00|             -16143|Emergency Department|                 2015|    2025-06-26 20:46:00|                  12650|                     Home|                  Alive|Med-Surg ICU|2025-06-26 01:56:00|Emergency Department|              1|       admit|           92.9|            0.0|2025-06-26 16:10:00|               5174| Step-Down Unit (SDU)|              Alive|004-83074|               0|               0|              0|          1|              0|               1|\n",
      "+-----------------+-------------------------+------+---+----------------+----------+------+--------------------+---------------+-------------------+-------------------+--------------------+---------------------+-----------------------+-----------------------+-------------------------+-----------------------+------------+-------------------+--------------------+---------------+------------+---------------+---------------+-------------------+-------------------+---------------------+-------------------+---------+----------------+----------------+---------------+-----------+---------------+----------------+\n",
      "only showing top 20 rows\n",
      "\n"
     ]
    }
   ],
   "execution_count": 57
  },
  {
   "metadata": {
    "ExecuteTime": {
     "end_time": "2025-06-26T20:41:04.857106Z",
     "start_time": "2025-06-26T20:38:07.639916Z"
    }
   },
   "cell_type": "code",
   "source": [
    "# Load lab.csv.gz\n",
    "lab_df = spark.read.csv( data_path + \"lab.csv.gz\", header=True, inferSchema=True )\n",
    "\n",
    "# Filter for diabetic patients\n",
    "lab_df = lab_df.join(diabetic_df.select(\"patientunitstayid\"), on=\"patientunitstayid\", how=\"inner\")\n",
    "\n",
    "# Show common labs\n",
    "lab_df.groupBy(\"labname\").count().orderBy(\"count\", ascending=False).show(20, truncate=False)\n"
   ],
   "id": "e991c670ae2ef6d",
   "outputs": [
    {
     "name": "stderr",
     "output_type": "stream",
     "text": [
      "[Stage 268:>                                                        (0 + 1) / 1]\r"
     ]
    },
    {
     "name": "stdout",
     "output_type": "stream",
     "text": [
      "+----------------+------+\n",
      "|labname         |count |\n",
      "+----------------+------+\n",
      "|bedside glucose |694363|\n",
      "|potassium       |190019|\n",
      "|sodium          |175324|\n",
      "|glucose         |166634|\n",
      "|chloride        |164156|\n",
      "|creatinine      |163933|\n",
      "|BUN             |162684|\n",
      "|bicarbonate     |159027|\n",
      "|calcium         |158886|\n",
      "|Hgb             |154453|\n",
      "|Hct             |153595|\n",
      "|platelets x 1000|139689|\n",
      "|WBC x 1000      |137833|\n",
      "|RBC             |137350|\n",
      "|MCV             |136620|\n",
      "|MCHC            |136498|\n",
      "|anion gap       |131888|\n",
      "|RDW             |131454|\n",
      "|MCH             |128952|\n",
      "|magnesium       |83693 |\n",
      "+----------------+------+\n",
      "only showing top 20 rows\n",
      "\n"
     ]
    },
    {
     "name": "stderr",
     "output_type": "stream",
     "text": [
      "                                                                                \r"
     ]
    }
   ],
   "execution_count": 59
  },
  {
   "metadata": {
    "ExecuteTime": {
     "end_time": "2025-06-26T20:49:14.027547Z",
     "start_time": "2025-06-26T20:49:05.345846Z"
    }
   },
   "cell_type": "code",
   "source": [
    "from pyspark.sql.functions import col, lower\n",
    "\n",
    "# Focused lab names\n",
    "target_labs = [\"creatinine\", \"glucose\", \"bedside glucose\"]\n",
    "\n",
    "# Filter for diabetic patients' lab tests for creatinine and glucose\n",
    "filtered_labs = (\n",
    "    lab_df\n",
    "    .filter(lower(col(\"labname\")).isin([name.lower() for name in target_labs]))\n",
    "    .join(diabetic_df.select(\"patientunitstayid\"), on=\"patientunitstayid\", how=\"inner\")\n",
    ")\n",
    "\n",
    "filtered_labs.show(10, truncate=False)\n"
   ],
   "id": "edb2eab3704c9758",
   "outputs": [
    {
     "name": "stderr",
     "output_type": "stream",
     "text": [
      "                                                                                \r"
     ]
    },
    {
     "name": "stdout",
     "output_type": "stream",
     "text": [
      "+-----------------+--------+---------------+---------+---------------+---------+-------------+--------------------+-----------------------+----------------------+\n",
      "|patientunitstayid|labid   |labresultoffset|labtypeid|labname        |labresult|labresulttext|labmeasurenamesystem|labmeasurenameinterface|labresultrevisedoffset|\n",
      "+-----------------+--------+---------------+---------+---------------+---------+-------------+--------------------+-----------------------+----------------------+\n",
      "|141203           |58323261|-25            |4        |bedside glucose|143.0    |143          |mg/dL               |mg/dL                  |-22                   |\n",
      "|141203           |46463462|-473           |1        |glucose        |95.0     |95           |mg/dL               |mg/dL                  |-412                  |\n",
      "|141203           |45761373|1              |1        |glucose        |145.0    |145          |mg/dL               |mg/dL                  |78                    |\n",
      "|141203           |45761368|1              |1        |creatinine     |0.56     |0.56         |mg/dL               |mg/dL                  |78                    |\n",
      "|141203           |46463433|1091           |1        |creatinine     |0.71     |0.71         |mg/dL               |mg/dL                  |1158                  |\n",
      "|141203           |46463452|-473           |1        |creatinine     |0.39     |0.39         |mg/dL               |mg/dL                  |-412                  |\n",
      "|141203           |47256044|-1580          |1        |glucose        |150.0    |150          |mg/dL               |mg/dL                  |-1499                 |\n",
      "|141203           |47256034|-1580          |1        |creatinine     |0.33     |0.33         |mg/dL               |mg/dL                  |-1499                 |\n",
      "|141203           |46463443|1091           |1        |glucose        |128.0    |128          |mg/dL               |mg/dL                  |1158                  |\n",
      "|141266           |59098191|-225           |4        |bedside glucose|393.0    |393          |mg/dL               |mg/dL                  |-135                  |\n",
      "+-----------------+--------+---------------+---------+---------------+---------+-------------+--------------------+-----------------------+----------------------+\n",
      "only showing top 10 rows\n",
      "\n"
     ]
    }
   ],
   "execution_count": 60
  },
  {
   "metadata": {
    "ExecuteTime": {
     "end_time": "2025-06-26T20:50:10.457142Z",
     "start_time": "2025-06-26T20:50:09.926983Z"
    }
   },
   "cell_type": "code",
   "source": [
    "from pyspark.sql.functions import when, avg, max as spark_max, count, col\n",
    "\n",
    "# Create separate DataFrames for each test\n",
    "creatinine_df = filtered_labs.filter(lower(col(\"labname\")) == \"creatinine\")\n",
    "glucose_df = filtered_labs.filter(lower(col(\"labname\")) == \"glucose\")\n",
    "bedside_glucose_df = filtered_labs.filter(lower(col(\"labname\")) == \"bedside glucose\")\n",
    "\n",
    "# Aggregate: Creatinine\n",
    "creatinine_agg = creatinine_df.groupBy(\"patientunitstayid\").agg(\n",
    "    avg(\"labresult\").alias(\"creatinine_avg\"),\n",
    "    spark_max(\"labresult\").alias(\"creatinine_max\"),\n",
    "    count(\"labresult\").alias(\"creatinine_count\")\n",
    ")\n",
    "\n",
    "# Aggregate: Glucose\n",
    "glucose_agg = glucose_df.groupBy(\"patientunitstayid\").agg(\n",
    "    avg(\"labresult\").alias(\"glucose_avg\"),\n",
    "    spark_max(\"labresult\").alias(\"glucose_max\"),\n",
    "    count(\"labresult\").alias(\"glucose_count\")\n",
    ")\n",
    "\n",
    "# Aggregate: Bedside Glucose\n",
    "bedside_glucose_agg = bedside_glucose_df.groupBy(\"patientunitstayid\").agg(\n",
    "    avg(\"labresult\").alias(\"bedside_glucose_avg\"),\n",
    "    spark_max(\"labresult\").alias(\"bedside_glucose_max\"),\n",
    "    count(\"labresult\").alias(\"bedside_glucose_count\")\n",
    ")\n"
   ],
   "id": "f730d94684597c30",
   "outputs": [],
   "execution_count": 61
  },
  {
   "metadata": {
    "ExecuteTime": {
     "end_time": "2025-06-26T20:52:25.308023Z",
     "start_time": "2025-06-26T20:50:20.122535Z"
    }
   },
   "cell_type": "code",
   "source": [
    "# Merge all lab features\n",
    "diabetic_labs_df = (\n",
    "    diabetic_df\n",
    "    .join(creatinine_agg, on=\"patientunitstayid\", how=\"left\")\n",
    "    .join(glucose_agg, on=\"patientunitstayid\", how=\"left\")\n",
    "    .join(bedside_glucose_agg, on=\"patientunitstayid\", how=\"left\")\n",
    "    .fillna(0)  # Fill missing lab values with 0 or appropriate imputation later\n",
    ")\n",
    "\n",
    "diabetic_labs_df.show(5)\n"
   ],
   "id": "87d50b2780d911ac",
   "outputs": [
    {
     "name": "stderr",
     "output_type": "stream",
     "text": [
      "                                                                                \r"
     ]
    },
    {
     "name": "stdout",
     "output_type": "stream",
     "text": [
      "+-----------------+------------------+--------------+----------------+------------------+-----------+-------------+-------------------+-------------------+---------------------+\n",
      "|patientunitstayid|    creatinine_avg|creatinine_max|creatinine_count|       glucose_avg|glucose_max|glucose_count|bedside_glucose_avg|bedside_glucose_max|bedside_glucose_count|\n",
      "+-----------------+------------------+--------------+----------------+------------------+-----------+-------------+-------------------+-------------------+---------------------+\n",
      "|           145123|0.7666666666666666|           0.9|               3|             213.0|      213.0|            1| 139.78947368421052|              248.0|                   19|\n",
      "|           157793|1.0833333333333335|           1.7|               6|207.33333333333334|      458.0|            6|              156.0|              320.0|                   33|\n",
      "|           158803| 6.866666666666667|          8.56|               6|178.66666666666666|      206.0|            6| 165.46428571428572|              291.0|                   28|\n",
      "|           164603|             1.629|           3.0|              10|146.88888888888889|      244.0|            9|  140.4788732394366|              290.0|                   71|\n",
      "|           175925|1.3199999999999998|          1.38|               2|              80.5|       95.0|            2|  167.7826086956522|              386.0|                   46|\n",
      "+-----------------+------------------+--------------+----------------+------------------+-----------+-------------+-------------------+-------------------+---------------------+\n",
      "only showing top 5 rows\n",
      "\n"
     ]
    }
   ],
   "execution_count": 62
  },
  {
   "metadata": {
    "ExecuteTime": {
     "end_time": "2025-06-26T20:56:54.048335Z",
     "start_time": "2025-06-26T20:56:53.744295Z"
    }
   },
   "cell_type": "code",
   "source": "diabetic_labs_df.select(numeric_columns).describe().show()\n",
   "id": "6041dcfa934a2ce4",
   "outputs": [
    {
     "ename": "NameError",
     "evalue": "name 'numeric_columns' is not defined",
     "output_type": "error",
     "traceback": [
      "\u001B[0;31m---------------------------------------------------------------------------\u001B[0m",
      "\u001B[0;31mNameError\u001B[0m                                 Traceback (most recent call last)",
      "Cell \u001B[0;32mIn[63], line 1\u001B[0m\n\u001B[0;32m----> 1\u001B[0m diabetic_labs_df\u001B[38;5;241m.\u001B[39mselect(numeric_columns)\u001B[38;5;241m.\u001B[39mdescribe()\u001B[38;5;241m.\u001B[39mshow()\n",
      "\u001B[0;31mNameError\u001B[0m: name 'numeric_columns' is not defined"
     ]
    }
   ],
   "execution_count": 63
  },
  {
   "metadata": {
    "ExecuteTime": {
     "end_time": "2025-06-26T21:00:24.390008Z",
     "start_time": "2025-06-26T20:58:17.871549Z"
    }
   },
   "cell_type": "code",
   "source": [
    "from pyspark.sql.functions import col, isnan, when, count\n",
    "\n",
    "diabetic_labs_df.select([\n",
    "    count(when(col(c).isNull() | isnan(c), c)).alias(c)\n",
    "    for c in diabetic_labs_df.columns\n",
    "]).show()\n"
   ],
   "id": "5822b8a4e3fecea6",
   "outputs": [
    {
     "name": "stderr",
     "output_type": "stream",
     "text": [
      "                                                                                \r"
     ]
    },
    {
     "name": "stdout",
     "output_type": "stream",
     "text": [
      "+-----------------+--------------+--------------+----------------+-----------+-----------+-------------+-------------------+-------------------+---------------------+\n",
      "|patientunitstayid|creatinine_avg|creatinine_max|creatinine_count|glucose_avg|glucose_max|glucose_count|bedside_glucose_avg|bedside_glucose_max|bedside_glucose_count|\n",
      "+-----------------+--------------+--------------+----------------+-----------+-----------+-------------+-------------------+-------------------+---------------------+\n",
      "|                0|             0|             0|               0|          0|          0|            0|                  0|                  0|                    0|\n",
      "+-----------------+--------------+--------------+----------------+-----------+-----------+-------------+-------------------+-------------------+---------------------+\n",
      "\n"
     ]
    }
   ],
   "execution_count": 64
  },
  {
   "metadata": {
    "ExecuteTime": {
     "end_time": "2025-06-26T21:28:44.692260Z",
     "start_time": "2025-06-26T21:27:48.366997Z"
    }
   },
   "cell_type": "code",
   "source": [
    "from pyspark.sql.functions import col, min as spark_min\n",
    "\n",
    "# Ensure 'diagnosis_df' and 'diabetic_df' already exist and include complication flags\n",
    "# You must have columns like 'comp_nephropathy', etc. in diagnosis_df already\n",
    "\n",
    "# 1. Create a diagnosis offset in days\n",
    "diagnosis_df = diagnosis_df.withColumn(\n",
    "    \"diagnosis_offset_days\", (col(\"diagnosisoffset\").cast(\"int\") / 1440).cast(\"int\")\n",
    ")\n",
    "\n",
    "# 2. Diabetes onset per patient\n",
    "diabetes_onset = diagnosis_df.filter(col(\"diagnosisstring\").rlike(\"(?i)diabetes\")).groupBy(\"patientunitstayid\").agg(\n",
    "    spark_min(\"diagnosis_offset_days\").alias(\"first_diabetes_day\")\n",
    ")\n",
    "\n",
    "# 3. Complication onsets\n",
    "complication_cols = [\"comp_nephropathy\", \"comp_retinopathy\", \"comp_neuropathy\", \"comp_cardio\", \"comp_foot_ulcer\"]\n",
    "\n",
    "complication_dates = []\n",
    "for comp in complication_cols:\n",
    "    comp_df = diagnosis_df.filter(col(comp) == 1).groupBy(\"patientunitstayid\").agg(\n",
    "        spark_min(\"diagnosis_offset_days\").alias(f\"first_{comp}_day\")\n",
    "    )\n",
    "    complication_dates.append(comp_df)\n",
    "\n",
    "# 4. Merge all into a single timeline DataFrame\n",
    "timeline_df = diabetic_df.select(\"patientunitstayid\").distinct().join(diabetes_onset, \"patientunitstayid\", \"left\")\n",
    "for comp_df in complication_dates:\n",
    "    timeline_df = timeline_df.join(comp_df, \"patientunitstayid\", \"left\")\n",
    "\n",
    "# 5. Show the timeline for manual review\n",
    "timeline_df.orderBy(\"first_diabetes_day\").show(10)\n"
   ],
   "id": "9264190d50a375ee",
   "outputs": [
    {
     "name": "stderr",
     "output_type": "stream",
     "text": [
      "                                                                                \r"
     ]
    },
    {
     "name": "stdout",
     "output_type": "stream",
     "text": [
      "+-----------------+------------------+--------------------------+--------------------------+-------------------------+---------------------+-------------------------+\n",
      "|patientunitstayid|first_diabetes_day|first_comp_nephropathy_day|first_comp_retinopathy_day|first_comp_neuropathy_day|first_comp_cardio_day|first_comp_foot_ulcer_day|\n",
      "+-----------------+------------------+--------------------------+--------------------------+-------------------------+---------------------+-------------------------+\n",
      "|          3140789|              NULL|                      NULL|                      NULL|                     NULL|                 NULL|                     NULL|\n",
      "|          1793086|              NULL|                      NULL|                      NULL|                     NULL|                    0|                     NULL|\n",
      "|          1123518|              NULL|                      NULL|                      NULL|                     NULL|                    0|                     NULL|\n",
      "|          1127780|              NULL|                      NULL|                      NULL|                     NULL|                    0|                     NULL|\n",
      "|          2642367|              NULL|                      NULL|                      NULL|                     NULL|                    0|                     NULL|\n",
      "|          3136097|              NULL|                         0|                      NULL|                     NULL|                    0|                     NULL|\n",
      "|           743959|              NULL|                      NULL|                      NULL|                     NULL|                    0|                     NULL|\n",
      "|          2225097|              NULL|                      NULL|                      NULL|                     NULL|                    0|                     NULL|\n",
      "|          1609022|              NULL|                      NULL|                      NULL|                     NULL|                 NULL|                     NULL|\n",
      "|          1772777|              NULL|                      NULL|                      NULL|                     NULL|                    0|                     NULL|\n",
      "+-----------------+------------------+--------------------------+--------------------------+-------------------------+---------------------+-------------------------+\n",
      "only showing top 10 rows\n",
      "\n"
     ]
    }
   ],
   "execution_count": 66
  },
  {
   "metadata": {
    "ExecuteTime": {
     "end_time": "2025-06-26T21:41:15.078477Z",
     "start_time": "2025-06-26T21:41:14.581901Z"
    }
   },
   "cell_type": "code",
   "source": [
    "# Optional: Flag diabetics based on high glucose or insulin meds (if available)\n",
    "high_glucose_df = lab_df.filter(\n",
    "    (col(\"labname\") == \"glucose\") & (col(\"labresult\").cast(\"float\") > 200)\n",
    ").select(\"patientunitstayid\").distinct().withColumn(\"likely_diabetic\", lit(1))\n",
    "\n",
    "# Join this with diabetic_df to identify additional suspected cases\n"
   ],
   "id": "f1a32265dc1c6a48",
   "outputs": [],
   "execution_count": 69
  },
  {
   "metadata": {
    "ExecuteTime": {
     "end_time": "2025-06-26T21:43:29.299177Z",
     "start_time": "2025-06-26T21:42:24.217829Z"
    }
   },
   "cell_type": "code",
   "source": "high_glucose_df.show(10)",
   "id": "c4d4eed940d64f93",
   "outputs": [
    {
     "name": "stderr",
     "output_type": "stream",
     "text": [
      "[Stage 328:>                                                        (0 + 1) / 1]\r"
     ]
    },
    {
     "name": "stdout",
     "output_type": "stream",
     "text": [
      "+-----------------+---------------+\n",
      "|patientunitstayid|likely_diabetic|\n",
      "+-----------------+---------------+\n",
      "|           145123|              1|\n",
      "|           157793|              1|\n",
      "|           158803|              1|\n",
      "|           164603|              1|\n",
      "|           234179|              1|\n",
      "|           239049|              1|\n",
      "|           276652|              1|\n",
      "|           323084|              1|\n",
      "|           334772|              1|\n",
      "|           351086|              1|\n",
      "+-----------------+---------------+\n",
      "only showing top 10 rows\n",
      "\n"
     ]
    },
    {
     "name": "stderr",
     "output_type": "stream",
     "text": [
      "                                                                                \r"
     ]
    }
   ],
   "execution_count": 70
  },
  {
   "metadata": {
    "ExecuteTime": {
     "end_time": "2025-06-26T21:45:14.984075Z",
     "start_time": "2025-06-26T21:44:05.547829Z"
    }
   },
   "cell_type": "code",
   "source": [
    "# Merge with original diabetic_df (left join to keep all known diabetics)\n",
    "expanded_diabetic_df = diabetic_df.join(\n",
    "    high_glucose_df, on=\"patientunitstayid\", how=\"outer\"\n",
    ").fillna({\"likely_diabetic\": 0})\n",
    "\n",
    "expanded_diabetic_df.show(5)\n"
   ],
   "id": "8235b430872c2689",
   "outputs": [
    {
     "name": "stderr",
     "output_type": "stream",
     "text": [
      "[Stage 335:>                                                        (0 + 1) / 1]\r"
     ]
    },
    {
     "name": "stdout",
     "output_type": "stream",
     "text": [
      "+-----------------+---------------+\n",
      "|patientunitstayid|likely_diabetic|\n",
      "+-----------------+---------------+\n",
      "|           141203|              0|\n",
      "|           141266|              1|\n",
      "|           141328|              0|\n",
      "|           141392|              0|\n",
      "|           141462|              1|\n",
      "+-----------------+---------------+\n",
      "only showing top 5 rows\n",
      "\n"
     ]
    },
    {
     "name": "stderr",
     "output_type": "stream",
     "text": [
      "                                                                                \r"
     ]
    }
   ],
   "execution_count": 71
  },
  {
   "metadata": {
    "ExecuteTime": {
     "end_time": "2025-06-26T21:49:48.653406Z",
     "start_time": "2025-06-26T21:49:48.480573Z"
    }
   },
   "cell_type": "code",
   "source": [
    "full_diabetic_df = diabetic_df.join(\n",
    "    high_glucose_df, on=\"patientunitstayid\", how=\"outer\"\n",
    ").fillna({\"likely_diabetic\": 0})\n"
   ],
   "id": "40730bb0f9d70fe5",
   "outputs": [],
   "execution_count": 72
  },
  {
   "metadata": {
    "ExecuteTime": {
     "end_time": "2025-06-26T21:51:49.629229Z",
     "start_time": "2025-06-26T21:51:49.132902Z"
    }
   },
   "cell_type": "code",
   "source": [
    "# 1. Merge complication flags with full_diabetic_df\n",
    "enriched_diabetic_df = full_diabetic_df.join(\n",
    "    complication_flags,\n",
    "    on=\"patientunitstayid\",\n",
    "    how=\"left\"\n",
    ").fillna(0)\n",
    "\n",
    "# 2. Add has_complication column using greatest()\n",
    "from pyspark.sql.functions import greatest, col\n",
    "\n",
    "enriched_diabetic_df = enriched_diabetic_df.withColumn(\n",
    "    \"has_complication\",\n",
    "    greatest(\n",
    "        col(\"comp_nephropathy\"),\n",
    "        col(\"comp_retinopathy\"),\n",
    "        col(\"comp_neuropathy\"),\n",
    "        col(\"comp_cardio\"),\n",
    "        col(\"comp_foot_ulcer\")\n",
    "    )\n",
    ")\n"
   ],
   "id": "131805472da78acf",
   "outputs": [
    {
     "ename": "AnalysisException",
     "evalue": "[UNRESOLVED_COLUMN.WITH_SUGGESTION] A column or function parameter with name `comp_nephropathy` cannot be resolved. Did you mean one of the following? [`nephropathy`, `neuropathy`, `retinopathy`, `foot_ulcer`, `cardiovascular`].;\n'Project [patientunitstayid#5463, likely_diabetic#5464, nephropathy#5465, retinopathy#5466, neuropathy#5467, cardiovascular#5468, foot_ulcer#5469, greatest('comp_nephropathy, 'comp_retinopathy, 'comp_neuropathy, 'comp_cardio, 'comp_foot_ulcer) AS has_complication#5477]\n+- Project [coalesce(patientunitstayid#5440, cast(0.0 as int)) AS patientunitstayid#5463, coalesce(likely_diabetic#5445, cast(0.0 as int)) AS likely_diabetic#5464, coalesce(nephropathy#3090, cast(0.0 as int)) AS nephropathy#5465, coalesce(retinopathy#3092, cast(0.0 as int)) AS retinopathy#5466, coalesce(neuropathy#3094, cast(0.0 as int)) AS neuropathy#5467, coalesce(cardiovascular#3096, cast(0.0 as int)) AS cardiovascular#5468, coalesce(foot_ulcer#3098, cast(0.0 as int)) AS foot_ulcer#5469]\n   +- Project [patientunitstayid#5440, likely_diabetic#5445, nephropathy#3090, retinopathy#3092, neuropathy#3094, cardiovascular#3096, foot_ulcer#3098]\n      +- Join LeftOuter, (patientunitstayid#5440 = cast(patientunitstayid#1168 as int))\n         :- Project [patientunitstayid#5440, coalesce(likely_diabetic#5383, cast(0 as int)) AS likely_diabetic#5445]\n         :  +- Project [coalesce(patientunitstayid#3198, patientunitstayid#4381) AS patientunitstayid#5440, likely_diabetic#5383]\n         :     +- Join FullOuter, (patientunitstayid#3198 = patientunitstayid#4381)\n         :        :- Deduplicate [patientunitstayid#3198]\n         :        :  +- Project [patientunitstayid#3198]\n         :        :     +- Filter lower(diagnosisstring#3201) LIKE %diabet%\n         :        :        +- Relation [diagnosisid#3197,patientunitstayid#3198,activeupondischarge#3199,diagnosisoffset#3200,diagnosisstring#3201,icd9code#3202,diagnosispriority#3203] csv\n         :        +- Project [patientunitstayid#4381, 1 AS likely_diabetic#5383]\n         :           +- Deduplicate [patientunitstayid#4381]\n         :              +- Project [patientunitstayid#4381]\n         :                 +- Filter ((labname#4384 = glucose) AND (cast(labresult#4385 as float) > cast(200 as float)))\n         :                    +- Project [patientunitstayid#4381, labid#4380, labresultoffset#4382, labtypeid#4383, labname#4384, labresult#4385, labresulttext#4386, labmeasurenamesystem#4387, labmeasurenameinterface#4388, labresultrevisedoffset#4389]\n         :                       +- Join Inner, (patientunitstayid#4381 = patientunitstayid#5433)\n         :                          :- Relation [labid#4380,patientunitstayid#4381,labresultoffset#4382,labtypeid#4383,labname#4384,labresult#4385,labresulttext#4386,labmeasurenamesystem#4387,labmeasurenameinterface#4388,labresultrevisedoffset#4389] csv\n         :                          +- Project [patientunitstayid#5433]\n         :                             +- Deduplicate [patientunitstayid#5433]\n         :                                +- Project [patientunitstayid#5433]\n         :                                   +- Filter lower(diagnosisstring#5436) LIKE %diabet%\n         :                                      +- Relation [diagnosisid#5432,patientunitstayid#5433,activeupondischarge#5434,diagnosisoffset#5435,diagnosisstring#5436,icd9code#5437,diagnosispriority#5438] csv\n         +- Aggregate [patientunitstayid#1168], [patientunitstayid#1168, max(nephropathy#3012) AS nephropathy#3090, max(retinopathy#3025) AS retinopathy#3092, max(neuropathy#3038) AS neuropathy#3094, max(cardiovascular#3051) AS cardiovascular#3096, max(foot_ulcer#3064) AS foot_ulcer#3098]\n            +- Project [diagnosisid#1167, patientunitstayid#1168, activeupondischarge#1169, diagnosisoffset#1170, diagnosisstring#1171, icd9code#1172, diagnosispriority#1173, retinopathy#3025, neuropathy#3038, nephropathy#3012, cardiovascular#3051, CASE WHEN RLIKE(lower(diagnosisstring#1171), .*foot ulcer.*|.*diabetic ulcer.*|.*osteomyelitis.*|.*gangrene.*) THEN 1 ELSE 0 END AS foot_ulcer#3064]\n               +- Project [diagnosisid#1167, patientunitstayid#1168, activeupondischarge#1169, diagnosisoffset#1170, diagnosisstring#1171, icd9code#1172, diagnosispriority#1173, retinopathy#3025, neuropathy#3038, nephropathy#3012, CASE WHEN RLIKE(lower(diagnosisstring#1171), .*cardio.*|.*ischemia.*|.*myocardial.*|.*heart failure.*|.*i50.*|.*428.*) THEN 1 ELSE 0 END AS cardiovascular#3051, foot_ulcer#2987]\n                  +- Project [diagnosisid#1167, patientunitstayid#1168, activeupondischarge#1169, diagnosisoffset#1170, diagnosisstring#1171, icd9code#1172, diagnosispriority#1173, retinopathy#3025, CASE WHEN RLIKE(lower(diagnosisstring#1171), .*neuro.*|.*neuropathy.*|.*nerve.*) THEN 1 ELSE 0 END AS neuropathy#3038, nephropathy#3012, cardiovascular#2974, foot_ulcer#2987]\n                     +- Project [diagnosisid#1167, patientunitstayid#1168, activeupondischarge#1169, diagnosisoffset#1170, diagnosisstring#1171, icd9code#1172, diagnosispriority#1173, CASE WHEN RLIKE(lower(diagnosisstring#1171), .*retina.*|.*retinopathy.*|.*eye.*) THEN 1 ELSE 0 END AS retinopathy#3025, neuropathy#2948, nephropathy#3012, cardiovascular#2974, foot_ulcer#2987]\n                        +- Project [diagnosisid#1167, patientunitstayid#1168, activeupondischarge#1169, diagnosisoffset#1170, diagnosisstring#1171, icd9code#1172, diagnosispriority#1173, retinopathy#2935, neuropathy#2948, CASE WHEN RLIKE(lower(diagnosisstring#1171), .*renal.*|.*nephropathy.*|.*kidney.*|.*n18.*|.*585.*) THEN 1 ELSE 0 END AS nephropathy#3012, cardiovascular#2974, foot_ulcer#2987]\n                           +- Project [diagnosisid#1167, patientunitstayid#1168, activeupondischarge#1169, diagnosisoffset#1170, diagnosisstring#1171, icd9code#1172, diagnosispriority#1173, retinopathy#2935, neuropathy#2948, nephropathy#2961, cardiovascular#2974, CASE WHEN RLIKE(lower(diagnosisstring#1171), .*2508.*|.*707.*) THEN 1 ELSE 0 END AS foot_ulcer#2987]\n                              +- Project [diagnosisid#1167, patientunitstayid#1168, activeupondischarge#1169, diagnosisoffset#1170, diagnosisstring#1171, icd9code#1172, diagnosispriority#1173, retinopathy#2935, neuropathy#2948, nephropathy#2961, CASE WHEN RLIKE(lower(diagnosisstring#1171), .*2507.*|.*410.*|.*411.*|.*413.*|.*414.*|.*428.*) THEN 1 ELSE 0 END AS cardiovascular#2974, foot_ulcer#2910]\n                                 +- Project [diagnosisid#1167, patientunitstayid#1168, activeupondischarge#1169, diagnosisoffset#1170, diagnosisstring#1171, icd9code#1172, diagnosispriority#1173, retinopathy#2935, neuropathy#2948, CASE WHEN RLIKE(lower(diagnosisstring#1171), .*2504.*|.*583.*|.*585.*|.*586.*|.*593.*) THEN 1 ELSE 0 END AS nephropathy#2961, cardiovascular#2897, foot_ulcer#2910]\n                                    +- Project [diagnosisid#1167, patientunitstayid#1168, activeupondischarge#1169, diagnosisoffset#1170, diagnosisstring#1171, icd9code#1172, diagnosispriority#1173, retinopathy#2935, CASE WHEN RLIKE(lower(diagnosisstring#1171), .*2506.*|.*357.*) THEN 1 ELSE 0 END AS neuropathy#2948, nephropathy#2884, cardiovascular#2897, foot_ulcer#2910]\n                                       +- Project [diagnosisid#1167, patientunitstayid#1168, activeupondischarge#1169, diagnosisoffset#1170, diagnosisstring#1171, icd9code#1172, diagnosispriority#1173, CASE WHEN RLIKE(lower(diagnosisstring#1171), .*2505.*|.*362.*) THEN 1 ELSE 0 END AS retinopathy#2935, neuropathy#2871, nephropathy#2884, cardiovascular#2897, foot_ulcer#2910]\n                                          +- Project [diagnosisid#1167, patientunitstayid#1168, activeupondischarge#1169, diagnosisoffset#1170, diagnosisstring#1171, icd9code#1172, diagnosispriority#1173, retinopathy#2858, neuropathy#2871, nephropathy#2884, cardiovascular#2897, CASE WHEN RLIKE(lower(diagnosisstring#1171), .*2508.*|.*707.*) THEN 1 ELSE 0 END AS foot_ulcer#2910]\n                                             +- Project [diagnosisid#1167, patientunitstayid#1168, activeupondischarge#1169, diagnosisoffset#1170, diagnosisstring#1171, icd9code#1172, diagnosispriority#1173, retinopathy#2858, neuropathy#2871, nephropathy#2884, CASE WHEN RLIKE(lower(diagnosisstring#1171), .*2507.*|.*410.*|.*411.*|.*413.*|.*414.*|.*428.*) THEN 1 ELSE 0 END AS cardiovascular#2897, foot_ulcer#2214]\n                                                +- Project [diagnosisid#1167, patientunitstayid#1168, activeupondischarge#1169, diagnosisoffset#1170, diagnosisstring#1171, icd9code#1172, diagnosispriority#1173, retinopathy#2858, neuropathy#2871, CASE WHEN RLIKE(lower(diagnosisstring#1171), .*2504.*|.*583.*|.*585.*|.*586.*|.*593.*) THEN 1 ELSE 0 END AS nephropathy#2884, cardiovascular#2201, foot_ulcer#2214]\n                                                   +- Project [diagnosisid#1167, patientunitstayid#1168, activeupondischarge#1169, diagnosisoffset#1170, diagnosisstring#1171, icd9code#1172, diagnosispriority#1173, retinopathy#2858, CASE WHEN RLIKE(lower(diagnosisstring#1171), .*2506.*|.*357.*) THEN 1 ELSE 0 END AS neuropathy#2871, nephropathy#2188, cardiovascular#2201, foot_ulcer#2214]\n                                                      +- Project [diagnosisid#1167, patientunitstayid#1168, activeupondischarge#1169, diagnosisoffset#1170, diagnosisstring#1171, icd9code#1172, diagnosispriority#1173, CASE WHEN RLIKE(lower(diagnosisstring#1171), .*2505.*|.*362.*) THEN 1 ELSE 0 END AS retinopathy#2858, neuropathy#2175, nephropathy#2188, cardiovascular#2201, foot_ulcer#2214]\n                                                         +- Project [diagnosisid#1167, patientunitstayid#1168, activeupondischarge#1169, diagnosisoffset#1170, diagnosisstring#1171, icd9code#1172, diagnosispriority#1173, retinopathy#2162, neuropathy#2175, nephropathy#2188, cardiovascular#2201, CASE WHEN icd9code#1172 IN (2508,707) THEN 1 ELSE 0 END AS foot_ulcer#2214]\n                                                            +- Project [diagnosisid#1167, patientunitstayid#1168, activeupondischarge#1169, diagnosisoffset#1170, diagnosisstring#1171, icd9code#1172, diagnosispriority#1173, retinopathy#2162, neuropathy#2175, nephropathy#2188, CASE WHEN icd9code#1172 IN (2507,410,411,413,414,428) THEN 1 ELSE 0 END AS cardiovascular#2201, foot_ulcer#1436]\n                                                               +- Project [diagnosisid#1167, patientunitstayid#1168, activeupondischarge#1169, diagnosisoffset#1170, diagnosisstring#1171, icd9code#1172, diagnosispriority#1173, retinopathy#2162, neuropathy#2175, CASE WHEN icd9code#1172 IN (2504,583,585,586,593) THEN 1 ELSE 0 END AS nephropathy#2188, cardiovascular#1424, foot_ulcer#1436]\n                                                                  +- Project [diagnosisid#1167, patientunitstayid#1168, activeupondischarge#1169, diagnosisoffset#1170, diagnosisstring#1171, icd9code#1172, diagnosispriority#1173, retinopathy#2162, CASE WHEN icd9code#1172 IN (2506,357) THEN 1 ELSE 0 END AS neuropathy#2175, nephropathy#1413, cardiovascular#1424, foot_ulcer#1436]\n                                                                     +- Project [diagnosisid#1167, patientunitstayid#1168, activeupondischarge#1169, diagnosisoffset#1170, diagnosisstring#1171, icd9code#1172, diagnosispriority#1173, CASE WHEN icd9code#1172 IN (2505,362) THEN 1 ELSE 0 END AS retinopathy#2162, neuropathy#1403, nephropathy#1413, cardiovascular#1424, foot_ulcer#1436]\n                                                                        +- Project [diagnosisid#1167, patientunitstayid#1168, activeupondischarge#1169, diagnosisoffset#1170, diagnosisstring#1171, icd9code#1172, diagnosispriority#1173, retinopathy#1394, neuropathy#1403, nephropathy#1413, cardiovascular#1424, CASE WHEN icd9code#1172 IN (707.15,707.1,707.10,250.80,250.81) THEN 1 ELSE 0 END AS foot_ulcer#1436]\n                                                                           +- Project [diagnosisid#1167, patientunitstayid#1168, activeupondischarge#1169, diagnosisoffset#1170, diagnosisstring#1171, icd9code#1172, diagnosispriority#1173, retinopathy#1394, neuropathy#1403, nephropathy#1413, CASE WHEN icd9code#1172 IN (250.70,250.71,414.01,429.2) THEN 1 ELSE 0 END AS cardiovascular#1424]\n                                                                              +- Project [diagnosisid#1167, patientunitstayid#1168, activeupondischarge#1169, diagnosisoffset#1170, diagnosisstring#1171, icd9code#1172, diagnosispriority#1173, retinopathy#1394, neuropathy#1403, CASE WHEN icd9code#1172 IN (250.40,250.41,583.81,593.9) THEN 1 ELSE 0 END AS nephropathy#1413]\n                                                                                 +- Project [diagnosisid#1167, patientunitstayid#1168, activeupondischarge#1169, diagnosisoffset#1170, diagnosisstring#1171, icd9code#1172, diagnosispriority#1173, retinopathy#1394, CASE WHEN icd9code#1172 IN (250.60,250.61,357.2,356.9,357.89) THEN 1 ELSE 0 END AS neuropathy#1403]\n                                                                                    +- Project [diagnosisid#1167, patientunitstayid#1168, activeupondischarge#1169, diagnosisoffset#1170, diagnosisstring#1171, icd9code#1172, diagnosispriority#1173, CASE WHEN icd9code#1172 IN (250.50,250.51,362.01,362.02,362.10,362.11,362.12) THEN 1 ELSE 0 END AS retinopathy#1394]\n                                                                                       +- Relation [diagnosisid#1167,patientunitstayid#1168,activeupondischarge#1169,diagnosisoffset#1170,diagnosisstring#1171,icd9code#1172,diagnosispriority#1173] csv\n",
     "output_type": "error",
     "traceback": [
      "\u001B[0;31m---------------------------------------------------------------------------\u001B[0m",
      "\u001B[0;31mAnalysisException\u001B[0m                         Traceback (most recent call last)",
      "Cell \u001B[0;32mIn[74], line 11\u001B[0m\n\u001B[1;32m      8\u001B[0m \u001B[38;5;66;03m# 2. Add has_complication column using greatest()\u001B[39;00m\n\u001B[1;32m      9\u001B[0m \u001B[38;5;28;01mfrom\u001B[39;00m \u001B[38;5;21;01mpyspark\u001B[39;00m\u001B[38;5;21;01m.\u001B[39;00m\u001B[38;5;21;01msql\u001B[39;00m\u001B[38;5;21;01m.\u001B[39;00m\u001B[38;5;21;01mfunctions\u001B[39;00m \u001B[38;5;28;01mimport\u001B[39;00m greatest, col\n\u001B[0;32m---> 11\u001B[0m enriched_diabetic_df \u001B[38;5;241m=\u001B[39m enriched_diabetic_df\u001B[38;5;241m.\u001B[39mwithColumn(\n\u001B[1;32m     12\u001B[0m     \u001B[38;5;124m\"\u001B[39m\u001B[38;5;124mhas_complication\u001B[39m\u001B[38;5;124m\"\u001B[39m,\n\u001B[1;32m     13\u001B[0m     greatest(\n\u001B[1;32m     14\u001B[0m         col(\u001B[38;5;124m\"\u001B[39m\u001B[38;5;124mcomp_nephropathy\u001B[39m\u001B[38;5;124m\"\u001B[39m),\n\u001B[1;32m     15\u001B[0m         col(\u001B[38;5;124m\"\u001B[39m\u001B[38;5;124mcomp_retinopathy\u001B[39m\u001B[38;5;124m\"\u001B[39m),\n\u001B[1;32m     16\u001B[0m         col(\u001B[38;5;124m\"\u001B[39m\u001B[38;5;124mcomp_neuropathy\u001B[39m\u001B[38;5;124m\"\u001B[39m),\n\u001B[1;32m     17\u001B[0m         col(\u001B[38;5;124m\"\u001B[39m\u001B[38;5;124mcomp_cardio\u001B[39m\u001B[38;5;124m\"\u001B[39m),\n\u001B[1;32m     18\u001B[0m         col(\u001B[38;5;124m\"\u001B[39m\u001B[38;5;124mcomp_foot_ulcer\u001B[39m\u001B[38;5;124m\"\u001B[39m)\n\u001B[1;32m     19\u001B[0m     )\n\u001B[1;32m     20\u001B[0m )\n",
      "File \u001B[0;32m/opt/anaconda3/lib/python3.12/site-packages/pyspark/sql/dataframe.py:5176\u001B[0m, in \u001B[0;36mDataFrame.withColumn\u001B[0;34m(self, colName, col)\u001B[0m\n\u001B[1;32m   5171\u001B[0m \u001B[38;5;28;01mif\u001B[39;00m \u001B[38;5;129;01mnot\u001B[39;00m \u001B[38;5;28misinstance\u001B[39m(col, Column):\n\u001B[1;32m   5172\u001B[0m     \u001B[38;5;28;01mraise\u001B[39;00m PySparkTypeError(\n\u001B[1;32m   5173\u001B[0m         error_class\u001B[38;5;241m=\u001B[39m\u001B[38;5;124m\"\u001B[39m\u001B[38;5;124mNOT_COLUMN\u001B[39m\u001B[38;5;124m\"\u001B[39m,\n\u001B[1;32m   5174\u001B[0m         message_parameters\u001B[38;5;241m=\u001B[39m{\u001B[38;5;124m\"\u001B[39m\u001B[38;5;124marg_name\u001B[39m\u001B[38;5;124m\"\u001B[39m: \u001B[38;5;124m\"\u001B[39m\u001B[38;5;124mcol\u001B[39m\u001B[38;5;124m\"\u001B[39m, \u001B[38;5;124m\"\u001B[39m\u001B[38;5;124marg_type\u001B[39m\u001B[38;5;124m\"\u001B[39m: \u001B[38;5;28mtype\u001B[39m(col)\u001B[38;5;241m.\u001B[39m\u001B[38;5;18m__name__\u001B[39m},\n\u001B[1;32m   5175\u001B[0m     )\n\u001B[0;32m-> 5176\u001B[0m \u001B[38;5;28;01mreturn\u001B[39;00m DataFrame(\u001B[38;5;28mself\u001B[39m\u001B[38;5;241m.\u001B[39m_jdf\u001B[38;5;241m.\u001B[39mwithColumn(colName, col\u001B[38;5;241m.\u001B[39m_jc), \u001B[38;5;28mself\u001B[39m\u001B[38;5;241m.\u001B[39msparkSession)\n",
      "File \u001B[0;32m/opt/anaconda3/lib/python3.12/site-packages/py4j/java_gateway.py:1322\u001B[0m, in \u001B[0;36mJavaMember.__call__\u001B[0;34m(self, *args)\u001B[0m\n\u001B[1;32m   1316\u001B[0m command \u001B[38;5;241m=\u001B[39m proto\u001B[38;5;241m.\u001B[39mCALL_COMMAND_NAME \u001B[38;5;241m+\u001B[39m\\\n\u001B[1;32m   1317\u001B[0m     \u001B[38;5;28mself\u001B[39m\u001B[38;5;241m.\u001B[39mcommand_header \u001B[38;5;241m+\u001B[39m\\\n\u001B[1;32m   1318\u001B[0m     args_command \u001B[38;5;241m+\u001B[39m\\\n\u001B[1;32m   1319\u001B[0m     proto\u001B[38;5;241m.\u001B[39mEND_COMMAND_PART\n\u001B[1;32m   1321\u001B[0m answer \u001B[38;5;241m=\u001B[39m \u001B[38;5;28mself\u001B[39m\u001B[38;5;241m.\u001B[39mgateway_client\u001B[38;5;241m.\u001B[39msend_command(command)\n\u001B[0;32m-> 1322\u001B[0m return_value \u001B[38;5;241m=\u001B[39m get_return_value(\n\u001B[1;32m   1323\u001B[0m     answer, \u001B[38;5;28mself\u001B[39m\u001B[38;5;241m.\u001B[39mgateway_client, \u001B[38;5;28mself\u001B[39m\u001B[38;5;241m.\u001B[39mtarget_id, \u001B[38;5;28mself\u001B[39m\u001B[38;5;241m.\u001B[39mname)\n\u001B[1;32m   1325\u001B[0m \u001B[38;5;28;01mfor\u001B[39;00m temp_arg \u001B[38;5;129;01min\u001B[39;00m temp_args:\n\u001B[1;32m   1326\u001B[0m     \u001B[38;5;28;01mif\u001B[39;00m \u001B[38;5;28mhasattr\u001B[39m(temp_arg, \u001B[38;5;124m\"\u001B[39m\u001B[38;5;124m_detach\u001B[39m\u001B[38;5;124m\"\u001B[39m):\n",
      "File \u001B[0;32m/opt/anaconda3/lib/python3.12/site-packages/pyspark/errors/exceptions/captured.py:185\u001B[0m, in \u001B[0;36mcapture_sql_exception.<locals>.deco\u001B[0;34m(*a, **kw)\u001B[0m\n\u001B[1;32m    181\u001B[0m converted \u001B[38;5;241m=\u001B[39m convert_exception(e\u001B[38;5;241m.\u001B[39mjava_exception)\n\u001B[1;32m    182\u001B[0m \u001B[38;5;28;01mif\u001B[39;00m \u001B[38;5;129;01mnot\u001B[39;00m \u001B[38;5;28misinstance\u001B[39m(converted, UnknownException):\n\u001B[1;32m    183\u001B[0m     \u001B[38;5;66;03m# Hide where the exception came from that shows a non-Pythonic\u001B[39;00m\n\u001B[1;32m    184\u001B[0m     \u001B[38;5;66;03m# JVM exception message.\u001B[39;00m\n\u001B[0;32m--> 185\u001B[0m     \u001B[38;5;28;01mraise\u001B[39;00m converted \u001B[38;5;28;01mfrom\u001B[39;00m \u001B[38;5;28;01mNone\u001B[39;00m\n\u001B[1;32m    186\u001B[0m \u001B[38;5;28;01melse\u001B[39;00m:\n\u001B[1;32m    187\u001B[0m     \u001B[38;5;28;01mraise\u001B[39;00m\n",
      "\u001B[0;31mAnalysisException\u001B[0m: [UNRESOLVED_COLUMN.WITH_SUGGESTION] A column or function parameter with name `comp_nephropathy` cannot be resolved. Did you mean one of the following? [`nephropathy`, `neuropathy`, `retinopathy`, `foot_ulcer`, `cardiovascular`].;\n'Project [patientunitstayid#5463, likely_diabetic#5464, nephropathy#5465, retinopathy#5466, neuropathy#5467, cardiovascular#5468, foot_ulcer#5469, greatest('comp_nephropathy, 'comp_retinopathy, 'comp_neuropathy, 'comp_cardio, 'comp_foot_ulcer) AS has_complication#5477]\n+- Project [coalesce(patientunitstayid#5440, cast(0.0 as int)) AS patientunitstayid#5463, coalesce(likely_diabetic#5445, cast(0.0 as int)) AS likely_diabetic#5464, coalesce(nephropathy#3090, cast(0.0 as int)) AS nephropathy#5465, coalesce(retinopathy#3092, cast(0.0 as int)) AS retinopathy#5466, coalesce(neuropathy#3094, cast(0.0 as int)) AS neuropathy#5467, coalesce(cardiovascular#3096, cast(0.0 as int)) AS cardiovascular#5468, coalesce(foot_ulcer#3098, cast(0.0 as int)) AS foot_ulcer#5469]\n   +- Project [patientunitstayid#5440, likely_diabetic#5445, nephropathy#3090, retinopathy#3092, neuropathy#3094, cardiovascular#3096, foot_ulcer#3098]\n      +- Join LeftOuter, (patientunitstayid#5440 = cast(patientunitstayid#1168 as int))\n         :- Project [patientunitstayid#5440, coalesce(likely_diabetic#5383, cast(0 as int)) AS likely_diabetic#5445]\n         :  +- Project [coalesce(patientunitstayid#3198, patientunitstayid#4381) AS patientunitstayid#5440, likely_diabetic#5383]\n         :     +- Join FullOuter, (patientunitstayid#3198 = patientunitstayid#4381)\n         :        :- Deduplicate [patientunitstayid#3198]\n         :        :  +- Project [patientunitstayid#3198]\n         :        :     +- Filter lower(diagnosisstring#3201) LIKE %diabet%\n         :        :        +- Relation [diagnosisid#3197,patientunitstayid#3198,activeupondischarge#3199,diagnosisoffset#3200,diagnosisstring#3201,icd9code#3202,diagnosispriority#3203] csv\n         :        +- Project [patientunitstayid#4381, 1 AS likely_diabetic#5383]\n         :           +- Deduplicate [patientunitstayid#4381]\n         :              +- Project [patientunitstayid#4381]\n         :                 +- Filter ((labname#4384 = glucose) AND (cast(labresult#4385 as float) > cast(200 as float)))\n         :                    +- Project [patientunitstayid#4381, labid#4380, labresultoffset#4382, labtypeid#4383, labname#4384, labresult#4385, labresulttext#4386, labmeasurenamesystem#4387, labmeasurenameinterface#4388, labresultrevisedoffset#4389]\n         :                       +- Join Inner, (patientunitstayid#4381 = patientunitstayid#5433)\n         :                          :- Relation [labid#4380,patientunitstayid#4381,labresultoffset#4382,labtypeid#4383,labname#4384,labresult#4385,labresulttext#4386,labmeasurenamesystem#4387,labmeasurenameinterface#4388,labresultrevisedoffset#4389] csv\n         :                          +- Project [patientunitstayid#5433]\n         :                             +- Deduplicate [patientunitstayid#5433]\n         :                                +- Project [patientunitstayid#5433]\n         :                                   +- Filter lower(diagnosisstring#5436) LIKE %diabet%\n         :                                      +- Relation [diagnosisid#5432,patientunitstayid#5433,activeupondischarge#5434,diagnosisoffset#5435,diagnosisstring#5436,icd9code#5437,diagnosispriority#5438] csv\n         +- Aggregate [patientunitstayid#1168], [patientunitstayid#1168, max(nephropathy#3012) AS nephropathy#3090, max(retinopathy#3025) AS retinopathy#3092, max(neuropathy#3038) AS neuropathy#3094, max(cardiovascular#3051) AS cardiovascular#3096, max(foot_ulcer#3064) AS foot_ulcer#3098]\n            +- Project [diagnosisid#1167, patientunitstayid#1168, activeupondischarge#1169, diagnosisoffset#1170, diagnosisstring#1171, icd9code#1172, diagnosispriority#1173, retinopathy#3025, neuropathy#3038, nephropathy#3012, cardiovascular#3051, CASE WHEN RLIKE(lower(diagnosisstring#1171), .*foot ulcer.*|.*diabetic ulcer.*|.*osteomyelitis.*|.*gangrene.*) THEN 1 ELSE 0 END AS foot_ulcer#3064]\n               +- Project [diagnosisid#1167, patientunitstayid#1168, activeupondischarge#1169, diagnosisoffset#1170, diagnosisstring#1171, icd9code#1172, diagnosispriority#1173, retinopathy#3025, neuropathy#3038, nephropathy#3012, CASE WHEN RLIKE(lower(diagnosisstring#1171), .*cardio.*|.*ischemia.*|.*myocardial.*|.*heart failure.*|.*i50.*|.*428.*) THEN 1 ELSE 0 END AS cardiovascular#3051, foot_ulcer#2987]\n                  +- Project [diagnosisid#1167, patientunitstayid#1168, activeupondischarge#1169, diagnosisoffset#1170, diagnosisstring#1171, icd9code#1172, diagnosispriority#1173, retinopathy#3025, CASE WHEN RLIKE(lower(diagnosisstring#1171), .*neuro.*|.*neuropathy.*|.*nerve.*) THEN 1 ELSE 0 END AS neuropathy#3038, nephropathy#3012, cardiovascular#2974, foot_ulcer#2987]\n                     +- Project [diagnosisid#1167, patientunitstayid#1168, activeupondischarge#1169, diagnosisoffset#1170, diagnosisstring#1171, icd9code#1172, diagnosispriority#1173, CASE WHEN RLIKE(lower(diagnosisstring#1171), .*retina.*|.*retinopathy.*|.*eye.*) THEN 1 ELSE 0 END AS retinopathy#3025, neuropathy#2948, nephropathy#3012, cardiovascular#2974, foot_ulcer#2987]\n                        +- Project [diagnosisid#1167, patientunitstayid#1168, activeupondischarge#1169, diagnosisoffset#1170, diagnosisstring#1171, icd9code#1172, diagnosispriority#1173, retinopathy#2935, neuropathy#2948, CASE WHEN RLIKE(lower(diagnosisstring#1171), .*renal.*|.*nephropathy.*|.*kidney.*|.*n18.*|.*585.*) THEN 1 ELSE 0 END AS nephropathy#3012, cardiovascular#2974, foot_ulcer#2987]\n                           +- Project [diagnosisid#1167, patientunitstayid#1168, activeupondischarge#1169, diagnosisoffset#1170, diagnosisstring#1171, icd9code#1172, diagnosispriority#1173, retinopathy#2935, neuropathy#2948, nephropathy#2961, cardiovascular#2974, CASE WHEN RLIKE(lower(diagnosisstring#1171), .*2508.*|.*707.*) THEN 1 ELSE 0 END AS foot_ulcer#2987]\n                              +- Project [diagnosisid#1167, patientunitstayid#1168, activeupondischarge#1169, diagnosisoffset#1170, diagnosisstring#1171, icd9code#1172, diagnosispriority#1173, retinopathy#2935, neuropathy#2948, nephropathy#2961, CASE WHEN RLIKE(lower(diagnosisstring#1171), .*2507.*|.*410.*|.*411.*|.*413.*|.*414.*|.*428.*) THEN 1 ELSE 0 END AS cardiovascular#2974, foot_ulcer#2910]\n                                 +- Project [diagnosisid#1167, patientunitstayid#1168, activeupondischarge#1169, diagnosisoffset#1170, diagnosisstring#1171, icd9code#1172, diagnosispriority#1173, retinopathy#2935, neuropathy#2948, CASE WHEN RLIKE(lower(diagnosisstring#1171), .*2504.*|.*583.*|.*585.*|.*586.*|.*593.*) THEN 1 ELSE 0 END AS nephropathy#2961, cardiovascular#2897, foot_ulcer#2910]\n                                    +- Project [diagnosisid#1167, patientunitstayid#1168, activeupondischarge#1169, diagnosisoffset#1170, diagnosisstring#1171, icd9code#1172, diagnosispriority#1173, retinopathy#2935, CASE WHEN RLIKE(lower(diagnosisstring#1171), .*2506.*|.*357.*) THEN 1 ELSE 0 END AS neuropathy#2948, nephropathy#2884, cardiovascular#2897, foot_ulcer#2910]\n                                       +- Project [diagnosisid#1167, patientunitstayid#1168, activeupondischarge#1169, diagnosisoffset#1170, diagnosisstring#1171, icd9code#1172, diagnosispriority#1173, CASE WHEN RLIKE(lower(diagnosisstring#1171), .*2505.*|.*362.*) THEN 1 ELSE 0 END AS retinopathy#2935, neuropathy#2871, nephropathy#2884, cardiovascular#2897, foot_ulcer#2910]\n                                          +- Project [diagnosisid#1167, patientunitstayid#1168, activeupondischarge#1169, diagnosisoffset#1170, diagnosisstring#1171, icd9code#1172, diagnosispriority#1173, retinopathy#2858, neuropathy#2871, nephropathy#2884, cardiovascular#2897, CASE WHEN RLIKE(lower(diagnosisstring#1171), .*2508.*|.*707.*) THEN 1 ELSE 0 END AS foot_ulcer#2910]\n                                             +- Project [diagnosisid#1167, patientunitstayid#1168, activeupondischarge#1169, diagnosisoffset#1170, diagnosisstring#1171, icd9code#1172, diagnosispriority#1173, retinopathy#2858, neuropathy#2871, nephropathy#2884, CASE WHEN RLIKE(lower(diagnosisstring#1171), .*2507.*|.*410.*|.*411.*|.*413.*|.*414.*|.*428.*) THEN 1 ELSE 0 END AS cardiovascular#2897, foot_ulcer#2214]\n                                                +- Project [diagnosisid#1167, patientunitstayid#1168, activeupondischarge#1169, diagnosisoffset#1170, diagnosisstring#1171, icd9code#1172, diagnosispriority#1173, retinopathy#2858, neuropathy#2871, CASE WHEN RLIKE(lower(diagnosisstring#1171), .*2504.*|.*583.*|.*585.*|.*586.*|.*593.*) THEN 1 ELSE 0 END AS nephropathy#2884, cardiovascular#2201, foot_ulcer#2214]\n                                                   +- Project [diagnosisid#1167, patientunitstayid#1168, activeupondischarge#1169, diagnosisoffset#1170, diagnosisstring#1171, icd9code#1172, diagnosispriority#1173, retinopathy#2858, CASE WHEN RLIKE(lower(diagnosisstring#1171), .*2506.*|.*357.*) THEN 1 ELSE 0 END AS neuropathy#2871, nephropathy#2188, cardiovascular#2201, foot_ulcer#2214]\n                                                      +- Project [diagnosisid#1167, patientunitstayid#1168, activeupondischarge#1169, diagnosisoffset#1170, diagnosisstring#1171, icd9code#1172, diagnosispriority#1173, CASE WHEN RLIKE(lower(diagnosisstring#1171), .*2505.*|.*362.*) THEN 1 ELSE 0 END AS retinopathy#2858, neuropathy#2175, nephropathy#2188, cardiovascular#2201, foot_ulcer#2214]\n                                                         +- Project [diagnosisid#1167, patientunitstayid#1168, activeupondischarge#1169, diagnosisoffset#1170, diagnosisstring#1171, icd9code#1172, diagnosispriority#1173, retinopathy#2162, neuropathy#2175, nephropathy#2188, cardiovascular#2201, CASE WHEN icd9code#1172 IN (2508,707) THEN 1 ELSE 0 END AS foot_ulcer#2214]\n                                                            +- Project [diagnosisid#1167, patientunitstayid#1168, activeupondischarge#1169, diagnosisoffset#1170, diagnosisstring#1171, icd9code#1172, diagnosispriority#1173, retinopathy#2162, neuropathy#2175, nephropathy#2188, CASE WHEN icd9code#1172 IN (2507,410,411,413,414,428) THEN 1 ELSE 0 END AS cardiovascular#2201, foot_ulcer#1436]\n                                                               +- Project [diagnosisid#1167, patientunitstayid#1168, activeupondischarge#1169, diagnosisoffset#1170, diagnosisstring#1171, icd9code#1172, diagnosispriority#1173, retinopathy#2162, neuropathy#2175, CASE WHEN icd9code#1172 IN (2504,583,585,586,593) THEN 1 ELSE 0 END AS nephropathy#2188, cardiovascular#1424, foot_ulcer#1436]\n                                                                  +- Project [diagnosisid#1167, patientunitstayid#1168, activeupondischarge#1169, diagnosisoffset#1170, diagnosisstring#1171, icd9code#1172, diagnosispriority#1173, retinopathy#2162, CASE WHEN icd9code#1172 IN (2506,357) THEN 1 ELSE 0 END AS neuropathy#2175, nephropathy#1413, cardiovascular#1424, foot_ulcer#1436]\n                                                                     +- Project [diagnosisid#1167, patientunitstayid#1168, activeupondischarge#1169, diagnosisoffset#1170, diagnosisstring#1171, icd9code#1172, diagnosispriority#1173, CASE WHEN icd9code#1172 IN (2505,362) THEN 1 ELSE 0 END AS retinopathy#2162, neuropathy#1403, nephropathy#1413, cardiovascular#1424, foot_ulcer#1436]\n                                                                        +- Project [diagnosisid#1167, patientunitstayid#1168, activeupondischarge#1169, diagnosisoffset#1170, diagnosisstring#1171, icd9code#1172, diagnosispriority#1173, retinopathy#1394, neuropathy#1403, nephropathy#1413, cardiovascular#1424, CASE WHEN icd9code#1172 IN (707.15,707.1,707.10,250.80,250.81) THEN 1 ELSE 0 END AS foot_ulcer#1436]\n                                                                           +- Project [diagnosisid#1167, patientunitstayid#1168, activeupondischarge#1169, diagnosisoffset#1170, diagnosisstring#1171, icd9code#1172, diagnosispriority#1173, retinopathy#1394, neuropathy#1403, nephropathy#1413, CASE WHEN icd9code#1172 IN (250.70,250.71,414.01,429.2) THEN 1 ELSE 0 END AS cardiovascular#1424]\n                                                                              +- Project [diagnosisid#1167, patientunitstayid#1168, activeupondischarge#1169, diagnosisoffset#1170, diagnosisstring#1171, icd9code#1172, diagnosispriority#1173, retinopathy#1394, neuropathy#1403, CASE WHEN icd9code#1172 IN (250.40,250.41,583.81,593.9) THEN 1 ELSE 0 END AS nephropathy#1413]\n                                                                                 +- Project [diagnosisid#1167, patientunitstayid#1168, activeupondischarge#1169, diagnosisoffset#1170, diagnosisstring#1171, icd9code#1172, diagnosispriority#1173, retinopathy#1394, CASE WHEN icd9code#1172 IN (250.60,250.61,357.2,356.9,357.89) THEN 1 ELSE 0 END AS neuropathy#1403]\n                                                                                    +- Project [diagnosisid#1167, patientunitstayid#1168, activeupondischarge#1169, diagnosisoffset#1170, diagnosisstring#1171, icd9code#1172, diagnosispriority#1173, CASE WHEN icd9code#1172 IN (250.50,250.51,362.01,362.02,362.10,362.11,362.12) THEN 1 ELSE 0 END AS retinopathy#1394]\n                                                                                       +- Relation [diagnosisid#1167,patientunitstayid#1168,activeupondischarge#1169,diagnosisoffset#1170,diagnosisstring#1171,icd9code#1172,diagnosispriority#1173] csv\n"
     ]
    }
   ],
   "execution_count": 74
  }
 ],
 "metadata": {
  "kernelspec": {
   "display_name": "Python 3",
   "language": "python",
   "name": "python3"
  },
  "language_info": {
   "codemirror_mode": {
    "name": "ipython",
    "version": 2
   },
   "file_extension": ".py",
   "mimetype": "text/x-python",
   "name": "python",
   "nbconvert_exporter": "python",
   "pygments_lexer": "ipython2",
   "version": "2.7.6"
  }
 },
 "nbformat": 4,
 "nbformat_minor": 5
}
