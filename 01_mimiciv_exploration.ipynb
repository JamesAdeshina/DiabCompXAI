{
 "cells": [
  {
   "cell_type": "code",
   "id": "initial_id",
   "metadata": {
    "collapsed": true,
    "ExecuteTime": {
     "end_time": "2025-07-07T20:13:19.011524Z",
     "start_time": "2025-07-07T20:13:18.744928Z"
    }
   },
   "source": [
    "from pyspark.sql import SparkSession\n",
    "from pyspark.sql.functions import col, lower, when, count, avg, max as spark_max\n",
    "from pyspark.sql.types import FloatType\n",
    "# === ALL NECESSARY IMPORTS ===\n",
    "from pyspark.sql import SparkSession\n",
    "from pyspark.sql.functions import col, when, lower, rlike, sum as spark_sum, countDistinct\n",
    "import matplotlib.pyplot as plt\n",
    "import seaborn as sns\n",
    "import os\n",
    "from pyspark.sql.functions import col, min, datediff, when, lit\n",
    "from pyspark.sql import functions as F\n",
    "import matplotlib.pyplot as plt\n",
    "import seaborn as sns\n",
    "import pandas as pd\n",
    "sns.set(style=\"whitegrid\")\n",
    "\n"
   ],
   "outputs": [],
   "execution_count": 1
  },
  {
   "metadata": {
    "ExecuteTime": {
     "end_time": "2025-07-07T20:13:29.475547Z",
     "start_time": "2025-07-07T20:13:19.040200Z"
    }
   },
   "cell_type": "code",
   "source": [
    "# Set up Spark\n",
    "# spark = SparkSession.builder.appName(\"MIMIC-IV Diabetic Exploration\").getOrCreate()\n",
    "\n",
    "spark = SparkSession.builder \\\n",
    "    .appName(\"MIMIC-IV Diabetic Exploration\") \\\n",
    "    .config(\"spark.driver.memory\", \"8g\") \\\n",
    "    .config(\"spark.executor.memory\", \"8g\") \\\n",
    "    .config(\"spark.sql.shuffle.partitions\", \"2000\") \\\n",
    "    .config(\"spark.sql.autoBroadcastJoinThreshold\", \"-1\") \\\n",
    "    .config(\"spark.memory.offHeap.enabled\", \"true\") \\\n",
    "    .config(\"spark.memory.offHeap.size\", \"4g\") \\\n",
    "    .getOrCreate()"
   ],
   "id": "950f7d0e38c3d738",
   "outputs": [
    {
     "name": "stderr",
     "output_type": "stream",
     "text": [
      "Setting default log level to \"WARN\".\n",
      "To adjust logging level use sc.setLogLevel(newLevel). For SparkR, use setLogLevel(newLevel).\n",
      "25/07/07 21:13:25 WARN NativeCodeLoader: Unable to load native-hadoop library for your platform... using builtin-java classes where applicable\n",
      "25/07/07 21:13:27 WARN Utils: Service 'SparkUI' could not bind on port 4040. Attempting port 4041.\n"
     ]
    }
   ],
   "execution_count": 2
  },
  {
   "metadata": {
    "ExecuteTime": {
     "end_time": "2025-07-07T20:13:29.643816Z",
     "start_time": "2025-07-07T20:13:29.638928Z"
    }
   },
   "cell_type": "code",
   "source": [
    "# Change this path to match your setup\n",
    "DATA_PATH = \"Dataset/mimic-iv-3.1/hosp/\""
   ],
   "id": "9eb764e16e73510f",
   "outputs": [],
   "execution_count": 3
  },
  {
   "metadata": {
    "ExecuteTime": {
     "end_time": "2025-07-07T20:23:38.556348Z",
     "start_time": "2025-07-07T20:13:29.678843Z"
    }
   },
   "cell_type": "code",
   "source": [
    "# 2. LOAD & PREVIEW DATA\n",
    "# Load core hospital tables\n",
    "patients_df = spark.read.csv(os.path.join(DATA_PATH, \"patients.csv.gz\"), header=True, inferSchema=True)\n",
    "admissions_df = spark.read.csv(os.path.join(DATA_PATH, \"admissions.csv.gz\"), header=True, inferSchema=True)\n",
    "diagnoses_df = spark.read.csv(os.path.join(DATA_PATH, \"diagnoses_icd.csv.gz\"), header=True, inferSchema=True)\n",
    "labs_df = spark.read.csv(os.path.join(DATA_PATH, \"labevents.csv.gz\"), header=True, inferSchema=True)\n",
    "d_icd = spark.read.csv(os.path.join(DATA_PATH, \"d_icd_diagnoses.csv.gz\"), header=True, inferSchema=True)\n",
    "d_labitems_df = spark.read.csv(os.path.join(DATA_PATH, \"d_labitems.csv.gz\"), header=True, inferSchema=True)\n",
    "\n",
    "\n",
    "print(\"Loaded tables: patients, admissions, diagnoses_icd, labevents\")\n",
    "\n"
   ],
   "id": "270debee22939c6a",
   "outputs": [
    {
     "name": "stderr",
     "output_type": "stream",
     "text": [
      "25/07/07 21:13:42 WARN GarbageCollectionMetrics: To enable non-built-in garbage collector(s) List(G1 Concurrent GC), users should configure it(them) to spark.eventLog.gcMetrics.youngGenerationGarbageCollectors or spark.eventLog.gcMetrics.oldGenerationGarbageCollectors\n",
      "                                                                                \r"
     ]
    },
    {
     "name": "stdout",
     "output_type": "stream",
     "text": [
      "Loaded tables: patients, admissions, diagnoses_icd, labevents\n"
     ]
    }
   ],
   "execution_count": 4
  },
  {
   "metadata": {},
   "cell_type": "markdown",
   "source": "#### Print Schema and Record Count for Each Table",
   "id": "a6af464194cdf11d"
  },
  {
   "metadata": {
    "ExecuteTime": {
     "end_time": "2025-07-07T20:25:25.612277Z",
     "start_time": "2025-07-07T20:23:38.793493Z"
    }
   },
   "cell_type": "code",
   "source": [
    "# === DISPLAY SCHEMAS ===\n",
    "for name, df in {\n",
    "    \"patients\": patients_df,\n",
    "    \"admissions\": admissions_df,\n",
    "    \"diagnoses\": diagnoses_df,\n",
    "    \"labs\": labs_df,\n",
    "    \"icd_ref\": d_icd\n",
    "}.items():\n",
    "    print(f\"\\n📄 {name.upper()} TABLE\")\n",
    "    df.printSchema()\n",
    "    print(f\"✅ Row count: {df.count()}\")"
   ],
   "id": "f54f417ddc8fcd65",
   "outputs": [
    {
     "name": "stdout",
     "output_type": "stream",
     "text": [
      "\n",
      "📄 PATIENTS TABLE\n",
      "root\n",
      " |-- subject_id: integer (nullable = true)\n",
      " |-- gender: string (nullable = true)\n",
      " |-- anchor_age: integer (nullable = true)\n",
      " |-- anchor_year: integer (nullable = true)\n",
      " |-- anchor_year_group: string (nullable = true)\n",
      " |-- dod: date (nullable = true)\n",
      "\n",
      "✅ Row count: 364627\n",
      "\n",
      "📄 ADMISSIONS TABLE\n",
      "root\n",
      " |-- subject_id: integer (nullable = true)\n",
      " |-- hadm_id: integer (nullable = true)\n",
      " |-- admittime: timestamp (nullable = true)\n",
      " |-- dischtime: timestamp (nullable = true)\n",
      " |-- deathtime: timestamp (nullable = true)\n",
      " |-- admission_type: string (nullable = true)\n",
      " |-- admit_provider_id: string (nullable = true)\n",
      " |-- admission_location: string (nullable = true)\n",
      " |-- discharge_location: string (nullable = true)\n",
      " |-- insurance: string (nullable = true)\n",
      " |-- language: string (nullable = true)\n",
      " |-- marital_status: string (nullable = true)\n",
      " |-- race: string (nullable = true)\n",
      " |-- edregtime: timestamp (nullable = true)\n",
      " |-- edouttime: timestamp (nullable = true)\n",
      " |-- hospital_expire_flag: integer (nullable = true)\n",
      "\n"
     ]
    },
    {
     "name": "stderr",
     "output_type": "stream",
     "text": [
      "                                                                                \r"
     ]
    },
    {
     "name": "stdout",
     "output_type": "stream",
     "text": [
      "✅ Row count: 546028\n",
      "\n",
      "📄 DIAGNOSES TABLE\n",
      "root\n",
      " |-- subject_id: integer (nullable = true)\n",
      " |-- hadm_id: integer (nullable = true)\n",
      " |-- seq_num: integer (nullable = true)\n",
      " |-- icd_code: string (nullable = true)\n",
      " |-- icd_version: integer (nullable = true)\n",
      "\n"
     ]
    },
    {
     "name": "stderr",
     "output_type": "stream",
     "text": [
      "                                                                                \r"
     ]
    },
    {
     "name": "stdout",
     "output_type": "stream",
     "text": [
      "✅ Row count: 6364488\n",
      "\n",
      "📄 LABS TABLE\n",
      "root\n",
      " |-- labevent_id: integer (nullable = true)\n",
      " |-- subject_id: integer (nullable = true)\n",
      " |-- hadm_id: integer (nullable = true)\n",
      " |-- specimen_id: integer (nullable = true)\n",
      " |-- itemid: integer (nullable = true)\n",
      " |-- order_provider_id: string (nullable = true)\n",
      " |-- charttime: timestamp (nullable = true)\n",
      " |-- storetime: timestamp (nullable = true)\n",
      " |-- value: string (nullable = true)\n",
      " |-- valuenum: double (nullable = true)\n",
      " |-- valueuom: string (nullable = true)\n",
      " |-- ref_range_lower: double (nullable = true)\n",
      " |-- ref_range_upper: double (nullable = true)\n",
      " |-- flag: string (nullable = true)\n",
      " |-- priority: string (nullable = true)\n",
      " |-- comments: string (nullable = true)\n",
      "\n"
     ]
    },
    {
     "name": "stderr",
     "output_type": "stream",
     "text": [
      "                                                                                \r"
     ]
    },
    {
     "name": "stdout",
     "output_type": "stream",
     "text": [
      "✅ Row count: 158374764\n",
      "\n",
      "📄 ICD_REF TABLE\n",
      "root\n",
      " |-- icd_code: string (nullable = true)\n",
      " |-- icd_version: integer (nullable = true)\n",
      " |-- long_title: string (nullable = true)\n",
      "\n",
      "✅ Row count: 112107\n"
     ]
    }
   ],
   "execution_count": 5
  },
  {
   "metadata": {},
   "cell_type": "markdown",
   "source": "#### Display 5 Sample Rows from Each Table",
   "id": "3a3faddc17e07f1c"
  },
  {
   "metadata": {
    "ExecuteTime": {
     "end_time": "2025-07-07T20:25:27.412303Z",
     "start_time": "2025-07-07T20:25:25.828218Z"
    }
   },
   "cell_type": "code",
   "source": [
    "for name, df in {\n",
    "    \"patients\": patients_df,\n",
    "    \"admissions\": admissions_df,\n",
    "    \"diagnoses\": diagnoses_df,\n",
    "    \"labs\": labs_df,\n",
    "    \"icd_ref\": d_icd\n",
    "}.items():\n",
    "    print(f\"\\n🔍 Sample from {name.upper()}:\")\n",
    "    df.show(5)\n"
   ],
   "id": "e4daabaed9d88445",
   "outputs": [
    {
     "name": "stdout",
     "output_type": "stream",
     "text": [
      "\n",
      "🔍 Sample from PATIENTS:\n",
      "+----------+------+----------+-----------+-----------------+----------+\n",
      "|subject_id|gender|anchor_age|anchor_year|anchor_year_group|       dod|\n",
      "+----------+------+----------+-----------+-----------------+----------+\n",
      "|  10000032|     F|        52|       2180|      2014 - 2016|2180-09-09|\n",
      "|  10000048|     F|        23|       2126|      2008 - 2010|      NULL|\n",
      "|  10000058|     F|        33|       2168|      2020 - 2022|      NULL|\n",
      "|  10000068|     F|        19|       2160|      2008 - 2010|      NULL|\n",
      "|  10000084|     M|        72|       2160|      2017 - 2019|2161-02-13|\n",
      "+----------+------+----------+-----------+-----------------+----------+\n",
      "only showing top 5 rows\n",
      "\n",
      "\n",
      "🔍 Sample from ADMISSIONS:\n",
      "+----------+--------+-------------------+-------------------+---------+--------------+-----------------+--------------------+------------------+---------+--------+--------------+-----+-------------------+-------------------+--------------------+\n",
      "|subject_id| hadm_id|          admittime|          dischtime|deathtime|admission_type|admit_provider_id|  admission_location|discharge_location|insurance|language|marital_status| race|          edregtime|          edouttime|hospital_expire_flag|\n",
      "+----------+--------+-------------------+-------------------+---------+--------------+-----------------+--------------------+------------------+---------+--------+--------------+-----+-------------------+-------------------+--------------------+\n",
      "|  10000032|22595853|2180-05-06 22:23:00|2180-05-07 17:15:00|     NULL|        URGENT|           P49AFC|TRANSFER FROM HOS...|              HOME| Medicaid| English|       WIDOWED|WHITE|2180-05-06 19:17:00|2180-05-06 23:30:00|                   0|\n",
      "|  10000032|22841357|2180-06-26 18:27:00|2180-06-27 18:49:00|     NULL|      EW EMER.|           P784FA|      EMERGENCY ROOM|              HOME| Medicaid| English|       WIDOWED|WHITE|2180-06-26 15:54:00|2180-06-26 21:31:00|                   0|\n",
      "|  10000032|25742920|2180-08-05 23:44:00|2180-08-07 17:50:00|     NULL|      EW EMER.|           P19UTS|      EMERGENCY ROOM|           HOSPICE| Medicaid| English|       WIDOWED|WHITE|2180-08-05 20:58:00|2180-08-06 01:44:00|                   0|\n",
      "|  10000032|29079034|2180-07-23 12:35:00|2180-07-25 17:55:00|     NULL|      EW EMER.|           P06OTX|      EMERGENCY ROOM|              HOME| Medicaid| English|       WIDOWED|WHITE|2180-07-23 05:54:00|2180-07-23 14:00:00|                   0|\n",
      "|  10000068|25022803|2160-03-03 23:16:00|2160-03-04 06:26:00|     NULL|EU OBSERVATION|           P39NWO|      EMERGENCY ROOM|              NULL|     NULL| English|        SINGLE|WHITE|2160-03-03 21:55:00|2160-03-04 06:26:00|                   0|\n",
      "+----------+--------+-------------------+-------------------+---------+--------------+-----------------+--------------------+------------------+---------+--------+--------------+-----+-------------------+-------------------+--------------------+\n",
      "only showing top 5 rows\n",
      "\n",
      "\n",
      "🔍 Sample from DIAGNOSES:\n",
      "+----------+--------+-------+--------+-----------+\n",
      "|subject_id| hadm_id|seq_num|icd_code|icd_version|\n",
      "+----------+--------+-------+--------+-----------+\n",
      "|  10000032|22595853|      1|    5723|          9|\n",
      "|  10000032|22595853|      2|   78959|          9|\n",
      "|  10000032|22595853|      3|    5715|          9|\n",
      "|  10000032|22595853|      4|   07070|          9|\n",
      "|  10000032|22595853|      5|     496|          9|\n",
      "+----------+--------+-------+--------+-----------+\n",
      "only showing top 5 rows\n",
      "\n",
      "\n",
      "🔍 Sample from LABS:\n",
      "+-----------+----------+-------+-----------+------+-----------------+-------------------+-------------------+-----+--------+--------+---------------+---------------+----+--------+--------------------+\n",
      "|labevent_id|subject_id|hadm_id|specimen_id|itemid|order_provider_id|          charttime|          storetime|value|valuenum|valueuom|ref_range_lower|ref_range_upper|flag|priority|            comments|\n",
      "+-----------+----------+-------+-----------+------+-----------------+-------------------+-------------------+-----+--------+--------+---------------+---------------+----+--------+--------------------+\n",
      "|          1|  10000032|   NULL|    2704548| 50931|           P69FQC|2180-03-23 11:51:00|2180-03-23 15:56:00|  ___|    95.0|   mg/dL|           70.0|          100.0|NULL| ROUTINE|IF FASTING, 70-10...|\n",
      "|          2|  10000032|   NULL|   36092842| 51071|           P69FQC|2180-03-23 11:51:00|2180-03-23 16:00:00|  NEG|    NULL|    NULL|           NULL|           NULL|NULL| ROUTINE|                NULL|\n",
      "|          3|  10000032|   NULL|   36092842| 51074|           P69FQC|2180-03-23 11:51:00|2180-03-23 16:00:00|  NEG|    NULL|    NULL|           NULL|           NULL|NULL| ROUTINE|                NULL|\n",
      "|          4|  10000032|   NULL|   36092842| 51075|           P69FQC|2180-03-23 11:51:00|2180-03-23 16:00:00|  NEG|    NULL|    NULL|           NULL|           NULL|NULL| ROUTINE|BENZODIAZEPINE IM...|\n",
      "|          5|  10000032|   NULL|   36092842| 51079|           P69FQC|2180-03-23 11:51:00|2180-03-23 16:00:00|  NEG|    NULL|    NULL|           NULL|           NULL|NULL| ROUTINE|                NULL|\n",
      "+-----------+----------+-------+-----------+------+-----------------+-------------------+-------------------+-----+--------+--------+---------------+---------------+----+--------+--------------------+\n",
      "only showing top 5 rows\n",
      "\n",
      "\n",
      "🔍 Sample from ICD_REF:\n",
      "+--------+-----------+--------------------+\n",
      "|icd_code|icd_version|          long_title|\n",
      "+--------+-----------+--------------------+\n",
      "|    0010|          9|Cholera due to vi...|\n",
      "|    0011|          9|Cholera due to vi...|\n",
      "|    0019|          9|Cholera, unspecified|\n",
      "|    0020|          9|       Typhoid fever|\n",
      "|    0021|          9| Paratyphoid fever A|\n",
      "+--------+-----------+--------------------+\n",
      "only showing top 5 rows\n",
      "\n"
     ]
    }
   ],
   "execution_count": 6
  },
  {
   "metadata": {
    "ExecuteTime": {
     "end_time": "2025-07-07T20:25:43.085503Z",
     "start_time": "2025-07-07T20:25:27.434333Z"
    }
   },
   "cell_type": "code",
   "source": [
    "# ---- STEP 1: Identify diabetic patients\n",
    "diabetic_df = diagnoses_df.filter(lower(col(\"icd_code\")).startswith(\"250\")).select(\"subject_id\").distinct()\n",
    "print(f\"Diabetic patients identified: {diabetic_df.count()}\")\n",
    "\n",
    "diabetic_df.show(5)"
   ],
   "id": "6c09feb436f605a4",
   "outputs": [
    {
     "name": "stderr",
     "output_type": "stream",
     "text": [
      "                                                                                \r"
     ]
    },
    {
     "name": "stdout",
     "output_type": "stream",
     "text": [
      "Diabetic patients identified: 25593\n"
     ]
    },
    {
     "name": "stderr",
     "output_type": "stream",
     "text": [
      "[Stage 38:>                                                         (0 + 1) / 1]\r"
     ]
    },
    {
     "name": "stdout",
     "output_type": "stream",
     "text": [
      "+----------+\n",
      "|subject_id|\n",
      "+----------+\n",
      "|  10012942|\n",
      "|  10334189|\n",
      "|  10387770|\n",
      "|  10509699|\n",
      "|  10663941|\n",
      "+----------+\n",
      "only showing top 5 rows\n",
      "\n"
     ]
    },
    {
     "name": "stderr",
     "output_type": "stream",
     "text": [
      "                                                                                \r"
     ]
    }
   ],
   "execution_count": 7
  },
  {
   "metadata": {
    "ExecuteTime": {
     "end_time": "2025-07-07T20:25:43.180584Z",
     "start_time": "2025-07-07T20:25:43.173137Z"
    }
   },
   "cell_type": "code",
   "source": [
    "# ---- STEP 3: Define complication conditions\n",
    "\n",
    "# complication_conditions = {\n",
    "#     \"retinopathy\": [\"25050\", \"25051\", \"36201\", \"36202\", \"36210\", \"36211\", \"36212\"], # Diabetic retinopathy\n",
    "#     \"neuropathy\": [\"25060\", \"25061\", \"3572\", \"3569\", \"35789\"], # Diabetic polyneuropathy\n",
    "#     \"nephropathy\": [\"25040\", \"25041\", \"58381\", \"5939\"], # Chronic kidney disease\n",
    "#     \"cardiovascular\": [\"25070\", \"25071\", \"41401\", \"4292\"], # Ischemic heart diseases\n",
    "#     \"foot_ulcer\": [\"70715\", \"7071\", \"70710\", \"25080\", \"25081\"], # Chronic ulcer of skin\n",
    "# }\n",
    "\n",
    "complication_conditions = {\n",
    "    \"neuropathy\": [\"25060\", \"25061\", \"3572\", \"3569\", \"35789\"], # Diabetic polyneuropathy\n",
    "    \"cardiovascular\": [\"25070\", \"25071\", \"41401\", \"4292\"], # Ischemic heart diseases\n",
    "}\n"
   ],
   "id": "d5db21c65fd48f0a",
   "outputs": [],
   "execution_count": 8
  },
  {
   "metadata": {
    "ExecuteTime": {
     "end_time": "2025-07-07T20:25:55.450295Z",
     "start_time": "2025-07-07T20:25:43.579715Z"
    }
   },
   "cell_type": "code",
   "source": [
    "from pyspark.sql.functions import sum as spark_sum\n",
    "\n",
    "# Step 1: Add complication columns\n",
    "for complication, codes in complication_conditions.items():\n",
    "    # For each complication, create a new column that checks if the icd_code is in the list\n",
    "    diagnoses_df = diagnoses_df.withColumn(\n",
    "        f\"comp_{complication}\",\n",
    "        F.when(F.lower(F.col(\"icd_code\")).isin(codes), 1).otherwise(0)\n",
    "    )\n",
    "\n",
    "\n",
    "# Columns already added in diagnoses_df: comp_retinopathy, comp_neuropathy, etc.\n",
    "# complication_cols = [\n",
    "#     \"comp_retinopathy\",\n",
    "#     \"comp_neuropathy\",\n",
    "#     \"comp_nephropathy\",\n",
    "#     \"comp_cardiovascular\",\n",
    "#     \"comp_foot_ulcer\"\n",
    "# ]\n",
    "complication_cols = [\n",
    "    \"comp_neuropathy\",\n",
    "    \"comp_cardiovascular\"\n",
    "]\n",
    "\n",
    "# Aggregate per patient\n",
    "complications_df = diagnoses_df.groupBy(\"subject_id\").agg(\n",
    "    *[spark_sum(col(c)).alias(c) for c in complication_cols]\n",
    ")\n",
    "\n",
    "# Join with diabetic patients\n",
    "diabetic_df = diabetic_df.distinct()\n",
    "full_diabetic_df = diabetic_df.join(complications_df, on=\"subject_id\", how=\"left\").fillna(0)\n",
    "\n",
    "# Show complication distribution\n",
    "full_diabetic_df.select([\n",
    "    spark_sum(col(c)).alias(f\"{c}_count\") for c in complication_cols\n",
    "]).show()\n"
   ],
   "id": "7a7bf93f883870ea",
   "outputs": [
    {
     "name": "stderr",
     "output_type": "stream",
     "text": [
      "[Stage 42:>                                                         (0 + 1) / 1]\r"
     ]
    },
    {
     "name": "stdout",
     "output_type": "stream",
     "text": [
      "+---------------------+-------------------------+\n",
      "|comp_neuropathy_count|comp_cardiovascular_count|\n",
      "+---------------------+-------------------------+\n",
      "|                19625|                    18276|\n",
      "+---------------------+-------------------------+\n",
      "\n"
     ]
    },
    {
     "name": "stderr",
     "output_type": "stream",
     "text": [
      "                                                                                \r"
     ]
    }
   ],
   "execution_count": 9
  },
  {
   "metadata": {
    "ExecuteTime": {
     "end_time": "2025-07-07T20:25:55.608383Z",
     "start_time": "2025-07-07T20:25:55.582272Z"
    }
   },
   "cell_type": "code",
   "source": [
    "diabetic_df.printSchema()\n",
    "diabetic_df.columns\n"
   ],
   "id": "f6cbb76a817df65d",
   "outputs": [
    {
     "name": "stdout",
     "output_type": "stream",
     "text": [
      "root\n",
      " |-- subject_id: integer (nullable = true)\n",
      "\n"
     ]
    },
    {
     "data": {
      "text/plain": [
       "['subject_id']"
      ]
     },
     "execution_count": 10,
     "metadata": {},
     "output_type": "execute_result"
    }
   ],
   "execution_count": 10
  },
  {
   "metadata": {},
   "cell_type": "markdown",
   "source": "#### Merge with Demographics + Admissions",
   "id": "ef1b6bde34adcb95"
  },
  {
   "metadata": {
    "ExecuteTime": {
     "end_time": "2025-07-07T20:26:09.541439Z",
     "start_time": "2025-07-07T20:25:55.951522Z"
    }
   },
   "cell_type": "code",
   "source": [
    "# STEP 2 FIXED: Merge patients and admissions with correct columns\n",
    "# Merge demographics (from patients)\n",
    "enriched_df = full_diabetic_df.join(patients_df, on=\"subject_id\", how=\"left\")\n",
    "\n",
    "# Merge admission details (race, marital_status, hospital_expire_flag, etc.)\n",
    "enriched_df = enriched_df.join(\n",
    "    admissions_df.select(\n",
    "        \"subject_id\", \"hadm_id\", \"admittime\", \"dischtime\",\n",
    "        \"hospital_expire_flag\", \"admission_type\",\n",
    "        \"race\", \"marital_status\"\n",
    "    ),\n",
    "    on=\"subject_id\", how=\"left\"\n",
    ")\n",
    "\n",
    "# Preview with correct columns\n",
    "enriched_df.select(\n",
    "    \"subject_id\", \"gender\", \"anchor_age\", \"race\", \"marital_status\",\n",
    "    \"hospital_expire_flag\", \"admission_type\", *complication_cols\n",
    ").show(5)\n"
   ],
   "id": "1305011675a7387d",
   "outputs": [
    {
     "name": "stderr",
     "output_type": "stream",
     "text": [
      "[Stage 51:>                                                         (0 + 1) / 1]\r"
     ]
    },
    {
     "name": "stdout",
     "output_type": "stream",
     "text": [
      "+----------+------+----------+--------------------+--------------+--------------------+--------------------+---------------+-------------------+\n",
      "|subject_id|gender|anchor_age|                race|marital_status|hospital_expire_flag|      admission_type|comp_neuropathy|comp_cardiovascular|\n",
      "+----------+------+----------+--------------------+--------------+--------------------+--------------------+---------------+-------------------+\n",
      "|  10012942|     F|        45|HISPANIC/LATINO -...|       MARRIED|                   0|            EW EMER.|              0|                  0|\n",
      "|  10334189|     F|        91|               WHITE|       WIDOWED|                   0|            EW EMER.|              0|                  0|\n",
      "|  10334189|     F|        91|               WHITE|       WIDOWED|                   0|AMBULATORY OBSERV...|              0|                  0|\n",
      "|  10387770|     M|        82|               WHITE|       MARRIED|                   0|   OBSERVATION ADMIT|              5|                  0|\n",
      "|  10387770|     M|        82|               WHITE|       MARRIED|                   0|            EW EMER.|              5|                  0|\n",
      "+----------+------+----------+--------------------+--------------+--------------------+--------------------+---------------+-------------------+\n",
      "only showing top 5 rows\n",
      "\n"
     ]
    },
    {
     "name": "stderr",
     "output_type": "stream",
     "text": [
      "                                                                                \r"
     ]
    }
   ],
   "execution_count": 11
  },
  {
   "metadata": {},
   "cell_type": "markdown",
   "source": "##### Demographics Overview",
   "id": "b2dd65ee0080a9c6"
  },
  {
   "metadata": {
    "ExecuteTime": {
     "end_time": "2025-07-07T20:26:47.043739Z",
     "start_time": "2025-07-07T20:26:09.799786Z"
    }
   },
   "cell_type": "code",
   "source": [
    "from pyspark.sql.functions import count, avg\n",
    "\n",
    "# Gender distribution\n",
    "enriched_df.groupBy(\"gender\").count().show()\n",
    "\n",
    "# Race distribution\n",
    "enriched_df.groupBy(\"race\").count().orderBy(\"count\", ascending=False).show()\n",
    "\n",
    "# Marital status\n",
    "enriched_df.groupBy(\"marital_status\").count().orderBy(\"count\", ascending=False).show()\n",
    "\n",
    "# Average age\n",
    "enriched_df.select(avg(\"anchor_age\").alias(\"average_age\")).show()\n"
   ],
   "id": "b6fc708239149644",
   "outputs": [
    {
     "name": "stderr",
     "output_type": "stream",
     "text": [
      "                                                                                \r"
     ]
    },
    {
     "name": "stdout",
     "output_type": "stream",
     "text": [
      "+------+-----+\n",
      "|gender|count|\n",
      "+------+-----+\n",
      "|     M|58345|\n",
      "|     F|53297|\n",
      "+------+-----+\n",
      "\n"
     ]
    },
    {
     "name": "stderr",
     "output_type": "stream",
     "text": [
      "                                                                                \r"
     ]
    },
    {
     "name": "stdout",
     "output_type": "stream",
     "text": [
      "+--------------------+-----+\n",
      "|                race|count|\n",
      "+--------------------+-----+\n",
      "|               WHITE|62691|\n",
      "|BLACK/AFRICAN AME...|23834|\n",
      "|               OTHER| 3388|\n",
      "|HISPANIC/LATINO -...| 3269|\n",
      "|  HISPANIC OR LATINO| 2852|\n",
      "|     WHITE - RUSSIAN| 2047|\n",
      "|WHITE - OTHER EUR...| 1642|\n",
      "|             UNKNOWN| 1333|\n",
      "|  BLACK/CAPE VERDEAN| 1275|\n",
      "|     ASIAN - CHINESE| 1216|\n",
      "|HISPANIC/LATINO -...| 1215|\n",
      "|BLACK/CARIBBEAN I...| 1048|\n",
      "|               ASIAN|  947|\n",
      "|       BLACK/AFRICAN|  606|\n",
      "|          PORTUGUESE|  561|\n",
      "|    UNABLE TO OBTAIN|  404|\n",
      "|ASIAN - SOUTH EAS...|  399|\n",
      "|PATIENT DECLINED ...|  337|\n",
      "|ASIAN - ASIAN INDIAN|  324|\n",
      "|HISPANIC/LATINO -...|  318|\n",
      "+--------------------+-----+\n",
      "only showing top 20 rows\n",
      "\n"
     ]
    },
    {
     "name": "stderr",
     "output_type": "stream",
     "text": [
      "                                                                                \r"
     ]
    },
    {
     "name": "stdout",
     "output_type": "stream",
     "text": [
      "+--------------+-----+\n",
      "|marital_status|count|\n",
      "+--------------+-----+\n",
      "|       MARRIED|47547|\n",
      "|        SINGLE|37781|\n",
      "|       WIDOWED|15701|\n",
      "|      DIVORCED| 9559|\n",
      "|          NULL| 1054|\n",
      "+--------------+-----+\n",
      "\n"
     ]
    },
    {
     "name": "stderr",
     "output_type": "stream",
     "text": [
      "[Stage 111:>                                                        (0 + 1) / 1]\r"
     ]
    },
    {
     "name": "stdout",
     "output_type": "stream",
     "text": [
      "+------------------+\n",
      "|       average_age|\n",
      "+------------------+\n",
      "|62.850056430375666|\n",
      "+------------------+\n",
      "\n"
     ]
    },
    {
     "name": "stderr",
     "output_type": "stream",
     "text": [
      "                                                                                \r"
     ]
    }
   ],
   "execution_count": 12
  },
  {
   "metadata": {},
   "cell_type": "markdown",
   "source": "##### Admission Type and Mortality",
   "id": "3456d7790c225b33"
  },
  {
   "metadata": {
    "ExecuteTime": {
     "end_time": "2025-07-07T20:27:05.066772Z",
     "start_time": "2025-07-07T20:26:47.156354Z"
    }
   },
   "cell_type": "code",
   "source": [
    "# Admission types\n",
    "enriched_df.groupBy(\"admission_type\").count().orderBy(\"count\", ascending=False).show()\n",
    "\n",
    "# Mortality flag distribution\n",
    "enriched_df.groupBy(\"hospital_expire_flag\").count().show()\n"
   ],
   "id": "79c288bf5a3396bf",
   "outputs": [
    {
     "name": "stderr",
     "output_type": "stream",
     "text": [
      "                                                                                \r"
     ]
    },
    {
     "name": "stdout",
     "output_type": "stream",
     "text": [
      "+--------------------+-----+\n",
      "|      admission_type|count|\n",
      "+--------------------+-----+\n",
      "|            EW EMER.|48663|\n",
      "|      EU OBSERVATION|20418|\n",
      "|   OBSERVATION ADMIT|12554|\n",
      "|              URGENT| 8066|\n",
      "|SURGICAL SAME DAY...| 7015|\n",
      "|        DIRECT EMER.| 6201|\n",
      "|  DIRECT OBSERVATION| 4160|\n",
      "|            ELECTIVE| 2455|\n",
      "|AMBULATORY OBSERV...| 2110|\n",
      "+--------------------+-----+\n",
      "\n"
     ]
    },
    {
     "name": "stderr",
     "output_type": "stream",
     "text": [
      "[Stage 143:>                                                        (0 + 1) / 1]\r"
     ]
    },
    {
     "name": "stdout",
     "output_type": "stream",
     "text": [
      "+--------------------+------+\n",
      "|hospital_expire_flag| count|\n",
      "+--------------------+------+\n",
      "|                   1|  2443|\n",
      "|                   0|109199|\n",
      "+--------------------+------+\n",
      "\n"
     ]
    },
    {
     "name": "stderr",
     "output_type": "stream",
     "text": [
      "                                                                                \r"
     ]
    }
   ],
   "execution_count": 13
  },
  {
   "metadata": {},
   "cell_type": "markdown",
   "source": "##### Complication Distribution",
   "id": "6bb86e165e6952fc"
  },
  {
   "metadata": {
    "ExecuteTime": {
     "end_time": "2025-07-07T20:27:16.487529Z",
     "start_time": "2025-07-07T20:27:05.150138Z"
    }
   },
   "cell_type": "code",
   "source": [
    "from pyspark.sql.functions import sum as spark_sum\n",
    "\n",
    "# complication_cols = [\n",
    "#     \"comp_retinopathy\", \"comp_neuropathy\", \"comp_nephropathy\",\n",
    "#     \"comp_cardiovascular\", \"comp_foot_ulcer\"\n",
    "# ]\n",
    "\n",
    "complication_cols = [\n",
    "     \"comp_neuropathy\", \"comp_cardiovascular\"\n",
    "]\n",
    "# Sum total cases of each complication\n",
    "enriched_df.select([\n",
    "    spark_sum(col(c)).alias(f\"{c}_count\") for c in complication_cols\n",
    "]).show()\n"
   ],
   "id": "c0ec9efa8c700446",
   "outputs": [
    {
     "name": "stderr",
     "output_type": "stream",
     "text": [
      "[Stage 160:>                                                        (0 + 1) / 1]\r"
     ]
    },
    {
     "name": "stdout",
     "output_type": "stream",
     "text": [
      "+---------------------+-------------------------+\n",
      "|comp_neuropathy_count|comp_cardiovascular_count|\n",
      "+---------------------+-------------------------+\n",
      "|               281639|                   199567|\n",
      "+---------------------+-------------------------+\n",
      "\n"
     ]
    },
    {
     "name": "stderr",
     "output_type": "stream",
     "text": [
      "                                                                                \r"
     ]
    }
   ],
   "execution_count": 14
  },
  {
   "metadata": {},
   "cell_type": "markdown",
   "source": "#### Visualize Diabetic Cohort",
   "id": "8e385f95c5479b55"
  },
  {
   "metadata": {
    "ExecuteTime": {
     "end_time": "2025-07-07T20:27:29.861234Z",
     "start_time": "2025-07-07T20:27:16.561551Z"
    }
   },
   "cell_type": "code",
   "source": [
    "# Convert to Pandas for plotting\n",
    "#PS: REMOVED THE OTHER COMPLICATIONS HERE!\n",
    "plot_df = enriched_df.select(\n",
    "    \"gender\", \"anchor_age\", \"race\", \"marital_status\", \"admission_type\", \"hospital_expire_flag\", \"comp_neuropathy\", \"comp_cardiovascular\",\n",
    ").toPandas()\n"
   ],
   "id": "2c44469ddf94707b",
   "outputs": [
    {
     "name": "stderr",
     "output_type": "stream",
     "text": [
      "                                                                                \r"
     ]
    }
   ],
   "execution_count": 15
  },
  {
   "metadata": {},
   "cell_type": "markdown",
   "source": "##### Gender Distribution",
   "id": "f87d87e715220a0f"
  },
  {
   "metadata": {
    "ExecuteTime": {
     "end_time": "2025-07-07T20:27:30.439413Z",
     "start_time": "2025-07-07T20:27:29.872773Z"
    }
   },
   "cell_type": "code",
   "source": [
    "sns.countplot(data=plot_df, x='gender')\n",
    "plt.title(\"Gender Distribution\")\n",
    "plt.show()\n"
   ],
   "id": "db16c273aa2088ad",
   "outputs": [
    {
     "data": {
      "text/plain": [
       "<Figure size 640x480 with 1 Axes>"
      ],
      "image/png": "[encoded data removed]"
     },
     "metadata": {},
     "output_type": "display_data"
    }
   ],
   "execution_count": 16
  },
  {
   "metadata": {},
   "cell_type": "markdown",
   "source": "##### Age Distribution",
   "id": "8eff68aab1d37ba0"
  },
  {
   "metadata": {
    "ExecuteTime": {
     "end_time": "2025-07-07T20:27:31.320021Z",
     "start_time": "2025-07-07T20:27:30.491970Z"
    }
   },
   "cell_type": "code",
   "source": [
    "plt.figure(figsize=(10, 6))\n",
    "sns.histplot(plot_df['anchor_age'], bins=40, kde=True)\n",
    "plt.title(\"Age Distribution of Diabetic Patients\")\n",
    "plt.xlabel(\"Age\")\n",
    "plt.ylabel(\"Count\")\n",
    "plt.show()\n"
   ],
   "id": "e91e605f52d0d2a2",
   "outputs": [
    {
     "data": {
      "text/plain": [
       "<Figure size 1000x600 with 1 Axes>"
      ],
      "image/png": "[encoded data removed]"
     },
     "metadata": {},
     "output_type": "display_data"
    }
   ],
   "execution_count": 17
  },
  {
   "metadata": {},
   "cell_type": "markdown",
   "source": "##### Complications Bar Chart",
   "id": "192379dfa7c3a524"
  },
  {
   "metadata": {
    "ExecuteTime": {
     "end_time": "2025-07-07T20:27:31.797986Z",
     "start_time": "2025-07-07T20:27:31.431471Z"
    }
   },
   "cell_type": "code",
   "source": [
    "# complication_cols = [\"comp_retinopathy\", \"comp_neuropathy\", \"comp_nephropathy\", \"comp_cardiovascular\", \"comp_foot_ulcer\"]\n",
    "complication_cols = [\"comp_neuropathy\", \"comp_cardiovascular\"]\n",
    "comp_counts = plot_df[complication_cols].sum().sort_values(ascending=False)\n",
    "\n",
    "plt.figure(figsize=(10,6))\n",
    "sns.barplot(x=comp_counts.index, y=comp_counts.values)\n",
    "plt.title(\"Distribution of Diabetes-Related Complications\")\n",
    "plt.ylabel(\"Total Mentions\")\n",
    "plt.xlabel(\"Complication Type\")\n",
    "plt.xticks(rotation=45)\n",
    "plt.show()\n"
   ],
   "id": "d9cd7a3119852ac2",
   "outputs": [
    {
     "data": {
      "text/plain": [
       "<Figure size 1000x600 with 1 Axes>"
      ],
      "image/png": "[encoded data removed]"
     },
     "metadata": {},
     "output_type": "display_data"
    }
   ],
   "execution_count": 18
  },
  {
   "metadata": {},
   "cell_type": "markdown",
   "source": "##### Race Breakdown (Top 10)",
   "id": "f99c1b5057e58eeb"
  },
  {
   "metadata": {
    "ExecuteTime": {
     "end_time": "2025-07-07T20:27:32.230998Z",
     "start_time": "2025-07-07T20:27:31.852685Z"
    }
   },
   "cell_type": "code",
   "source": [
    "top_races = plot_df['race'].value_counts().head(10)\n",
    "\n",
    "plt.figure(figsize=(12,6))\n",
    "sns.barplot(x=top_races.index, y=top_races.values)\n",
    "plt.title(\"Top 10 Race Categories\")\n",
    "plt.xticks(rotation=45)\n",
    "plt.ylabel(\"Count\")\n",
    "plt.show()\n"
   ],
   "id": "ab2d985aee1ef4a1",
   "outputs": [
    {
     "data": {
      "text/plain": [
       "<Figure size 1200x600 with 1 Axes>"
      ],
      "image/png": "[encoded data removed]"
     },
     "metadata": {},
     "output_type": "display_data"
    }
   ],
   "execution_count": 19
  },
  {
   "metadata": {},
   "cell_type": "markdown",
   "source": "##### Admission Type Breakdown",
   "id": "3ad1348e5b0dc905"
  },
  {
   "metadata": {
    "ExecuteTime": {
     "end_time": "2025-07-07T20:27:32.540177Z",
     "start_time": "2025-07-07T20:27:32.281038Z"
    }
   },
   "cell_type": "code",
   "source": [
    "top_admissions = plot_df['admission_type'].value_counts()\n",
    "\n",
    "plt.figure(figsize=(12,6))\n",
    "sns.barplot(x=top_admissions.index, y=top_admissions.values)\n",
    "plt.title(\"Admission Types for Diabetic Patients\")\n",
    "plt.xticks(rotation=45)\n",
    "plt.ylabel(\"Count\")\n",
    "plt.show()\n"
   ],
   "id": "5a44cd3d2e29e973",
   "outputs": [
    {
     "data": {
      "text/plain": [
       "<Figure size 1200x600 with 1 Axes>"
      ],
      "image/png": "[encoded data removed]"
     },
     "metadata": {},
     "output_type": "display_data"
    }
   ],
   "execution_count": 20
  },
  {
   "metadata": {},
   "cell_type": "markdown",
   "source": "##### Identify Diabetes-Relevant Lab Tests",
   "id": "9bedd5193b287c0a"
  },
  {
   "metadata": {
    "ExecuteTime": {
     "end_time": "2025-07-07T20:27:32.904250Z",
     "start_time": "2025-07-07T20:27:32.597399Z"
    }
   },
   "cell_type": "code",
   "source": [
    "#inspect d_labitems_df\n",
    "d_labitems_df.printSchema()\n",
    "print(f\"✅ Row count: {d_labitems_df.count()}\")\n"
   ],
   "id": "45094da79ca9d44e",
   "outputs": [
    {
     "name": "stdout",
     "output_type": "stream",
     "text": [
      "root\n",
      " |-- itemid: integer (nullable = true)\n",
      " |-- label: string (nullable = true)\n",
      " |-- fluid: string (nullable = true)\n",
      " |-- category: string (nullable = true)\n",
      "\n",
      "✅ Row count: 1650\n"
     ]
    }
   ],
   "execution_count": 21
  },
  {
   "metadata": {
    "ExecuteTime": {
     "end_time": "2025-07-07T20:27:33.143337Z",
     "start_time": "2025-07-07T20:27:32.948854Z"
    }
   },
   "cell_type": "code",
   "source": [
    "\n",
    "d_labitems_df.select(\"itemid\", \"label\", \"fluid\", \"category\").show(20, truncate=False)"
   ],
   "id": "d751022dc9410fe5",
   "outputs": [
    {
     "name": "stdout",
     "output_type": "stream",
     "text": [
      "+------+-----------------------------------+-----+---------+\n",
      "|itemid|label                              |fluid|category |\n",
      "+------+-----------------------------------+-----+---------+\n",
      "|50801 |Alveolar-arterial Gradient         |Blood|Blood Gas|\n",
      "|50802 |Base Excess                        |Blood|Blood Gas|\n",
      "|50803 |Calculated Bicarbonate, Whole Blood|Blood|Blood Gas|\n",
      "|50804 |Calculated Total CO2               |Blood|Blood Gas|\n",
      "|50805 |Carboxyhemoglobin                  |Blood|Blood Gas|\n",
      "|50806 |Chloride, Whole Blood              |Blood|Blood Gas|\n",
      "|50808 |Free Calcium                       |Blood|Blood Gas|\n",
      "|50809 |Glucose                            |Blood|Blood Gas|\n",
      "|50810 |Hematocrit, Calculated             |Blood|Blood Gas|\n",
      "|50811 |Hemoglobin                         |Blood|Blood Gas|\n",
      "|50812 |Intubated                          |Blood|Blood Gas|\n",
      "|50813 |Lactate                            |Blood|Blood Gas|\n",
      "|50814 |Methemoglobin                      |Blood|Blood Gas|\n",
      "|50815 |O2 Flow                            |Blood|Blood Gas|\n",
      "|50816 |Oxygen                             |Blood|Blood Gas|\n",
      "|50817 |Oxygen Saturation                  |Blood|Blood Gas|\n",
      "|50818 |pCO2                               |Blood|Blood Gas|\n",
      "|50819 |PEEP                               |Blood|Blood Gas|\n",
      "|50820 |pH                                 |Blood|Blood Gas|\n",
      "|50821 |pO2                                |Blood|Blood Gas|\n",
      "+------+-----------------------------------+-----+---------+\n",
      "only showing top 20 rows\n",
      "\n"
     ]
    }
   ],
   "execution_count": 22
  },
  {
   "metadata": {
    "ExecuteTime": {
     "end_time": "2025-07-07T20:27:35.551044Z",
     "start_time": "2025-07-07T20:27:33.253340Z"
    }
   },
   "cell_type": "code",
   "source": [
    "# keywords = [\"glucose\", \"creatinine\", \"a1c\", \"albumin\", \"bun\", \"cholesterol\", \"ldl\", \"hdl\", \"triglyceride\", \"crp\"]\n",
    "\n",
    "keywords = [\"glucose\", \"creatinine\", \"a1c\", \"albumin\", \"cholesterol\", \"ldl\", \"hdl\", \"triglyceride\"]\n",
    "\n",
    "for kw in keywords:\n",
    "    print(f\"\\n🔍 Searching for: {kw}\")\n",
    "    d_labitems_df.filter(lower(col(\"label\")).contains(kw))\\\n",
    "                 .select(\"itemid\", \"label\", \"fluid\", \"category\")\\\n",
    "                 .distinct().show(50, truncate=False)\n"
   ],
   "id": "4e949ec35fb1a8a4",
   "outputs": [
    {
     "name": "stdout",
     "output_type": "stream",
     "text": [
      "\n",
      "🔍 Searching for: glucose\n",
      "+------+--------------------+-------------------+----------+\n",
      "|itemid|label               |fluid              |category  |\n",
      "+------+--------------------+-------------------+----------+\n",
      "|51084 |Glucose, Urine      |Urine              |Chemistry |\n",
      "|51034 |Glucose, Body Fluid |Other Body Fluid   |Chemistry |\n",
      "|50842 |Glucose, Ascites    |Ascites            |Chemistry |\n",
      "|52569 |Glucose             |Blood              |Chemistry |\n",
      "|51022 |Glucose, Joint Fluid|Joint Fluid        |Chemistry |\n",
      "|51053 |Glucose, Pleural    |Pleural            |Chemistry |\n",
      "|50931 |Glucose             |Blood              |Chemistry |\n",
      "|51790 |Glucose, CSF        |Cerebrospinal Fluid|Chemistry |\n",
      "|50809 |Glucose             |Blood              |Blood Gas |\n",
      "|52027 |Glucose, Whole Blood|Blood              |Blood Gas |\n",
      "|51981 |Glucose             |Urine              |Chemistry |\n",
      "|51941 |Glucose, Stool      |Stool              |Chemistry |\n",
      "|51478 |Glucose             |Urine              |Hematology|\n",
      "+------+--------------------+-------------------+----------+\n",
      "\n",
      "\n",
      "🔍 Searching for: creatinine\n",
      "+------+-------------------------------+-------------------+---------+\n",
      "|itemid|label                          |fluid              |category |\n",
      "+------+-------------------------------+-------------------+---------+\n",
      "|51070 |Albumin/Creatinine, Urine      |Urine              |Chemistry|\n",
      "|51052 |Creatinine, Pleural            |Pleural            |Chemistry|\n",
      "|50912 |Creatinine                     |Blood              |Chemistry|\n",
      "|51067 |24 hr Creatinine               |Urine              |Chemistry|\n",
      "|51081 |Creatinine, Serum              |Urine              |Chemistry|\n",
      "|51963 |Amylase/Creatinine Clearance   |Urine              |Chemistry|\n",
      "|51787 |Creatinine, CSF                |Cerebrospinal Fluid|Chemistry|\n",
      "|51080 |Creatinine Clearance           |Urine              |Chemistry|\n",
      "|51032 |Creatinine, Body Fluid         |Other Body Fluid   |Chemistry|\n",
      "|51977 |Creatinine, Blood              |Urine              |Chemistry|\n",
      "|51937 |Creatinine, Stool              |Stool              |Chemistry|\n",
      "|52546 |Creatinine                     |Blood              |Chemistry|\n",
      "|52024 |Creatinine, Whole Blood        |Blood              |Blood Gas|\n",
      "|50841 |Creatinine, Ascites            |Ascites            |Chemistry|\n",
      "|51082 |Creatinine, Urine              |Urine              |Chemistry|\n",
      "|51106 |Urine Creatinine               |Urine              |Chemistry|\n",
      "|51021 |Creatinine, Joint Fluid        |Joint Fluid        |Chemistry|\n",
      "|51073 |Amylase/Creatinine Ratio, Urine|Urine              |Chemistry|\n",
      "|51099 |Protein/Creatinine Ratio       |Urine              |Chemistry|\n",
      "|52000 |Urine  Creatinine              |Urine              |Chemistry|\n",
      "+------+-------------------------------+-------------------+---------+\n",
      "\n",
      "\n",
      "🔍 Searching for: a1c\n",
      "+------+----------------+-----+---------+\n",
      "|itemid|label           |fluid|category |\n",
      "+------+----------------+-----+---------+\n",
      "|50852 |% Hemoglobin A1c|Blood|Chemistry|\n",
      "|50854 |Absolute A1c    |Blood|Chemistry|\n",
      "+------+----------------+-----+---------+\n",
      "\n",
      "\n",
      "🔍 Searching for: albumin\n",
      "+------+-------------------------+-------------------+---------+\n",
      "|itemid|label                    |fluid              |category |\n",
      "+------+-------------------------+-------------------+---------+\n",
      "|51070 |Albumin/Creatinine, Urine|Urine              |Chemistry|\n",
      "|53138 |(Albumin)                |Blood              |Chemistry|\n",
      "|51926 |(Albumin)                |Stool              |Chemistry|\n",
      "|51069 |Albumin, Urine           |Urine              |Chemistry|\n",
      "|50862 |Albumin                  |Blood              |Chemistry|\n",
      "|51776 |<Albumin>                |Cerebrospinal Fluid|Chemistry|\n",
      "|51807 |(Albumin)                |Joint Fluid        |Chemistry|\n",
      "|50835 |Albumin, Ascites         |Ascites            |Chemistry|\n",
      "|51046 |Albumin, Pleural         |Pleural            |Chemistry|\n",
      "|53085 |Albumin                  |Blood              |Chemistry|\n",
      "|51019 |Albumin, Joint Fluid     |Joint Fluid        |Chemistry|\n",
      "|51775 |(Albumin)                |Cerebrospinal Fluid|Chemistry|\n",
      "|53116 |(Albumin)                |Ascites            |Chemistry|\n",
      "|51777 |Albumin, CSF             |Cerebrospinal Fluid|Chemistry|\n",
      "|51897 |Surfactant/Albumin       |Other Body Fluid   |Chemistry|\n",
      "|51927 |Albumin, Stool           |Stool              |Chemistry|\n",
      "|52703 |Albumin, Urine           |Urine              |Chemistry|\n",
      "|51836 |<Albumin>                |Other Body Fluid   |Chemistry|\n",
      "|51025 |Albumin, Body Fluid      |Other Body Fluid   |Chemistry|\n",
      "|52022 |Albumin, Blood           |Blood              |Blood Gas|\n",
      "|51910 |(Albumin)                |Pleural            |Chemistry|\n",
      "+------+-------------------------+-------------------+---------+\n",
      "\n",
      "\n",
      "🔍 Searching for: cholesterol\n",
      "+------+-----------------------------+-------------------+----------+\n",
      "|itemid|label                        |fluid              |category  |\n",
      "+------+-----------------------------+-------------------+----------+\n",
      "|50903 |Cholesterol Ratio (Total/HDL)|Blood              |Chemistry |\n",
      "|51785 |Cholesterol, CSF             |Cerebrospinal Fluid|Chemistry |\n",
      "|51472 |Cholesterol Crystals         |Urine              |Hematology|\n",
      "|51031 |Cholesterol, Body Fluid      |Other Body Fluid   |Chemistry |\n",
      "|51935 |Cholesterol, Stool           |Stool              |Chemistry |\n",
      "|51051 |Cholesterol, Pleural         |Pleural            |Chemistry |\n",
      "|50905 |Cholesterol, LDL, Calculated |Blood              |Chemistry |\n",
      "|50907 |Cholesterol, Total           |Blood              |Chemistry |\n",
      "|50840 |Cholesterol, Ascites         |Ascites            |Chemistry |\n",
      "|50906 |Cholesterol, LDL, Measured   |Blood              |Chemistry |\n",
      "|50904 |Cholesterol, HDL             |Blood              |Chemistry |\n",
      "|51814 |Cholesterol, Joint Fluid     |Joint Fluid        |Chemistry |\n",
      "+------+-----------------------------+-------------------+----------+\n",
      "\n",
      "\n",
      "🔍 Searching for: ldl\n",
      "+------+----------------------------+-----+---------+\n",
      "|itemid|label                       |fluid|category |\n",
      "+------+----------------------------+-----+---------+\n",
      "|50905 |Cholesterol, LDL, Calculated|Blood|Chemistry|\n",
      "|51722 |RFXLDLM                     |Blood|Chemistry|\n",
      "|50906 |Cholesterol, LDL, Measured  |Blood|Chemistry|\n",
      "+------+----------------------------+-----+---------+\n",
      "\n",
      "\n",
      "🔍 Searching for: hdl\n",
      "+------+-----------------------------+-----+---------+\n",
      "|itemid|label                        |fluid|category |\n",
      "+------+-----------------------------+-----+---------+\n",
      "|50903 |Cholesterol Ratio (Total/HDL)|Blood|Chemistry|\n",
      "|50904 |Cholesterol, HDL             |Blood|Chemistry|\n",
      "+------+-----------------------------+-----+---------+\n",
      "\n",
      "\n",
      "🔍 Searching for: triglyceride\n",
      "+------+--------------------------+-------------------+---------+\n",
      "|itemid|label                     |fluid              |category |\n",
      "+------+--------------------------+-------------------+---------+\n",
      "|51000 |Triglycerides             |Blood              |Chemistry|\n",
      "|51950 |Triglycerides, Stool      |Stool              |Chemistry|\n",
      "|50850 |Triglycerides, Ascites    |Ascites            |Chemistry|\n",
      "|51060 |Triglycerides, Pleural    |Pleural            |Chemistry|\n",
      "|51803 |Triglycerides, CSF        |Cerebrospinal Fluid|Chemistry|\n",
      "|51824 |Triglycerides, Joint Fluid|Joint Fluid        |Chemistry|\n",
      "+------+--------------------------+-------------------+---------+\n",
      "\n"
     ]
    }
   ],
   "execution_count": 23
  },
  {
   "metadata": {},
   "cell_type": "markdown",
   "source": "#### Lab Events Filtering",
   "id": "6767155e6d8bebd6"
  },
  {
   "metadata": {},
   "cell_type": "markdown",
   "source": "##### Lab Tests for Diabetic Complications",
   "id": "bf9fa2fcd03c1cf6"
  },
  {
   "metadata": {
    "ExecuteTime": {
     "end_time": "2025-07-07T20:27:35.962299Z",
     "start_time": "2025-07-07T20:27:35.657964Z"
    }
   },
   "cell_type": "code",
   "source": [
    "\n",
    "# 🧪 Step 3: Define final list of selected lab itemids\n",
    "selected_lab_items = {\n",
    "    \"glucose\": 50931,\n",
    "    \"a1c\": 50852,\n",
    "    \"creatinine\": 50912,\n",
    "    \"albumin\": 50862,\n",
    "    \"albumin_creatinine_ratio\": 51070,\n",
    "    \"ldl\": 50906,\n",
    "    \"hdl\": 50904,\n",
    "    \"triglycerides\": 51000,\n",
    "\n",
    "}\n",
    "#Removing the CRP & BUN as they don't have any patient data within the working time window\n",
    "\n",
    "#\"crp\": 51652 | \"bun\": 51842,\n",
    "\n",
    "#  Step 2: Convert to list explicitly\n",
    "selected_item_ids = list(selected_lab_items.values())\n",
    "\n",
    "#  Step 3: Filter labs\n",
    "filtered_labs_df = labs_df.filter(col(\"itemid\").isin(selected_item_ids))\n",
    "\n",
    "# Step 4: Preview\n",
    "print(\"Filtered lab events (relevant to diabetic complications):\")\n",
    "filtered_labs_df.select(\"subject_id\", \"itemid\", \"charttime\", \"value\", \"valuenum\", \"valueuom\").show(10)"
   ],
   "id": "cd5f0c2743fe055a",
   "outputs": [
    {
     "name": "stdout",
     "output_type": "stream",
     "text": [
      "Filtered lab events (relevant to diabetic complications):\n",
      "+----------+------+-------------------+-----+--------+--------+\n",
      "|subject_id|itemid|          charttime|value|valuenum|valueuom|\n",
      "+----------+------+-------------------+-----+--------+--------+\n",
      "|  10000032| 50931|2180-03-23 11:51:00|  ___|    95.0|   mg/dL|\n",
      "|  10000032| 50862|2180-03-23 11:51:00|  3.3|     3.3|    g/dL|\n",
      "|  10000032| 50904|2180-03-23 11:51:00|   52|    52.0|   mg/dL|\n",
      "|  10000032| 50912|2180-03-23 11:51:00|  0.4|     0.4|   mg/dL|\n",
      "|  10000032| 51000|2180-03-23 11:51:00|  ___|    73.0|   mg/dL|\n",
      "|  10000032| 50862|2180-05-06 22:25:00|  3.3|     3.3|    g/dL|\n",
      "|  10000032| 50912|2180-05-06 22:25:00|  0.3|     0.3|   mg/dL|\n",
      "|  10000032| 50931|2180-05-06 22:25:00|  ___|   109.0|   mg/dL|\n",
      "|  10000032| 50912|2180-05-07 05:05:00|  0.3|     0.3|   mg/dL|\n",
      "|  10000032| 50931|2180-05-07 05:05:00|  ___|    99.0|   mg/dL|\n",
      "+----------+------+-------------------+-----+--------+--------+\n",
      "only showing top 10 rows\n",
      "\n"
     ]
    }
   ],
   "execution_count": 24
  },
  {
   "metadata": {},
   "cell_type": "markdown",
   "source": "#### Aggregate Lab Features per Patient",
   "id": "1360954945b66cc8"
  },
  {
   "metadata": {
    "ExecuteTime": {
     "end_time": "2025-07-07T20:36:32.569584Z",
     "start_time": "2025-07-07T20:27:36.024156Z"
    }
   },
   "cell_type": "code",
   "source": [
    "from pyspark.sql.functions import mean, max, count, when\n",
    "from pyspark.sql import functions as F\n",
    "\n",
    "# Map itemid back to readable labname\n",
    "lab_id_to_name = {v: k for k, v in selected_lab_items.items()}\n",
    "lab_mapping_expr = F.create_map([F.lit(x) for pair in lab_id_to_name.items() for x in pair])\n",
    "labeled_labs_df = filtered_labs_df.withColumn(\"labname\", lab_mapping_expr[col(\"itemid\")])\n",
    "\n",
    "# Group by subject_id and labname and aggregate\n",
    "agg_labs_df = labeled_labs_df.groupBy(\"subject_id\", \"labname\").agg(\n",
    "    mean(\"valuenum\").alias(\"lab_mean\"),\n",
    "    max(\"valuenum\").alias(\"lab_max\"),\n",
    "    count(\"valuenum\").alias(\"lab_count\")\n",
    ")\n",
    "\n",
    "# Pivot so each labname becomes a column\n",
    "pivot_labs_df = agg_labs_df.groupBy(\"subject_id\").pivot(\"labname\").agg(\n",
    "    F.first(\"lab_mean\").alias(\"mean\"),\n",
    "    F.first(\"lab_max\").alias(\"max\"),\n",
    "    F.first(\"lab_count\").alias(\"count\")\n",
    ")\n",
    "\n",
    "# Preview\n",
    "pivot_labs_df.show(5, truncate=False)\n"
   ],
   "id": "9494e46caefeaba5",
   "outputs": [
    {
     "name": "stderr",
     "output_type": "stream",
     "text": [
      "[Stage 231:============================>                            (2 + 2) / 4]\r"
     ]
    },
    {
     "name": "stdout",
     "output_type": "stream",
     "text": [
      "+----------+-----------------+-------+---------+------------------+-----------+-------------+-----------------------------+----------------------------+------------------------------+------------------+--------------+----------------+------------------+-----------+-------------+--------+-------+---------+--------+-------+---------+------------------+-----------------+-------------------+\n",
      "|subject_id|a1c_mean         |a1c_max|a1c_count|albumin_mean      |albumin_max|albumin_count|albumin_creatinine_ratio_mean|albumin_creatinine_ratio_max|albumin_creatinine_ratio_count|creatinine_mean   |creatinine_max|creatinine_count|glucose_mean      |glucose_max|glucose_count|hdl_mean|hdl_max|hdl_count|ldl_mean|ldl_max|ldl_count|triglycerides_mean|triglycerides_max|triglycerides_count|\n",
      "+----------+-----------------+-------+---------+------------------+-----------+-------------+-----------------------------+----------------------------+------------------------------+------------------+--------------+----------------+------------------+-----------+-------------+--------+-------+---------+--------+-------+---------+------------------+-----------------+-------------------+\n",
      "|14169448  |NULL             |NULL   |NULL     |4.5               |4.5        |1            |NULL                         |NULL                        |NULL                          |0.8500000000000001|0.9           |2               |94.5              |97.0       |2            |NULL    |NULL   |NULL     |NULL    |NULL   |NULL     |NULL              |NULL             |NULL               |\n",
      "|16796190  |NULL             |NULL   |NULL     |3.5833333333333335|4.0        |6            |NULL                         |NULL                        |NULL                          |0.6285714285714287|0.9           |14              |137.375           |185.0      |8            |NULL    |NULL   |NULL     |NULL    |NULL   |NULL     |NULL              |NULL             |NULL               |\n",
      "|19003966  |NULL             |NULL   |NULL     |4.5               |4.5        |1            |NULL                         |NULL                        |NULL                          |0.8               |0.8           |2               |89.5              |99.0       |2            |NULL    |NULL   |NULL     |NULL    |NULL   |NULL     |NULL              |NULL             |NULL               |\n",
      "|19054375  |NULL             |NULL   |NULL     |NULL              |NULL       |NULL         |NULL                         |NULL                        |NULL                          |0.6               |0.6           |1               |141.0             |141.0      |1            |NULL    |NULL   |NULL     |NULL    |NULL   |NULL     |NULL              |NULL             |NULL               |\n",
      "|12288757  |5.733333333333334|6.1    |3        |4.1000000000000005|4.5        |6            |NULL                         |NULL                        |NULL                          |2.0976744186046505|3.2           |129             |161.26271186440678|316.0      |118          |51.0    |51.0   |1        |NULL    |NULL   |NULL     |121.0             |121.0            |1                  |\n",
      "+----------+-----------------+-------+---------+------------------+-----------+-------------+-----------------------------+----------------------------+------------------------------+------------------+--------------+----------------+------------------+-----------+-------------+--------+-------+---------+--------+-------+---------+------------------+-----------------+-------------------+\n",
      "only showing top 5 rows\n",
      "\n"
     ]
    },
    {
     "name": "stderr",
     "output_type": "stream",
     "text": [
      "                                                                                \r"
     ]
    }
   ],
   "execution_count": 25
  },
  {
   "metadata": {},
   "cell_type": "markdown",
   "source": "#### Time-to-Complication Analysis",
   "id": "429a55b9ed90cc79"
  },
  {
   "metadata": {
    "ExecuteTime": {
     "end_time": "2025-07-07T20:36:33.161205Z",
     "start_time": "2025-07-07T20:36:33.090070Z"
    }
   },
   "cell_type": "code",
   "source": [
    "# --- Get each patient's first admission time ---\n",
    "first_admit_df = admissions_df.groupBy(\"subject_id\").agg(\n",
    "    F.min(\"admittime\").alias(\"first_admit_time\")\n",
    ")"
   ],
   "id": "ec5c220a4bd9295",
   "outputs": [],
   "execution_count": 26
  },
  {
   "metadata": {
    "ExecuteTime": {
     "end_time": "2025-07-07T20:36:34.062780Z",
     "start_time": "2025-07-07T20:36:33.674095Z"
    }
   },
   "cell_type": "code",
   "source": [
    "\n",
    " # --- 3. Create an empty list to store results ---\n",
    "time_to_complications = []\n",
    "\n",
    "# --- 4. Loop through each complication type ---\n",
    "for comp, icd_list in complication_conditions.items():\n",
    "    print(f\"🔍 Processing {comp}...\")\n",
    "\n",
    "    # Filter diagnoses by complication-specific ICD codes\n",
    "    comp_df = diagnoses_df.filter(\n",
    "        col(\"icd_code\").isin(icd_list)\n",
    "    ).select(\"subject_id\", \"hadm_id\")\n",
    "\n",
    "    # Join with admissions to get admit time of that diagnosis\n",
    "    comp_admit_df = comp_df.join(\n",
    "        admissions_df.select(\"subject_id\", \"hadm_id\", \"admittime\"),\n",
    "        on=[\"subject_id\", \"hadm_id\"],\n",
    "        how=\"inner\"\n",
    "    ).groupBy(\"subject_id\").agg(\n",
    "        min(\"admittime\").alias(f\"{comp}_admit_time\")\n",
    "    )\n",
    "\n",
    "    # Join with first admit time to compute days_to_complication\n",
    "    comp_days_df = comp_admit_df.join(first_admit_df, on=\"subject_id\") \\\n",
    "        .withColumn(f\"days_to_{comp}\", datediff(col(f\"{comp}_admit_time\"), col(\"first_admit_time\")))\n",
    "\n",
    "    # Save to list for documentation or further analysis\n",
    "    time_to_complications.append(comp_days_df.select(\"subject_id\", f\"days_to_{comp}\"))\n"
   ],
   "id": "6de3b131abc73368",
   "outputs": [
    {
     "name": "stdout",
     "output_type": "stream",
     "text": [
      "🔍 Processing neuropathy...\n",
      "🔍 Processing cardiovascular...\n"
     ]
    }
   ],
   "execution_count": 27
  },
  {
   "metadata": {
    "ExecuteTime": {
     "end_time": "2025-07-07T20:36:49.028140Z",
     "start_time": "2025-07-07T20:36:34.244314Z"
    }
   },
   "cell_type": "code",
   "source": [
    "# --- 5. Join all complications together on subject_id ---\n",
    "from functools import reduce\n",
    "\n",
    "time_df = reduce(lambda df1, df2: df1.join(df2, on=\"subject_id\", how=\"outer\"), time_to_complications)\n",
    "\n",
    "# --- 6. Show result ---\n",
    "time_df.orderBy(\"subject_id\").show(10, truncate=False)"
   ],
   "id": "5f6d53d4e12bf377",
   "outputs": [
    {
     "name": "stderr",
     "output_type": "stream",
     "text": [
      "[Stage 243:>                                                        (0 + 4) / 4]\r"
     ]
    },
    {
     "name": "stdout",
     "output_type": "stream",
     "text": [
      "+----------+------------------+----------------------+\n",
      "|subject_id|days_to_neuropathy|days_to_cardiovascular|\n",
      "+----------+------------------+----------------------+\n",
      "|10000690  |NULL              |122                   |\n",
      "|10000764  |NULL              |0                     |\n",
      "|10000980  |1186              |541                   |\n",
      "|10001176  |NULL              |0                     |\n",
      "|10001884  |NULL              |0                     |\n",
      "|10002013  |1420              |0                     |\n",
      "|10002155  |NULL              |371                   |\n",
      "|10002976  |NULL              |0                     |\n",
      "|10003052  |NULL              |0                     |\n",
      "|10003299  |NULL              |2038                  |\n",
      "+----------+------------------+----------------------+\n",
      "only showing top 10 rows\n",
      "\n"
     ]
    },
    {
     "name": "stderr",
     "output_type": "stream",
     "text": [
      "                                                                                \r"
     ]
    }
   ],
   "execution_count": 28
  },
  {
   "metadata": {
    "ExecuteTime": {
     "end_time": "2025-07-07T20:37:03.621390Z",
     "start_time": "2025-07-07T20:36:49.048287Z"
    }
   },
   "cell_type": "code",
   "source": [
    "\n",
    "\n",
    "# Convert to Pandas for local plotting\n",
    "plot_df = time_df.toPandas()\n",
    "\n",
    "# Complication columns to visualize\n",
    "complication_time_cols = [\n",
    "    \"days_to_neuropathy\",\n",
    "    \"days_to_cardiovascular\",\n",
    "]\n",
    "\n",
    "# Set plot style\n",
    "sns.set(style=\"whitegrid\")\n",
    "plt.rcParams[\"figure.figsize\"] = (10, 6)\n",
    "\n",
    "# Loop and plot histograms for each complication delay\n",
    "for comp_col in complication_time_cols:\n",
    "    comp_data = plot_df[comp_col].dropna()\n",
    "    if comp_data.empty:\n",
    "        print(f\"⚠️ Skipping {comp_col} — no data.\")\n",
    "        continue\n",
    "\n",
    "    plt.figure()\n",
    "    sns.histplot(comp_data, bins=50, kde=True, color=\"teal\")\n",
    "    plt.title(f\"Distribution of Time to {comp_col.replace('days_to_', '').capitalize()} (days)\")\n",
    "    plt.xlabel(\"Days from First Admission\")\n",
    "    plt.ylabel(\"Number of Patients\")\n",
    "    plt.grid(True)\n",
    "    plt.tight_layout()\n",
    "    plt.show()\n"
   ],
   "id": "6619404dee533778",
   "outputs": [
    {
     "name": "stderr",
     "output_type": "stream",
     "text": [
      "                                                                                \r"
     ]
    },
    {
     "data": {
      "text/plain": [
       "<Figure size 1000x600 with 1 Axes>"
      ],
      "image/png": "[encoded data removed]"
     },
     "metadata": {},
     "output_type": "display_data"
    },
    {
     "data": {
      "text/plain": [
       "<Figure size 1000x600 with 1 Axes>"
      ],
      "image/png": "[encoded data removed]"
     },
     "metadata": {},
     "output_type": "display_data"
    }
   ],
   "execution_count": 29
  },
  {
   "metadata": {},
   "cell_type": "markdown",
   "source": "#### Compute % Diagnosed Within 90 and 180 Days",
   "id": "26c07267d874bf45"
  },
  {
   "metadata": {
    "ExecuteTime": {
     "end_time": "2025-07-07T20:38:02.421539Z",
     "start_time": "2025-07-07T20:37:03.721863Z"
    }
   },
   "cell_type": "code",
   "source": [
    "def get_complication_proportions(df, complication_columns, days_list=[90, 180]):\n",
    "    results = []\n",
    "    for comp_col in complication_columns:\n",
    "        comp_name = comp_col.replace(\"days_to_\", \"\")\n",
    "        total = df.filter(col(comp_col).isNotNull()).count()\n",
    "        for d in days_list:\n",
    "            within_d = df.filter((col(comp_col).isNotNull()) & (col(comp_col) <= d)).count()\n",
    "            pct = round((within_d / total) * 100, 2) if total > 0 else 0.0\n",
    "            results.append((comp_name, d, pct))\n",
    "    return spark.createDataFrame(results, [\"complication\", \"days_window\", \"percent_within\"])\n",
    "\n",
    "# Example usage\n",
    "complication_cols = [col for col in time_df.columns if col.startswith(\"days_to_\")]\n",
    "percent_df = get_complication_proportions(time_df, complication_cols)\n",
    "percent_df.show()\n"
   ],
   "id": "5e91a229fd7e56b",
   "outputs": [
    {
     "name": "stderr",
     "output_type": "stream",
     "text": [
      "                                                                                \r"
     ]
    },
    {
     "name": "stdout",
     "output_type": "stream",
     "text": [
      "+--------------+-----------+--------------+\n",
      "|  complication|days_window|percent_within|\n",
      "+--------------+-----------+--------------+\n",
      "|    neuropathy|         90|         66.77|\n",
      "|    neuropathy|        180|         70.99|\n",
      "|cardiovascular|         90|         81.91|\n",
      "|cardiovascular|        180|         84.03|\n",
      "+--------------+-----------+--------------+\n",
      "\n"
     ]
    }
   ],
   "execution_count": 30
  },
  {
   "metadata": {},
   "cell_type": "markdown",
   "source": "##### Clustered Bar Chart",
   "id": "74cf52d582654a4b"
  },
  {
   "metadata": {
    "ExecuteTime": {
     "end_time": "2025-07-07T20:38:03.842229Z",
     "start_time": "2025-07-07T20:38:02.537004Z"
    }
   },
   "cell_type": "code",
   "source": [
    "\n",
    "# Convert to Pandas\n",
    "pdf = percent_df.toPandas()\n",
    "\n",
    "# Plot\n",
    "plt.figure(figsize=(10, 6))\n",
    "sns.barplot(data=pdf, x=\"complication\", y=\"percent_within\", hue=\"days_window\", palette=\"coolwarm\")\n",
    "\n",
    "plt.title(\"Percent of Complications Occurring Within 90 vs 180 Days\")\n",
    "plt.ylabel(\"Percent of Patients\")\n",
    "plt.xlabel(\"Complication Type\")\n",
    "plt.legend(title=\"Days Window\")\n",
    "plt.xticks(rotation=45)\n",
    "plt.tight_layout()\n",
    "plt.show()\n"
   ],
   "id": "9a719910835039ef",
   "outputs": [
    {
     "data": {
      "text/plain": [
       "<Figure size 1000x600 with 1 Axes>"
      ],
      "image/png": "[encoded data removed]"
     },
     "metadata": {},
     "output_type": "display_data"
    }
   ],
   "execution_count": 31
  },
  {
   "metadata": {},
   "cell_type": "markdown",
   "source": "##### Count Diagnoses Within vs After 180 Days",
   "id": "5ca2e343ca63180c"
  },
  {
   "metadata": {
    "ExecuteTime": {
     "end_time": "2025-07-07T20:38:16.785607Z",
     "start_time": "2025-07-07T20:38:03.924081Z"
    }
   },
   "cell_type": "code",
   "source": [
    "from pyspark.sql.functions import col, when, count\n",
    "\n",
    "# Define time window\n",
    "cutoff = 180\n",
    "\n",
    "# Prepare a list to store results\n",
    "counts_by_complication = []\n",
    "\n",
    "# Loop through each complication and compute within/after-180d stats\n",
    "for comp in [ \"neuropathy\", \"cardiovascular\"]:\n",
    "    # Only look at rows where the days_to_complication is not null\n",
    "    comp_valid = time_df.filter(col(f\"days_to_{comp}\").isNotNull())\n",
    "\n",
    "    # Classify as within or after 180 days\n",
    "    comp_classified = comp_valid.withColumn(\n",
    "        \"time_window\",\n",
    "        when(col(f\"days_to_{comp}\") <= cutoff, \"within_180d\").otherwise(\"after_180d\")\n",
    "    )\n",
    "\n",
    "    # Count the classifications\n",
    "    comp_counts = comp_classified.groupBy(\"time_window\").agg(count(\"*\").alias(\"count\"))\n",
    "\n",
    "    # Add a column to tag which complication it is\n",
    "    comp_counts = comp_counts.withColumn(\"complication\", F.lit(comp))\n",
    "\n",
    "    counts_by_complication.append(comp_counts)\n",
    "\n",
    "# Combine all into a single DataFrame\n",
    "diagnosis_window_counts_df = reduce(lambda df1, df2: df1.unionByName(df2), counts_by_complication)\n",
    "\n",
    "# Reorder for clarity\n",
    "diagnosis_window_counts_df = diagnosis_window_counts_df.select(\"complication\", \"time_window\", \"count\")\n",
    "\n",
    "# Display the result\n",
    "diagnosis_window_counts_df.orderBy(\"complication\", \"time_window\").show(50, truncate=False)\n"
   ],
   "id": "680835ee5d3fa39d",
   "outputs": [
    {
     "name": "stderr",
     "output_type": "stream",
     "text": [
      "[Stage 384:======================================>                  (2 + 1) / 3]\r"
     ]
    },
    {
     "name": "stdout",
     "output_type": "stream",
     "text": [
      "+--------------+-----------+-----+\n",
      "|complication  |time_window|count|\n",
      "+--------------+-----------+-----+\n",
      "|cardiovascular|after_180d |3047 |\n",
      "|cardiovascular|within_180d|16035|\n",
      "|neuropathy    |after_180d |1727 |\n",
      "|neuropathy    |within_180d|4226 |\n",
      "+--------------+-----------+-----+\n",
      "\n"
     ]
    },
    {
     "name": "stderr",
     "output_type": "stream",
     "text": [
      "                                                                                \r"
     ]
    }
   ],
   "execution_count": 32
  },
  {
   "metadata": {
    "ExecuteTime": {
     "end_time": "2025-07-07T20:38:28.289275Z",
     "start_time": "2025-07-07T20:38:16.994830Z"
    }
   },
   "cell_type": "code",
   "source": [
    "# convert to Pandas\n",
    "diagnosis_window_counts_pd = diagnosis_window_counts_df.toPandas()"
   ],
   "id": "314ab601ea475005",
   "outputs": [
    {
     "name": "stderr",
     "output_type": "stream",
     "text": [
      "                                                                                \r"
     ]
    }
   ],
   "execution_count": 33
  },
  {
   "metadata": {
    "ExecuteTime": {
     "end_time": "2025-07-07T20:38:28.933522Z",
     "start_time": "2025-07-07T20:38:28.314488Z"
    }
   },
   "cell_type": "code",
   "source": [
    "# Pivot the data\n",
    "pivot_df = diagnosis_window_counts_pd.pivot(\n",
    "    index='complication',\n",
    "    columns='time_window',\n",
    "    values='count'\n",
    ").fillna(0)\n",
    "\n",
    "# Sort complications for visual consistency\n",
    "pivot_df = pivot_df.loc[[ \"neuropathy\",\"cardiovascular\"]]\n",
    "\n",
    "# Plot\n",
    "pivot_df.plot(kind='bar', stacked=True, figsize=(10, 6), color=['#1f77b4', '#ff7f0e'])\n",
    "\n",
    "# Labels and title\n",
    "plt.ylabel(\"Number of Diagnosed Patients\")\n",
    "plt.xlabel(\"Complication Type\")\n",
    "plt.title(\"Complication Diagnoses Within vs After 180 Days\")\n",
    "plt.xticks(rotation=45)\n",
    "plt.legend(title=\"Time of Diagnosis\", loc=\"upper right\")\n",
    "plt.tight_layout()\n",
    "\n",
    "plt.show()\n"
   ],
   "id": "cbd060b083125371",
   "outputs": [
    {
     "data": {
      "text/plain": [
       "<Figure size 1000x600 with 1 Axes>"
      ],
      "image/png": "[encoded data removed]"
     },
     "metadata": {},
     "output_type": "display_data"
    }
   ],
   "execution_count": 34
  },
  {
   "metadata": {},
   "cell_type": "markdown",
   "source": "##### Define Time Windows",
   "id": "9424847ba889de39"
  },
  {
   "metadata": {
    "ExecuteTime": {
     "end_time": "2025-07-07T20:38:29.128248Z",
     "start_time": "2025-07-07T20:38:29.118820Z"
    }
   },
   "cell_type": "code",
   "source": [
    "# Step 1: Define optimized baseline-horizon windows per complication\n",
    "time_windows = {\n",
    "    \"cardiovascular\": (30, 730),\n",
    "    \"neuropathy\": (90, 365)\n",
    "}\n"
   ],
   "id": "98c2fc5da7ec3b6",
   "outputs": [],
   "execution_count": 35
  },
  {
   "metadata": {},
   "cell_type": "markdown",
   "source": "##### Generate Time-to-Complication Labels",
   "id": "b0c48cec9b73872d"
  },
  {
   "metadata": {
    "ExecuteTime": {
     "end_time": "2025-07-07T20:38:29.265099Z",
     "start_time": "2025-07-07T20:38:29.161697Z"
    }
   },
   "cell_type": "code",
   "source": [
    "\n",
    "# Join complications with diagnosis date\n",
    "diabetes_dx = first_admit_df.select(\"subject_id\", F.col(\"first_admit_time\").alias(\"diag_date\"))\n",
    "\n",
    "# This should already exist: multi_label has all complications\n",
    "multi_with_diag = time_df.join(diabetes_dx, \"subject_id\")\n",
    "\n",
    "# Create time-to-complication columns\n",
    "# --- Apply condition-specific windows to create binary labels ---\n",
    "for comp, (baseline, horizon) in time_windows.items():\n",
    "    days_col = f\"days_to_{comp}\"\n",
    "    label_col = f\"{comp}_label\"\n",
    "\n",
    "    time_df = time_df.withColumn(\n",
    "        label_col,\n",
    "        when(\n",
    "            (col(days_col).isNotNull()) &\n",
    "            (col(days_col) > baseline) &\n",
    "            (col(days_col) <= (baseline + horizon)),\n",
    "            1\n",
    "        ).otherwise(0)\n",
    "    )\n"
   ],
   "id": "1975e16228c2106e",
   "outputs": [],
   "execution_count": 36
  },
  {
   "metadata": {
    "ExecuteTime": {
     "end_time": "2025-07-07T20:38:40.181891Z",
     "start_time": "2025-07-07T20:38:29.315796Z"
    }
   },
   "cell_type": "code",
   "source": "time_df.select(\"subject_id\", *[f\"{comp}_label\" for comp in time_windows]).show(10)\n",
   "id": "c1917968c0a40299",
   "outputs": [
    {
     "name": "stderr",
     "output_type": "stream",
     "text": [
      "[Stage 430:==============>                                          (1 + 3) / 4]\r"
     ]
    },
    {
     "name": "stdout",
     "output_type": "stream",
     "text": [
      "+----------+--------------------+----------------+\n",
      "|subject_id|cardiovascular_label|neuropathy_label|\n",
      "+----------+--------------------+----------------+\n",
      "|  10000980|                   1|               0|\n",
      "|  10004422|                   0|               0|\n",
      "|  10005348|                   0|               0|\n",
      "|  10005565|                   0|               0|\n",
      "|  10008100|                   0|               0|\n",
      "|  10009635|                   0|               0|\n",
      "|  10010424|                   0|               0|\n",
      "|  10011668|                   1|               0|\n",
      "|  10015860|                   0|               0|\n",
      "|  10016367|                   1|               0|\n",
      "+----------+--------------------+----------------+\n",
      "only showing top 10 rows\n",
      "\n"
     ]
    },
    {
     "name": "stderr",
     "output_type": "stream",
     "text": [
      "                                                                                \r"
     ]
    }
   ],
   "execution_count": 37
  },
  {
   "metadata": {},
   "cell_type": "markdown",
   "source": "##### Enforce Minimum Follow-Up",
   "id": "2697e8816e4a5563"
  },
  {
   "metadata": {
    "ExecuteTime": {
     "end_time": "2025-07-07T20:38:40.496415Z",
     "start_time": "2025-07-07T20:38:40.379167Z"
    }
   },
   "cell_type": "code",
   "source": [
    "from pyspark.sql.functions import col, datediff, max as spark_max, min as spark_min\n",
    "\n",
    "# Step 1: Calculate max required follow-up duration (baseline + horizon + 90d buffer)\n",
    "# Use built-in max here since it's just a Python list comprehension\n",
    "import builtins\n",
    "max_required_days = builtins.max([b + h for b, h in time_windows.values()]) + 90\n",
    "\n",
    "# Step 2: Compute min(admittime) and max(dischtime)\n",
    "followup_df = admissions_df.groupBy(\"subject_id\").agg(\n",
    "    spark_min(\"admittime\").alias(\"min_admittime\"),\n",
    "    spark_max(\"dischtime\").alias(\"max_dischtime\")\n",
    ")\n",
    "\n",
    "# Step 2b: Compute actual follow-up duration\n",
    "followup_df = followup_df.withColumn(\n",
    "    \"followup_days\",\n",
    "    datediff(col(\"max_dischtime\"), col(\"min_admittime\"))\n",
    ")\n",
    "\n",
    "# Step 3: Join and filter patients who have sufficient follow-up\n",
    "labeled_df = time_df.join(followup_df, on=\"subject_id\")\n",
    "labeled_df = labeled_df.filter(col(\"followup_days\") >= max_required_days)\n"
   ],
   "id": "68df285217f3d58f",
   "outputs": [],
   "execution_count": 38
  },
  {
   "metadata": {},
   "cell_type": "markdown",
   "source": "##### Show Final Label Distribution",
   "id": "c1c56a529a4fe688"
  },
  {
   "metadata": {
    "ExecuteTime": {
     "end_time": "2025-07-07T20:39:22.334925Z",
     "start_time": "2025-07-07T20:38:40.759600Z"
    }
   },
   "cell_type": "code",
   "source": [
    "# Step 5: Print counts of each label\n",
    "total = labeled_df.count()\n",
    "for comp in time_windows.keys():\n",
    "    label_col = f\"{comp}_label\"\n",
    "    count = labeled_df.filter(F.col(label_col) == 1).count()\n",
    "    print(f\"{comp}: {count}/{total} = {(count / total * 100):.2f}%\")\n"
   ],
   "id": "4bd65a66b4c49f0d",
   "outputs": [
    {
     "name": "stderr",
     "output_type": "stream",
     "text": [
      "                                                                                \r"
     ]
    },
    {
     "name": "stdout",
     "output_type": "stream",
     "text": [
      "cardiovascular: 1150/9541 = 12.05%\n"
     ]
    },
    {
     "name": "stderr",
     "output_type": "stream",
     "text": [
      "[Stage 540:>                                                        (0 + 4) / 4]\r"
     ]
    },
    {
     "name": "stdout",
     "output_type": "stream",
     "text": [
      "neuropathy: 381/9541 = 3.99%\n"
     ]
    },
    {
     "name": "stderr",
     "output_type": "stream",
     "text": [
      "                                                                                \r"
     ]
    }
   ],
   "execution_count": 39
  },
  {
   "metadata": {},
   "cell_type": "markdown",
   "source": "##### check coverage of key lab tests per complication",
   "id": "6a27e6ff0226b6b6"
  },
  {
   "metadata": {
    "ExecuteTime": {
     "end_time": "2025-07-07T20:39:22.503597Z",
     "start_time": "2025-07-07T20:39:22.419368Z"
    }
   },
   "cell_type": "code",
   "source": [
    "confirmed_diabetes_codes = [\"250\", \"E10\", \"E11\"]  # ICD9 and ICD10 base codes\n",
    "\n",
    "first_diabetes_dx = diagnoses_df.filter(\n",
    "    F.col(\"icd_code\").rlike(\"^(\" + \"|\".join(confirmed_diabetes_codes) + \")\")\n",
    ").join(admissions_df.select(\"subject_id\", \"hadm_id\", \"admittime\"),\n",
    "       on=[\"subject_id\", \"hadm_id\"], how=\"left\") \\\n",
    " .groupBy(\"subject_id\").agg(\n",
    "     F.min(\"admittime\").alias(\"diag_date\")\n",
    ")\n"
   ],
   "id": "4e515dc30bb804c0",
   "outputs": [],
   "execution_count": 40
  },
  {
   "metadata": {
    "ExecuteTime": {
     "end_time": "2025-07-07T20:39:22.762404Z",
     "start_time": "2025-07-07T20:39:22.628275Z"
    }
   },
   "cell_type": "code",
   "source": [
    "from pyspark.sql.functions import col, countDistinct\n",
    "\n",
    "# Filter for relevant labs\n",
    "relevant_itemids = list(selected_lab_items.values())\n",
    "filtered_labs = labs_df.filter(col(\"itemid\").isin(relevant_itemids))\n",
    "\n",
    "# Join lab events with diabetes diagnosis date\n",
    "lab_with_diag = filtered_labs.join(first_diabetes_dx, \"subject_id\")\n",
    "\n",
    "# Parse charttime as timestamp if not already\n",
    "lab_with_diag = lab_with_diag.withColumn(\"charttime\", col(\"charttime\").cast(\"timestamp\"))\n",
    "\n",
    "spark.conf.set(\"spark.sql.autoBroadcastJoinThreshold\", -1)\n",
    "\n",
    "\n",
    "# Get per-complication lab coverage within (baseline, horizon) window\n",
    "# for comp, (baseline, horizon) in time_windows.items():\n",
    "#     print(f\"\\n🧪 Lab Coverage for {comp.upper()} ({baseline}–{horizon} days):\")\n",
    "#\n",
    "#     # Get positive cases\n",
    "#     positives = labeled_df.filter(col(f\"{comp}_label\") == 1).select(\"subject_id\")\n",
    "#\n",
    "#     for lab_name, itemid in selected_lab_items.items():\n",
    "#         # Join with lab data\n",
    "#         comp_labs = lab_with_diag.filter(col(\"itemid\") == itemid) \\\n",
    "#             .join(positives, \"subject_id\") \\\n",
    "#             .withColumn(\"days_post_diag\", F.datediff(\"charttime\", col(\"diag_date\"))) \\\n",
    "#             .filter((col(\"days_post_diag\") > baseline) & (col(\"days_post_diag\") <= horizon))\n",
    "#\n",
    "#         patient_count = comp_labs.select(\"subject_id\").distinct().count()\n",
    "#         print(f\"  - {lab_name}: {patient_count} patients\")\n"
   ],
   "id": "e4c149e5d921217a",
   "outputs": [],
   "execution_count": 41
  },
  {
   "metadata": {
    "ExecuteTime": {
     "end_time": "2025-07-07T20:39:23.892646Z",
     "start_time": "2025-07-07T20:39:22.898800Z"
    }
   },
   "cell_type": "code",
   "source": "patients_df = spark.read.csv(os.path.join(DATA_PATH, \"patients.csv.gz\"), header=True, inferSchema=True)\n",
   "id": "a13dcb09ef680f0e",
   "outputs": [
    {
     "name": "stderr",
     "output_type": "stream",
     "text": [
      "                                                                                \r"
     ]
    }
   ],
   "execution_count": 42
  },
  {
   "metadata": {
    "ExecuteTime": {
     "end_time": "2025-07-07T20:39:23.953870Z",
     "start_time": "2025-07-07T20:39:23.940354Z"
    }
   },
   "cell_type": "code",
   "source": [
    "\n",
    "patients_df.printSchema()"
   ],
   "id": "f9b4ff161952c2ec",
   "outputs": [
    {
     "name": "stdout",
     "output_type": "stream",
     "text": [
      "root\n",
      " |-- subject_id: integer (nullable = true)\n",
      " |-- gender: string (nullable = true)\n",
      " |-- anchor_age: integer (nullable = true)\n",
      " |-- anchor_year: integer (nullable = true)\n",
      " |-- anchor_year_group: string (nullable = true)\n",
      " |-- dod: date (nullable = true)\n",
      "\n"
     ]
    }
   ],
   "execution_count": 43
  },
  {
   "metadata": {
    "ExecuteTime": {
     "end_time": "2025-07-07T20:39:24.210919Z",
     "start_time": "2025-07-07T20:39:24.069451Z"
    }
   },
   "cell_type": "code",
   "source": "patients_df.show(5)",
   "id": "cf5647181c52be89",
   "outputs": [
    {
     "name": "stdout",
     "output_type": "stream",
     "text": [
      "+----------+------+----------+-----------+-----------------+----------+\n",
      "|subject_id|gender|anchor_age|anchor_year|anchor_year_group|       dod|\n",
      "+----------+------+----------+-----------+-----------------+----------+\n",
      "|  10000032|     F|        52|       2180|      2014 - 2016|2180-09-09|\n",
      "|  10000048|     F|        23|       2126|      2008 - 2010|      NULL|\n",
      "|  10000058|     F|        33|       2168|      2020 - 2022|      NULL|\n",
      "|  10000068|     F|        19|       2160|      2008 - 2010|      NULL|\n",
      "|  10000084|     M|        72|       2160|      2017 - 2019|2161-02-13|\n",
      "+----------+------+----------+-----------+-----------------+----------+\n",
      "only showing top 5 rows\n",
      "\n"
     ]
    }
   ],
   "execution_count": 44
  },
  {
   "metadata": {
    "ExecuteTime": {
     "end_time": "2025-07-07T20:39:24.389591Z",
     "start_time": "2025-07-07T20:39:24.352898Z"
    }
   },
   "cell_type": "code",
   "source": [
    "# Use anchor_age directly (already precomputed) instead of computing from dob\n",
    "patients_clean = patients_df.select(\"subject_id\", \"gender\", \"anchor_age\", \"dod\")\n"
   ],
   "id": "b081285d5e0a1d57",
   "outputs": [],
   "execution_count": 45
  },
  {
   "metadata": {
    "ExecuteTime": {
     "end_time": "2025-07-07T20:39:24.977149Z",
     "start_time": "2025-07-07T20:39:24.895664Z"
    }
   },
   "cell_type": "code",
   "source": [
    "# Add at the top of Code B| remove this code as there's a similar one doing the same thing above\n",
    "from pyspark.sql.functions import col, datediff, avg\n",
    "\n",
    "# Prepare lab_with_diag as done in Code A\n",
    "relevant_itemids = list(selected_lab_items.values())\n",
    "filtered_labs = labs_df.filter(col(\"itemid\").isin(relevant_itemids))\n",
    "lab_with_diag = filtered_labs.join(first_diabetes_dx, \"subject_id\")\n",
    "lab_with_diag = lab_with_diag.withColumn(\"charttime\", col(\"charttime\").cast(\"timestamp\"))\n"
   ],
   "id": "2a825b727e75def9",
   "outputs": [],
   "execution_count": 46
  },
  {
   "metadata": {
    "ExecuteTime": {
     "end_time": "2025-07-07T20:40:27.357446Z",
     "start_time": "2025-07-07T20:39:25.153006Z"
    }
   },
   "cell_type": "code",
   "source": [
    "from pyspark.sql.functions import col, datediff, avg\n",
    "from functools import reduce\n",
    "import builtins\n",
    "\n",
    "print(\"✅ Starting final cohort construction...\")\n",
    "\n",
    "# STEP 1: Add demographics\n",
    "print(\"📌 Step 1: Adding demographics...\")\n",
    "\n",
    "patients_clean = patients_df.select(\"subject_id\", \"gender\", \"anchor_age\")\n",
    "\n",
    "\n",
    "final_cohort_df = labeled_df \\\n",
    "    .join(first_diabetes_dx, \"subject_id\") \\\n",
    "    .join(patients_clean.select(\"subject_id\", \"gender\", \"anchor_age\"), \"subject_id\", \"left\") \\\n",
    "    .join(admissions_df.select(\"subject_id\", \"insurance\", \"marital_status\", \"race\"), \"subject_id\", \"left\") \\\n",
    "    .select(\n",
    "        \"subject_id\", \"diag_date\", \"gender\", \"anchor_age\",\n",
    "        \"insurance\", \"marital_status\", *[f\"{comp}_label\" for comp in time_windows.keys()]\n",
    "    )\n",
    "\n",
    "print(\"✅ Demographics + labels merged. Preview:\")\n",
    "final_cohort_df.show(5)\n",
    "print(\"🎯 Total subjects:\", final_cohort_df.count())\n",
    "\n",
    "# STEP 2: Filter out nulls and restrict to adults\n",
    "print(\"📌 Step 2: Filtering nulls and age < 18...\")\n",
    "final_cohort_df = final_cohort_df.filter(\n",
    "    (col(\"anchor_age\").isNotNull()) &\n",
    "    (col(\"gender\").isNotNull()) &\n",
    "    (col(\"anchor_age\") >= 18)\n",
    ")\n",
    "\n",
    "print(\"✅ Filtered cohort. Remaining subjects:\", final_cohort_df.count())\n",
    "\n"
   ],
   "id": "af4d15e3dcca1aa5",
   "outputs": [
    {
     "name": "stdout",
     "output_type": "stream",
     "text": [
      "✅ Starting final cohort construction...\n",
      "📌 Step 1: Adding demographics...\n",
      "✅ Demographics + labels merged. Preview:\n"
     ]
    },
    {
     "name": "stderr",
     "output_type": "stream",
     "text": [
      "                                                                                \r"
     ]
    },
    {
     "name": "stdout",
     "output_type": "stream",
     "text": [
      "+----------+-------------------+------+----------+---------+--------------+--------------------+----------------+\n",
      "|subject_id|          diag_date|gender|anchor_age|insurance|marital_status|cardiovascular_label|neuropathy_label|\n",
      "+----------+-------------------+------+----------+---------+--------------+--------------------+----------------+\n",
      "|  10000980|2188-01-03 17:41:00|     F|        73| Medicare|       MARRIED|                   1|               0|\n",
      "|  10000980|2188-01-03 17:41:00|     F|        73| Medicare|       MARRIED|                   1|               0|\n",
      "|  10000980|2188-01-03 17:41:00|     F|        73| Medicare|       MARRIED|                   1|               0|\n",
      "|  10000980|2188-01-03 17:41:00|     F|        73| Medicare|       MARRIED|                   1|               0|\n",
      "|  10000980|2188-01-03 17:41:00|     F|        73| Medicare|       MARRIED|                   1|               0|\n",
      "+----------+-------------------+------+----------+---------+--------------+--------------------+----------------+\n",
      "only showing top 5 rows\n",
      "\n"
     ]
    },
    {
     "name": "stderr",
     "output_type": "stream",
     "text": [
      "                                                                                \r"
     ]
    },
    {
     "name": "stdout",
     "output_type": "stream",
     "text": [
      "🎯 Total subjects: 50402\n",
      "📌 Step 2: Filtering nulls and age < 18...\n"
     ]
    },
    {
     "name": "stderr",
     "output_type": "stream",
     "text": [
      "[Stage 653:>                                                        (0 + 1) / 1]\r"
     ]
    },
    {
     "name": "stdout",
     "output_type": "stream",
     "text": [
      "✅ Filtered cohort. Remaining subjects: 50402\n"
     ]
    },
    {
     "name": "stderr",
     "output_type": "stream",
     "text": [
      "                                                                                \r"
     ]
    }
   ],
   "execution_count": 47
  },
  {
   "metadata": {
    "ExecuteTime": {
     "end_time": "2025-07-07T21:52:43.220166Z",
     "start_time": "2025-07-07T20:40:27.514942Z"
    }
   },
   "cell_type": "code",
   "source": [
    "\n",
    "# STEP 3: Aggregate lab values\n",
    "print(\"📌 Step 3: Aggregating lab values within complication windows...\")\n",
    "\n",
    "lab_agg_dfs = []\n",
    "for comp, (baseline, horizon) in time_windows.items():\n",
    "    print(f\"🔬 {comp.upper()} lab window: {baseline}-{horizon} days\")\n",
    "    label_col = f\"{comp}_label\"\n",
    "    comp_patients = labeled_df.filter(col(label_col) == 1).select(\"subject_id\").distinct()\n",
    "\n",
    "    for lab_name, itemid in selected_lab_items.items():\n",
    "        lab_subset = lab_with_diag.filter(col(\"itemid\") == itemid) \\\n",
    "            .join(comp_patients, \"subject_id\") \\\n",
    "            .withColumn(\"days_post_diag\", datediff(col(\"charttime\"), col(\"diag_date\"))) \\\n",
    "            .filter((col(\"days_post_diag\") > baseline) & (col(\"days_post_diag\") <= horizon)) \\\n",
    "            .groupBy(\"subject_id\").agg(avg(\"valuenum\").alias(f\"{comp}_{lab_name}_mean\"))\n",
    "\n",
    "        count_rows = lab_subset.count()\n",
    "        print(f\"   ➤ {lab_name}: {count_rows} patients with lab values\")\n",
    "        lab_agg_dfs.append(lab_subset)\n"
   ],
   "id": "190ecfe33acd5ff7",
   "outputs": [
    {
     "name": "stdout",
     "output_type": "stream",
     "text": [
      "📌 Step 3: Aggregating lab values within complication windows...\n",
      "🔬 CARDIOVASCULAR lab window: 30-730 days\n"
     ]
    },
    {
     "name": "stderr",
     "output_type": "stream",
     "text": [
      "                                                                                \r"
     ]
    },
    {
     "name": "stdout",
     "output_type": "stream",
     "text": [
      "   ➤ glucose: 625 patients with lab values\n"
     ]
    },
    {
     "name": "stderr",
     "output_type": "stream",
     "text": [
      "                                                                                \r"
     ]
    },
    {
     "name": "stdout",
     "output_type": "stream",
     "text": [
      "   ➤ a1c: 462 patients with lab values\n"
     ]
    },
    {
     "name": "stderr",
     "output_type": "stream",
     "text": [
      "                                                                                \r"
     ]
    },
    {
     "name": "stdout",
     "output_type": "stream",
     "text": [
      "   ➤ creatinine: 639 patients with lab values\n"
     ]
    },
    {
     "name": "stderr",
     "output_type": "stream",
     "text": [
      "                                                                                \r"
     ]
    },
    {
     "name": "stdout",
     "output_type": "stream",
     "text": [
      "   ➤ albumin: 472 patients with lab values\n"
     ]
    },
    {
     "name": "stderr",
     "output_type": "stream",
     "text": [
      "                                                                                \r"
     ]
    },
    {
     "name": "stdout",
     "output_type": "stream",
     "text": [
      "   ➤ albumin_creatinine_ratio: 217 patients with lab values\n"
     ]
    },
    {
     "name": "stderr",
     "output_type": "stream",
     "text": [
      "                                                                                \r"
     ]
    },
    {
     "name": "stdout",
     "output_type": "stream",
     "text": [
      "   ➤ ldl: 117 patients with lab values\n"
     ]
    },
    {
     "name": "stderr",
     "output_type": "stream",
     "text": [
      "                                                                                \r"
     ]
    },
    {
     "name": "stdout",
     "output_type": "stream",
     "text": [
      "   ➤ hdl: 402 patients with lab values\n"
     ]
    },
    {
     "name": "stderr",
     "output_type": "stream",
     "text": [
      "                                                                                \r"
     ]
    },
    {
     "name": "stdout",
     "output_type": "stream",
     "text": [
      "   ➤ triglycerides: 392 patients with lab values\n",
      "🔬 NEUROPATHY lab window: 90-365 days\n"
     ]
    },
    {
     "name": "stderr",
     "output_type": "stream",
     "text": [
      "                                                                                \r"
     ]
    },
    {
     "name": "stdout",
     "output_type": "stream",
     "text": [
      "   ➤ glucose: 275 patients with lab values\n"
     ]
    },
    {
     "name": "stderr",
     "output_type": "stream",
     "text": [
      "                                                                                \r"
     ]
    },
    {
     "name": "stdout",
     "output_type": "stream",
     "text": [
      "   ➤ a1c: 157 patients with lab values\n"
     ]
    },
    {
     "name": "stderr",
     "output_type": "stream",
     "text": [
      "                                                                                \r"
     ]
    },
    {
     "name": "stdout",
     "output_type": "stream",
     "text": [
      "   ➤ creatinine: 284 patients with lab values\n"
     ]
    },
    {
     "name": "stderr",
     "output_type": "stream",
     "text": [
      "                                                                                \r"
     ]
    },
    {
     "name": "stdout",
     "output_type": "stream",
     "text": [
      "   ➤ albumin: 174 patients with lab values\n"
     ]
    },
    {
     "name": "stderr",
     "output_type": "stream",
     "text": [
      "                                                                                \r"
     ]
    },
    {
     "name": "stdout",
     "output_type": "stream",
     "text": [
      "   ➤ albumin_creatinine_ratio: 53 patients with lab values\n"
     ]
    },
    {
     "name": "stderr",
     "output_type": "stream",
     "text": [
      "                                                                                \r"
     ]
    },
    {
     "name": "stdout",
     "output_type": "stream",
     "text": [
      "   ➤ ldl: 21 patients with lab values\n"
     ]
    },
    {
     "name": "stderr",
     "output_type": "stream",
     "text": [
      "                                                                                \r"
     ]
    },
    {
     "name": "stdout",
     "output_type": "stream",
     "text": [
      "   ➤ hdl: 108 patients with lab values\n"
     ]
    },
    {
     "name": "stderr",
     "output_type": "stream",
     "text": [
      "[Stage 1526:>                                                       (0 + 1) / 1]\r"
     ]
    },
    {
     "name": "stdout",
     "output_type": "stream",
     "text": [
      "   ➤ triglycerides: 107 patients with lab values\n"
     ]
    },
    {
     "name": "stderr",
     "output_type": "stream",
     "text": [
      "                                                                                \r"
     ]
    }
   ],
   "execution_count": 48
  },
  {
   "metadata": {
    "ExecuteTime": {
     "end_time": "2025-07-08T02:50:22.726487Z",
     "start_time": "2025-07-08T02:02:45.981563Z"
    }
   },
   "cell_type": "code",
   "source": [
    "from functools import reduce\n",
    "\n",
    "# # STEP 4: Merge all lab aggregates\n",
    "# print(\"📌 Step 4: Merging all lab features...\")\n",
    "# # Start with an empty DataFrame (or first one)\n",
    "# lab_features_df = lab_agg_dfs[0]\n",
    "#\n",
    "# for i, df in enumerate(lab_agg_dfs[1:], start=2):\n",
    "#     print(f\"🔁 Merging {i}/{len(lab_agg_dfs)}...\")\n",
    "#     lab_features_df = lab_features_df.join(df, on=\"subject_id\", how=\"outer\")\n",
    "from pyspark.sql import DataFrame\n",
    "from tqdm import tqdm  # ✅ Import tqdm\n",
    "\n",
    "spark.sparkContext.setCheckpointDir(\"/tmp/checkpoints\")\n",
    "\n",
    "def tree_join(dfs: list[DataFrame]) -> DataFrame:\n",
    "    # Wrap the loop with tqdm to show a progress bar\n",
    "    pbar = tqdm(total=len(dfs), desc=\"Merging DataFrames\", ncols=100)\n",
    "\n",
    "    while len(dfs) > 1:\n",
    "        new_dfs = []\n",
    "        for i in range(0, len(dfs), 2):\n",
    "            if i + 1 < len(dfs):\n",
    "                merged = dfs[i].join(dfs[i+1], on=\"subject_id\", how=\"outer\")\n",
    "                merged = merged.checkpoint(eager=True)  # BREAK LINEAGE HERE\n",
    "                new_dfs.append(merged)\n",
    "            else:\n",
    "                new_dfs.append(dfs[i])\n",
    "\n",
    "            # Update the progress bar after each merge step\n",
    "            pbar.update(1)\n",
    "\n",
    "        dfs = new_dfs\n",
    "\n",
    "    pbar.close()  # Close the progress bar after completion\n",
    "    return dfs[0]\n",
    "\n",
    "print(\"📌 Step 4: Merging with tree reduction...\")\n",
    "lab_features_df = tree_join(lab_agg_dfs)\n"
   ],
   "id": "3c83387cf1e8f0db",
   "outputs": [
    {
     "name": "stdout",
     "output_type": "stream",
     "text": [
      "📌 Step 4: Merging with tree reduction...\n"
     ]
    },
    {
     "name": "stderr",
     "output_type": "stream",
     "text": [
      "Merging DataFrames:  94%|███████████████████████████████████████▍  | 15/16 [47:35<03:10, 190.39s/it]\n"
     ]
    }
   ],
   "execution_count": 51
  },
  {
   "metadata": {
    "ExecuteTime": {
     "end_time": "2025-07-08T02:50:34.745888Z",
     "start_time": "2025-07-08T02:50:23.714944Z"
    }
   },
   "cell_type": "code",
   "source": [
    "(lab_features_df\n",
    " .repartition(200, \"subject_id\")  # Adjust partition count\n",
    " .write\n",
    " .mode(\"overwrite\")\n",
    " .option(\"maxRecordsPerFile\", 100000)  # Control file size\n",
    " .parquet(\"lab_features_df.parquet\"))"
   ],
   "id": "cdf0630d6eec1e4a",
   "outputs": [
    {
     "name": "stderr",
     "output_type": "stream",
     "text": [
      "                                                                                \r"
     ]
    }
   ],
   "execution_count": 52
  },
  {
   "metadata": {
    "ExecuteTime": {
     "end_time": "2025-07-08T02:50:35.171649Z",
     "start_time": "2025-07-08T02:50:34.958954Z"
    }
   },
   "cell_type": "code",
   "source": [
    "print(\"✅ Lab features ready. Preview:\")\n",
    "lab_features_df.show(5)"
   ],
   "id": "ea0f7983eec417de",
   "outputs": [
    {
     "name": "stdout",
     "output_type": "stream",
     "text": [
      "✅ Lab features ready. Preview:\n",
      "+----------+---------------------------+-----------------------+------------------------------+---------------------------+--------------------------------------------+-----------------------+-----------------------+---------------------------------+-----------------------+-------------------+--------------------------+-----------------------+----------------------------------------+-------------------+-------------------+-----------------------------+\n",
      "|subject_id|cardiovascular_glucose_mean|cardiovascular_a1c_mean|cardiovascular_creatinine_mean|cardiovascular_albumin_mean|cardiovascular_albumin_creatinine_ratio_mean|cardiovascular_ldl_mean|cardiovascular_hdl_mean|cardiovascular_triglycerides_mean|neuropathy_glucose_mean|neuropathy_a1c_mean|neuropathy_creatinine_mean|neuropathy_albumin_mean|neuropathy_albumin_creatinine_ratio_mean|neuropathy_ldl_mean|neuropathy_hdl_mean|neuropathy_triglycerides_mean|\n",
      "+----------+---------------------------+-----------------------+------------------------------+---------------------------+--------------------------------------------+-----------------------+-----------------------+---------------------------------+-----------------------+-------------------+--------------------------+-----------------------+----------------------------------------+-------------------+-------------------+-----------------------------+\n",
      "|  10000980|         126.45454545454545|                    7.0|             2.282352941176471|                       4.54|                                        11.6|                   NULL|                   59.5|                            169.0|                   NULL|               NULL|                      NULL|                   NULL|                                    NULL|               NULL|               NULL|                         NULL|\n",
      "|  10047587|                     132.84|                  6.875|            1.3239999999999998|                       4.05|                                        NULL|                   NULL|                   32.0|                            252.0|                   NULL|               NULL|                      NULL|                   NULL|                                    NULL|               NULL|               NULL|                         NULL|\n",
      "|  10098993|         134.93548387096774|                   NULL|                      1.253125|                        4.0|                                        NULL|                   NULL|                   NULL|                             NULL|                   NULL|               NULL|                      NULL|                   NULL|                                    NULL|               NULL|               NULL|                         NULL|\n",
      "|  10104308|         194.78666666666666|                  10.85|            3.7166666666666686|         3.2285714285714286|                                        NULL|                   NULL|                   NULL|                            155.0|                   NULL|               NULL|                      NULL|                   NULL|                                    NULL|               NULL|               NULL|                         NULL|\n",
      "|  10113857|                       NULL|                   NULL|                          NULL|                       NULL|                                        NULL|                   NULL|                   NULL|                             NULL|     117.92857142857143|  6.300000000000001|         2.857142857142857|                   NULL|                                    NULL|               NULL|               NULL|                         NULL|\n",
      "+----------+---------------------------+-----------------------+------------------------------+---------------------------+--------------------------------------------+-----------------------+-----------------------+---------------------------------+-----------------------+-------------------+--------------------------+-----------------------+----------------------------------------+-------------------+-------------------+-----------------------------+\n",
      "only showing top 5 rows\n",
      "\n"
     ]
    }
   ],
   "execution_count": 53
  },
  {
   "metadata": {
    "ExecuteTime": {
     "end_time": "2025-07-08T02:50:57.059365Z",
     "start_time": "2025-07-08T02:50:35.278886Z"
    }
   },
   "cell_type": "code",
   "source": [
    "\n",
    "# STEP 5: Final join\n",
    "print(\"📌 Step 5: Joining lab features with main cohort...\")\n",
    "final_cohort_df = final_cohort_df.join(lab_features_df, \"subject_id\", \"left\")\n",
    "\n",
    "print(\"✅ Final cohort ready. Columns:\", final_cohort_df.columns)\n",
    "print(\"🎯 Final subject count:\", final_cohort_df.count())\n"
   ],
   "id": "ddd2a5bbc779d969",
   "outputs": [
    {
     "name": "stdout",
     "output_type": "stream",
     "text": [
      "📌 Step 5: Joining lab features with main cohort...\n",
      "✅ Final cohort ready. Columns: ['subject_id', 'diag_date', 'gender', 'anchor_age', 'insurance', 'marital_status', 'cardiovascular_label', 'neuropathy_label', 'cardiovascular_glucose_mean', 'cardiovascular_a1c_mean', 'cardiovascular_creatinine_mean', 'cardiovascular_albumin_mean', 'cardiovascular_albumin_creatinine_ratio_mean', 'cardiovascular_ldl_mean', 'cardiovascular_hdl_mean', 'cardiovascular_triglycerides_mean', 'neuropathy_glucose_mean', 'neuropathy_a1c_mean', 'neuropathy_creatinine_mean', 'neuropathy_albumin_mean', 'neuropathy_albumin_creatinine_ratio_mean', 'neuropathy_ldl_mean', 'neuropathy_hdl_mean', 'neuropathy_triglycerides_mean']\n"
     ]
    },
    {
     "name": "stderr",
     "output_type": "stream",
     "text": [
      "[Stage 2284:>                                                       (0 + 4) / 4]\r"
     ]
    },
    {
     "name": "stdout",
     "output_type": "stream",
     "text": [
      "🎯 Final subject count: 50402\n"
     ]
    },
    {
     "name": "stderr",
     "output_type": "stream",
     "text": [
      "                                                                                \r"
     ]
    }
   ],
   "execution_count": 54
  },
  {
   "metadata": {
    "ExecuteTime": {
     "end_time": "2025-07-08T09:15:51.665226Z",
     "start_time": "2025-07-08T09:15:08.798269Z"
    }
   },
   "cell_type": "code",
   "source": [
    "\n",
    "# STEP 6: Save final DataFrame\n",
    "print(\"📁 Saving to 'final_cohort.parquet' ...\")\n",
    "final_cohort_df.write.mode(\"overwrite\").parquet(\"final_cohort.parquet\")\n",
    "print(\"✅ Saved successfully.\")\n"
   ],
   "id": "eccdccceec6d3078",
   "outputs": [
    {
     "name": "stdout",
     "output_type": "stream",
     "text": [
      "📁 Saving to 'final_cohort.parquet' ...\n"
     ]
    },
    {
     "name": "stderr",
     "output_type": "stream",
     "text": [
      "[Stage 2412:>                                                       (0 + 4) / 4]\r"
     ]
    },
    {
     "name": "stdout",
     "output_type": "stream",
     "text": [
      "✅ Saved successfully.\n"
     ]
    },
    {
     "name": "stderr",
     "output_type": "stream",
     "text": [
      "                                                                                \r"
     ]
    }
   ],
   "execution_count": 57
  },
  {
   "metadata": {},
   "cell_type": "code",
   "source": "",
   "id": "649f731c897382d1",
   "outputs": [],
   "execution_count": null
  }
 ],
 "metadata": {
  "kernelspec": {
   "display_name": "Python 3",
   "language": "python",
   "name": "python3"
  },
  "language_info": {
   "codemirror_mode": {
    "name": "ipython",
    "version": 2
   },
   "file_extension": ".py",
   "mimetype": "text/x-python",
   "name": "python",
   "nbconvert_exporter": "python",
   "pygments_lexer": "ipython2",
   "version": "2.7.6"
  }
 },
 "nbformat": 4,
 "nbformat_minor": 5
}
